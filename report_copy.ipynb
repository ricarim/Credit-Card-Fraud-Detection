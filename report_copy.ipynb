{
 "cells": [
  {
   "cell_type": "markdown",
   "metadata": {},
   "source": [
    "# Credit Card Fraud Detection"
   ]
  },
  {
   "cell_type": "markdown",
   "metadata": {},
   "source": [
    "## Required libraries "
   ]
  },
  {
   "cell_type": "code",
   "execution_count": 252,
   "metadata": {},
   "outputs": [],
   "source": [
    "import matplotlib.pyplot as plt\n",
    "import pandas as pd\n",
    "import seaborn as sns\n",
    "import numpy as np\n",
    "import cartopy.crs as ccrs\n",
    "import cartopy.feature as cfeature\n",
    "from adjustText import adjust_text\n",
    "from geopy.distance import geodesic\n",
    "from sklearn.preprocessing import StandardScaler\n",
    "from imblearn.over_sampling import SMOTE\n",
    "from sklearn.model_selection import train_test_split\n",
    "from sklearn.cluster import DBSCAN\n",
    "from sklearn.preprocessing import StandardScaler\n",
    "from sklearn.cluster import KMeans\n",
    "from sklearn.ensemble import RandomForestClassifier\n",
    "from sklearn.model_selection import GridSearchCV\n",
    "from sklearn.model_selection import RandomizedSearchCV\n",
    "from sklearn.metrics import roc_auc_score, roc_curve\n",
    "from sklearn.metrics import f1_score\n",
    "from xgboost import XGBClassifier\n",
    "import pickle\n",
    "import os\n",
    "from sklearn.impute import KNNImputer\n",
    "from sklearn.preprocessing import LabelEncoder\n",
    "from sklearn.neighbors import KNeighborsClassifier\n",
    "from sklearn.svm import SVC\n",
    "from sklearn.neural_network import MLPClassifier\n"
   ]
  },
  {
   "cell_type": "markdown",
   "metadata": {},
   "source": [
    "# Task 1: Data Understanding, Preparation and Descriptive Analytics"
   ]
  },
  {
   "cell_type": "markdown",
   "metadata": {},
   "source": [
    "## Introduction\n",
    "\n",
    "This report presents an exploratory analysis of the dataset provided for the Fraud Detection project. The dataset includes transaction records, customer demographics, merchant details, and city-level information. The primary objective of this analysis is to understand the data structure, identify key patterns, and prepare it for predictive modeling to classify transactions as fraudulent or legitimate.\n",
    "\n"
   ]
  },
  {
   "cell_type": "markdown",
   "metadata": {},
   "source": [
    "## 1.1- Data Understanding"
   ]
  },
  {
   "cell_type": "markdown",
   "metadata": {},
   "source": [
    "Data understanding is a critical step in any fraud detection project, as it involves exploring and analyzing the dataset to gain insights into its structure, content, and relevance for identifying fraudulent activities. This will help to ensure that the data aligns with the objectives of the fraud detection system and lays the foundation for effective model development and analysis. \n",
    "\n",
    "This phase will involve merging multiple datasets into a cohesive structure, examining the data to understand its content and quality, and summarizing key attributes to uncover initial patterns and relationships."
   ]
  },
  {
   "cell_type": "markdown",
   "metadata": {},
   "source": [
    "### <u>Merge the Datasets</u>"
   ]
  },
  {
   "cell_type": "markdown",
   "metadata": {},
   "source": [
    "The first step involved merging the datasets to form a unified dataset for analysis. "
   ]
  },
  {
   "cell_type": "markdown",
   "metadata": {},
   "source": [
    "I used the function `merge` from pandas library that implements SQL style joining operations."
   ]
  },
  {
   "cell_type": "markdown",
   "metadata": {},
   "source": [
    "In this case, `transactions` is our primary dataset, with each row representing a transaction record. I want to ensure that every transaction is retained in the final merged dataset, even if certain demographic, merchant, or city information is missing."
   ]
  },
  {
   "cell_type": "markdown",
   "metadata": {},
   "source": [
    "Using `how='left'` for each merge step ensures **all transactions are retained** in the final dataset, even if:\n",
    "\n",
    "- **Customer data is missing**: Transactions without a matching `cc_num` in `customers` will still appear, with `NaN` for customer details\n",
    "\n",
    "- **Merchant information is missing**: Transactions lacking a matching `merchant` in `merchants` are included, with `NaN` for merchant fields\n",
    "\n",
    "- **City data is missing**: If a customer’s `city` has no match in `cities`, the transaction is kept with `NaN` for city details\n"
   ]
  },
  {
   "cell_type": "code",
   "execution_count": 253,
   "metadata": {},
   "outputs": [
    {
     "name": "stdout",
     "output_type": "stream",
     "text": [
      "   index trans_date_trans_time            cc_num device_os     merchant  \\\n",
      "0   5381   2023-01-01 00:39:03  2801374844713453       NaN  Merchant_85   \n",
      "1   4008   2023-01-01 01:16:08  3460245159749480       NaN  Merchant_23   \n",
      "2   1221   2023-01-01 01:24:28  7308701990157768     macOS  Merchant_70   \n",
      "3   9609   2023-01-01 02:06:57  8454886440761098       X11  Merchant_33   \n",
      "4   5689   2023-01-01 02:10:54  6350332939133843       NaN  Merchant_90   \n",
      "\n",
      "      amt     trans_num   unix_time  is_fraud  first  ...      job  \\\n",
      "0  252.75  TRANS_662964  1672533543         0   Jane  ...      NaN   \n",
      "1  340.17  TRANS_134939  1672535768         0  Alice  ...    Nurse   \n",
      "2   76.38  TRANS_258923  1672536268         0    Bob  ...   Doctor   \n",
      "3  368.88  TRANS_226814  1672538817         0   Mike  ...  Teacher   \n",
      "4  323.32  TRANS_668449  1672539054         0   Mike  ...    Nurse   \n",
      "\n",
      "          dob       category  merch_lat  merch_long merchant_id      lat  \\\n",
      "0  2002-10-12            NaN        NaN   76.433212        85.0  41.8781   \n",
      "1  2001-12-23  Entertainment  27.177588  -64.857435        23.0  40.7128   \n",
      "2  1978-12-13    Electronics  31.730070  -67.777407        70.0  33.4484   \n",
      "3  1965-04-21    Electronics  -5.005953  146.873847        33.0  33.4484   \n",
      "4  1997-05-17      Groceries  79.065894   40.668693        90.0  40.7128   \n",
      "\n",
      "       long   city_pop  state  \n",
      "0  -87.6298  2716000.0     IL  \n",
      "1  -74.0060  8419600.0     NY  \n",
      "2 -112.0740  1680992.0     AZ  \n",
      "3 -112.0740  1680992.0     AZ  \n",
      "4  -74.0060  8419600.0     NY  \n",
      "\n",
      "[5 rows x 25 columns]\n"
     ]
    }
   ],
   "source": [
    "\n",
    "# Load Datasets\n",
    "transactions = pd.read_csv('data/transactions.csv')\n",
    "merchants = pd.read_csv('data/merchants.csv')\n",
    "customers = pd.read_csv('data/customers.csv')\n",
    "cities = pd.read_csv('data/cities.csv')\n",
    "\n",
    "# Merge the .csv files into one\n",
    "merged_data = pd.merge(transactions, customers, on='cc_num', how='left')\n",
    "merged_data = pd.merge(merged_data, merchants, on='merchant', how='left')\n",
    "merged_data = pd.merge(merged_data, cities, on='city', how='left')\n",
    "\n",
    "# Print merged dataset\n",
    "print(merged_data.head())\n",
    "\n",
    "# Save merged dataset into new file\n",
    "merged_data.to_csv('data/merged_data.csv', index=False)"
   ]
  },
  {
   "cell_type": "markdown",
   "metadata": {},
   "source": [
    "### <u>Data Examination</u> \n"
   ]
  },
  {
   "cell_type": "markdown",
   "metadata": {},
   "source": [
    "After merging, the dataset was examined for its structure and attribute types. Below is a brief description of the key attributes:"
   ]
  },
  {
   "cell_type": "markdown",
   "metadata": {},
   "source": [
    "| **Attribute**           | **Data Type**       | **Description**                                                                                       |\n",
    "|--------------------------|---------------------|-------------------------------------------------------------------------------------------------------|\n",
    "| `index`                 | Categorical  (Nominal)  | Index of the transaction record.                                                                     |\n",
    "| `trans_date_trans_time` | Categorical (Ordinal)          | Transaction date and time.                                                                           |\n",
    "| `cc_num`                | Categorical  (Nominal) | Credit card number used for the transaction.                                                         |\n",
    "| `device_os`             | Categorical (Nominal)       | Operating system of the device used (Windows, macOS, Linux, X11, other).                             |\n",
    "| `merchant`              | Categorical  (Nominal)       | Name of the merchant involved in the transaction.                                                    |\n",
    "| `amt`                   | Numerical (Ratio)| Monetary amount of the transaction.                                                                  |\n",
    "| `trans_num`             | Categorical  (Nominal)       | Unique transaction identifier.                                                                       |\n",
    "| `unix_time`             | Numerical   (Interval)        | Unix timestamp of the transaction (seconds since January 1, 1970).                                   |\n",
    "| `is_fraud`              | Categorical (Nominal)  | Indicates if the transaction was fraudulent (1 for fraud, 0 otherwise).                              |\n",
    "| `category`              | Categorical (Nominal)        | Business category of the merchant (e.g., groceries, travel).                                         |\n",
    "| `merch_lat`             | Numerical (Ratio)| Latitude of the merchant's location.                                                                 |\n",
    "| `merch_long`            | Numerical (Ratio)| Longitude of the merchant's location.                                                                |\n",
    "| `merchant_id`           | Categorical (Nominal)       | Unique identifier for the merchant.                                                                  |\n",
    "| `first`                 | Categorical (Nominal)        | Customer's first name.                                                                               |\n",
    "| `last`                  | Categorical (Nominal)       | Customer's last name.                                                                                |\n",
    "| `gender`                | Categorical (Nominal)        | Customer's gender.                                                                                   |\n",
    "| `street`                | Categorical (Nominal)        | Customer's street address.                                                                           |\n",
    "| `city`                  | Categorical (Nominal)       | City where the customer resides.                                                                     |\n",
    "| `zip`                   | Categorical (Nominal)        | Zip code of the customer's address.                                                                  |\n",
    "| `job`                   | Categorical  (Nominal)       | Customer's job/profession.                                                                           |\n",
    "| `dob`                   | Categorical (Ordinal)           | Customer's date of birth.                                                                            |\n",
    "| `name`                  | Categorical  (Nominal)       | Name of the city.                                                                                    |\n",
    "| `lat`                   | Numerical (Ratio) | Latitude of the city.                                                                                |\n",
    "| `long`                  |Numerical (Ratio)| Longitude of the city.                                                                               |\n",
    "| `city_pop`              | Numerical (Ratio)        | Population of the city.                                                                              |\n",
    "| `state`                 | Categorical  (Nominal)      | State where the city is located.                                                                     |\n"
   ]
  },
  {
   "cell_type": "markdown",
   "metadata": {},
   "source": [
    "### <u>Data Summarization</u>\n"
   ]
  },
  {
   "cell_type": "markdown",
   "metadata": {},
   "source": [
    "Data summarization is a foundational step that transforms raw data into actionable insights. It ensures that subsequent processes, like data visualization, feature engineering, and modeling, are based on a well-understood dataset, ultimately leading to better analytical outcomes."
   ]
  },
  {
   "cell_type": "code",
   "execution_count": 254,
   "metadata": {},
   "outputs": [
    {
     "name": "stdout",
     "output_type": "stream",
     "text": [
      "General Information:\n",
      "<class 'pandas.core.frame.DataFrame'>\n",
      "RangeIndex: 30000 entries, 0 to 29999\n",
      "Data columns (total 25 columns):\n",
      " #   Column                 Non-Null Count  Dtype  \n",
      "---  ------                 --------------  -----  \n",
      " 0   index                  30000 non-null  int64  \n",
      " 1   trans_date_trans_time  29900 non-null  object \n",
      " 2   cc_num                 30000 non-null  int64  \n",
      " 3   device_os              12036 non-null  object \n",
      " 4   merchant               30000 non-null  object \n",
      " 5   amt                    29900 non-null  float64\n",
      " 6   trans_num              30000 non-null  object \n",
      " 7   unix_time              30000 non-null  int64  \n",
      " 8   is_fraud               30000 non-null  int64  \n",
      " 9   first                  29990 non-null  object \n",
      " 10  last                   29990 non-null  object \n",
      " 11  gender                 29990 non-null  object \n",
      " 12  street                 29990 non-null  object \n",
      " 13  city                   29990 non-null  object \n",
      " 14  zip                    29784 non-null  float64\n",
      " 15  job                    29784 non-null  object \n",
      " 16  dob                    29990 non-null  object \n",
      " 17  category               29401 non-null  object \n",
      " 18  merch_lat              29401 non-null  float64\n",
      " 19  merch_long             29990 non-null  float64\n",
      " 20  merchant_id            29990 non-null  float64\n",
      " 21  lat                    10020 non-null  float64\n",
      " 22  long                   10020 non-null  float64\n",
      " 23  city_pop               10020 non-null  float64\n",
      " 24  state                  10020 non-null  object \n",
      "dtypes: float64(8), int64(4), object(13)\n",
      "memory usage: 5.7+ MB\n",
      "None\n"
     ]
    }
   ],
   "source": [
    "\n",
    "# Load the merged dataset\n",
    "merged_data = pd.read_csv('data/merged_data.csv')\n",
    "\n",
    "print(\"General Information:\")\n",
    "print(merged_data.info())\n"
   ]
  },
  {
   "cell_type": "code",
   "execution_count": 255,
   "metadata": {},
   "outputs": [
    {
     "name": "stdout",
     "output_type": "stream",
     "text": [
      "\n",
      "Summary Statistics for Numerical Variables:\n"
     ]
    },
    {
     "data": {
      "text/html": [
       "<div>\n",
       "<style scoped>\n",
       "    .dataframe tbody tr th:only-of-type {\n",
       "        vertical-align: middle;\n",
       "    }\n",
       "\n",
       "    .dataframe tbody tr th {\n",
       "        vertical-align: top;\n",
       "    }\n",
       "\n",
       "    .dataframe thead th {\n",
       "        text-align: right;\n",
       "    }\n",
       "</style>\n",
       "<table border=\"1\" class=\"dataframe\">\n",
       "  <thead>\n",
       "    <tr style=\"text-align: right;\">\n",
       "      <th></th>\n",
       "      <th>amt</th>\n",
       "      <th>unix_time</th>\n",
       "      <th>is_fraud</th>\n",
       "      <th>city_pop</th>\n",
       "    </tr>\n",
       "  </thead>\n",
       "  <tbody>\n",
       "    <tr>\n",
       "      <th>count</th>\n",
       "      <td>29900.000000</td>\n",
       "      <td>3.000000e+04</td>\n",
       "      <td>30000.000000</td>\n",
       "      <td>1.002000e+04</td>\n",
       "    </tr>\n",
       "    <tr>\n",
       "      <th>mean</th>\n",
       "      <td>250.063287</td>\n",
       "      <td>1.705650e+09</td>\n",
       "      <td>0.019033</td>\n",
       "      <td>3.704410e+06</td>\n",
       "    </tr>\n",
       "    <tr>\n",
       "      <th>std</th>\n",
       "      <td>144.106058</td>\n",
       "      <td>1.530499e+07</td>\n",
       "      <td>0.136644</td>\n",
       "      <td>2.323382e+06</td>\n",
       "    </tr>\n",
       "    <tr>\n",
       "      <th>min</th>\n",
       "      <td>1.010000</td>\n",
       "      <td>1.672534e+09</td>\n",
       "      <td>0.000000</td>\n",
       "      <td>1.680992e+06</td>\n",
       "    </tr>\n",
       "    <tr>\n",
       "      <th>25%</th>\n",
       "      <td>125.235000</td>\n",
       "      <td>1.696269e+09</td>\n",
       "      <td>0.000000</td>\n",
       "      <td>2.328000e+06</td>\n",
       "    </tr>\n",
       "    <tr>\n",
       "      <th>50%</th>\n",
       "      <td>249.625000</td>\n",
       "      <td>1.706376e+09</td>\n",
       "      <td>0.000000</td>\n",
       "      <td>2.716000e+06</td>\n",
       "    </tr>\n",
       "    <tr>\n",
       "      <th>75%</th>\n",
       "      <td>375.242500</td>\n",
       "      <td>1.718328e+09</td>\n",
       "      <td>0.000000</td>\n",
       "      <td>3.979576e+06</td>\n",
       "    </tr>\n",
       "    <tr>\n",
       "      <th>max</th>\n",
       "      <td>499.970000</td>\n",
       "      <td>1.730124e+09</td>\n",
       "      <td>1.000000</td>\n",
       "      <td>8.419600e+06</td>\n",
       "    </tr>\n",
       "  </tbody>\n",
       "</table>\n",
       "</div>"
      ],
      "text/plain": [
       "                amt     unix_time      is_fraud      city_pop\n",
       "count  29900.000000  3.000000e+04  30000.000000  1.002000e+04\n",
       "mean     250.063287  1.705650e+09      0.019033  3.704410e+06\n",
       "std      144.106058  1.530499e+07      0.136644  2.323382e+06\n",
       "min        1.010000  1.672534e+09      0.000000  1.680992e+06\n",
       "25%      125.235000  1.696269e+09      0.000000  2.328000e+06\n",
       "50%      249.625000  1.706376e+09      0.000000  2.716000e+06\n",
       "75%      375.242500  1.718328e+09      0.000000  3.979576e+06\n",
       "max      499.970000  1.730124e+09      1.000000  8.419600e+06"
      ]
     },
     "execution_count": 255,
     "metadata": {},
     "output_type": "execute_result"
    }
   ],
   "source": [
    "# Select numerical columns excluding irrelevant ones\n",
    "numerical_columns = merged_data.select_dtypes(include=[\"number\"]).drop(['index', 'cc_num', 'merchant_id','zip','merch_lat','merch_long','lat','long'], axis=1)\n",
    "\n",
    "# Display summary statistics for numerical columns\n",
    "print(\"\\nSummary Statistics for Numerical Variables:\")\n",
    "numerical_columns.describe()"
   ]
  },
  {
   "cell_type": "code",
   "execution_count": 256,
   "metadata": {},
   "outputs": [
    {
     "name": "stdout",
     "output_type": "stream",
     "text": [
      "\n",
      "Summary Statistics for Categorical Variables:\n"
     ]
    },
    {
     "data": {
      "text/html": [
       "<div>\n",
       "<style scoped>\n",
       "    .dataframe tbody tr th:only-of-type {\n",
       "        vertical-align: middle;\n",
       "    }\n",
       "\n",
       "    .dataframe tbody tr th {\n",
       "        vertical-align: top;\n",
       "    }\n",
       "\n",
       "    .dataframe thead th {\n",
       "        text-align: right;\n",
       "    }\n",
       "</style>\n",
       "<table border=\"1\" class=\"dataframe\">\n",
       "  <thead>\n",
       "    <tr style=\"text-align: right;\">\n",
       "      <th></th>\n",
       "      <th>trans_date_trans_time</th>\n",
       "      <th>device_os</th>\n",
       "      <th>merchant</th>\n",
       "      <th>trans_num</th>\n",
       "      <th>first</th>\n",
       "      <th>last</th>\n",
       "      <th>gender</th>\n",
       "      <th>street</th>\n",
       "      <th>city</th>\n",
       "      <th>job</th>\n",
       "      <th>dob</th>\n",
       "      <th>category</th>\n",
       "      <th>state</th>\n",
       "    </tr>\n",
       "  </thead>\n",
       "  <tbody>\n",
       "    <tr>\n",
       "      <th>count</th>\n",
       "      <td>29900</td>\n",
       "      <td>12036</td>\n",
       "      <td>30000</td>\n",
       "      <td>30000</td>\n",
       "      <td>29990</td>\n",
       "      <td>29990</td>\n",
       "      <td>29990</td>\n",
       "      <td>29990</td>\n",
       "      <td>29990</td>\n",
       "      <td>29784</td>\n",
       "      <td>29990</td>\n",
       "      <td>29401</td>\n",
       "      <td>10020</td>\n",
       "    </tr>\n",
       "    <tr>\n",
       "      <th>unique</th>\n",
       "      <td>29868</td>\n",
       "      <td>5</td>\n",
       "      <td>101</td>\n",
       "      <td>29470</td>\n",
       "      <td>108</td>\n",
       "      <td>108</td>\n",
       "      <td>2</td>\n",
       "      <td>102</td>\n",
       "      <td>6</td>\n",
       "      <td>7</td>\n",
       "      <td>1062</td>\n",
       "      <td>5</td>\n",
       "      <td>5</td>\n",
       "    </tr>\n",
       "    <tr>\n",
       "      <th>top</th>\n",
       "      <td>2023-10-20 21:24:16</td>\n",
       "      <td>Windows</td>\n",
       "      <td>Merchant_72</td>\n",
       "      <td>TRANS_600014</td>\n",
       "      <td>Jane</td>\n",
       "      <td>Williams</td>\n",
       "      <td>F</td>\n",
       "      <td>Elm St</td>\n",
       "      <td>Test City</td>\n",
       "      <td>Lawyer</td>\n",
       "      <td>1965-10-17</td>\n",
       "      <td>Groceries</td>\n",
       "      <td>CA</td>\n",
       "    </tr>\n",
       "    <tr>\n",
       "      <th>freq</th>\n",
       "      <td>2</td>\n",
       "      <td>3049</td>\n",
       "      <td>339</td>\n",
       "      <td>4</td>\n",
       "      <td>1489</td>\n",
       "      <td>1442</td>\n",
       "      <td>15414</td>\n",
       "      <td>1780</td>\n",
       "      <td>19970</td>\n",
       "      <td>6443</td>\n",
       "      <td>237</td>\n",
       "      <td>7193</td>\n",
       "      <td>2181</td>\n",
       "    </tr>\n",
       "  </tbody>\n",
       "</table>\n",
       "</div>"
      ],
      "text/plain": [
       "       trans_date_trans_time device_os     merchant     trans_num  first  \\\n",
       "count                  29900     12036        30000         30000  29990   \n",
       "unique                 29868         5          101         29470    108   \n",
       "top      2023-10-20 21:24:16   Windows  Merchant_72  TRANS_600014   Jane   \n",
       "freq                       2      3049          339             4   1489   \n",
       "\n",
       "            last gender  street       city     job         dob   category  \\\n",
       "count      29990  29990   29990      29990   29784       29990      29401   \n",
       "unique       108      2     102          6       7        1062          5   \n",
       "top     Williams      F  Elm St  Test City  Lawyer  1965-10-17  Groceries   \n",
       "freq        1442  15414    1780      19970    6443         237       7193   \n",
       "\n",
       "        state  \n",
       "count   10020  \n",
       "unique      5  \n",
       "top        CA  \n",
       "freq     2181  "
      ]
     },
     "execution_count": 256,
     "metadata": {},
     "output_type": "execute_result"
    }
   ],
   "source": [
    "# Select categorical columns\n",
    "categorical_columns = merged_data.select_dtypes(include=[\"object\"])\n",
    "\n",
    "# Display summary statistics for categorical columns\n",
    "print(\"\\nSummary Statistics for Categorical Variables:\")\n",
    "categorical_columns.describe()\n"
   ]
  },
  {
   "cell_type": "markdown",
   "metadata": {},
   "source": [
    "**Note:**\n",
    "\n",
    "I removed some atributes from the summary table for numerical variables because these attributes are either irrelevant for descriptive analysis or do not provide meaningful insights in the context of summarization. By excluding these attributes, the summary focuses on numerical variables that have genuine analytical significance.\n",
    "\n",
    "\n",
    "**Analysis:**\n",
    "\n",
    "The summary statistics reveal key characteristics of the dataset. Transaction amounts range from small to mid-sized values, with a mean of 250.06, indicating a relatively consistent distribution. Fraudulent transactions are rare, accounting for only 1.9% of the data, highlighting a significant class imbalance that must be addressed during modeling. device_os has a high proportion of missing values, while \"Test City\" dominates the city field, likely indicating synthetic or placeholder data. The dataset includes a diverse set of merchants and categories, with \"Groceries\" being the most frequent category. These insights emphasize the need to handle missing values, investigate synthetic data, and carefully address class imbalance to ensure effective analysis and modeling."
   ]
  },
  {
   "cell_type": "markdown",
   "metadata": {},
   "source": [
    "#### Correlation Matrix"
   ]
  },
  {
   "cell_type": "code",
   "execution_count": 257,
   "metadata": {},
   "outputs": [
    {
     "data": {
      "image/png": "[encoded data removed]",
      "text/plain": [
       "<Figure size 1000x800 with 2 Axes>"
      ]
     },
     "metadata": {},
     "output_type": "display_data"
    }
   ],
   "source": [
    "relevant_columns = merged_data.select_dtypes(include=['float64', 'int64']).columns\n",
    "filtered_data = merged_data[relevant_columns]\n",
    "\n",
    "\n",
    "correlation_matrix = filtered_data.corr()\n",
    "mask = np.triu(np.ones_like(correlation_matrix, dtype=bool))\n",
    "\n",
    "plt.figure(figsize=(10, 8))\n",
    "sns.heatmap(correlation_matrix, mask=mask, annot=True, cmap='coolwarm', fmt=\".2f\", linewidths=0.5)\n",
    "plt.title('Correlation Matrix (Inferior Triangle)')\n",
    "plt.show()"
   ]
  },
  {
   "cell_type": "markdown",
   "metadata": {},
   "source": [
    "Most variables show weak or no significant correlation with each other, indicating that they are largely independent or represent distinct aspects of the data. One notable exception is the strong positive correlation (0.66) between `unix_time` and `index`, which is expected since `index` likely reflects the chronological order of transactions and naturally aligns with the Unix timestamp.\n",
    "\n",
    "Variables related to city-level information, such as `city_pop`, `lat`, and `long`, exhibit moderate correlations. Specifically, `city_pop` has a positive correlation with both `lat` (0.53) and `long` (0.60), suggesting that high-population cities tend to cluster in specific geographic regions. This geographic relationship may play a role in understanding transaction patterns.\n",
    "\n",
    "Interestingly, the target variable `is_fraud` does not show any strong correlation with other features. This suggests that fraud detection in this dataset might rely on more complex or non-linear patterns that are not captured by simple correlations. As a result, identifying fraud will likely require advanced feature engineering and sophisticated modeling techniques."
   ]
  },
  {
   "cell_type": "markdown",
   "metadata": {},
   "source": [
    "### <u>Data Visualization</u>"
   ]
  },
  {
   "cell_type": "markdown",
   "metadata": {},
   "source": [
    "Data visualization is an essential step in understanding and presenting data. It simplifies complex information, uncovers hidden patterns, and supports informed decision-making. By using appropriate visualization techniques, analysts can effectively interpret relationships, trends, and anomalies, setting the stage for robust data preparation and modeling."
   ]
  },
  {
   "cell_type": "markdown",
   "metadata": {},
   "source": [
    "#### Fraud distribution"
   ]
  },
  {
   "cell_type": "code",
   "execution_count": 258,
   "metadata": {},
   "outputs": [
    {
     "data": {
      "image/png": "[encoded data removed]",
      "text/plain": [
       "<Figure size 600x600 with 1 Axes>"
      ]
     },
     "metadata": {},
     "output_type": "display_data"
    }
   ],
   "source": [
    "# Pie chart plot\n",
    "fraud_counts = merged_data['is_fraud'].value_counts(normalize=True)\n",
    "labels = ['Legitimate', 'Fraud']\n",
    "plt.figure(figsize=(6, 6))\n",
    "plt.pie(fraud_counts, labels=labels, autopct='%1.1f%%', startangle=140, colors=['lightskyblue', 'salmon'])\n",
    "plt.title('Fraudulent vs Legitimate Transactions')\n",
    "plt.show()"
   ]
  },
  {
   "cell_type": "markdown",
   "metadata": {},
   "source": [
    "**What was done:**\n",
    "\n",
    "A pie chart was created to visualize the proportion of fraudulent transactions (`is_fraud` = 1) versus legitimate transactions (`is_fraud` = 0). The values were normalized to show the percentage distribution.\n",
    "\n",
    "**Analysis:**\n",
    "\n",
    "The chart reveals a significant class imbalance, with fraudulent transactions accounting for only 1.9% of all transactions. This imbalance highlights the importance of addressing this issue during model training, as it may lead to biased predictions favoring the majority class (legitimate transactions). Techniques like oversampling, undersampling, or cost-sensitive modeling will be essential."
   ]
  },
  {
   "cell_type": "markdown",
   "metadata": {},
   "source": [
    "#### Distribution of transaction amount"
   ]
  },
  {
   "cell_type": "code",
   "execution_count": 259,
   "metadata": {},
   "outputs": [
    {
     "data": {
      "image/png": "[encoded data removed]",
      "text/plain": [
       "<Figure size 1000x600 with 1 Axes>"
      ]
     },
     "metadata": {},
     "output_type": "display_data"
    }
   ],
   "source": [
    "\n",
    "# Filter data for visualization\n",
    "fraud = merged_data[merged_data['is_fraud'] == 1]['amt']\n",
    "legit = merged_data[merged_data['is_fraud'] == 0]['amt']\n",
    "\n",
    "# Limit the range for better visualization\n",
    "fraud = fraud[fraud <= 500]\n",
    "legit = legit[legit <= 500]\n",
    "\n",
    "# Box plot\n",
    "plt.figure(figsize=(10, 6))\n",
    "plt.boxplot([legit, fraud], tick_labels=['Legitimate', 'Fraud'], patch_artist=True,\n",
    "            boxprops=dict(facecolor='skyblue', color='black'),\n",
    "            medianprops=dict(color='red'))\n",
    "plt.title('Transaction Amount by Fraud Label')\n",
    "plt.xlabel('Fraud Label')\n",
    "plt.ylabel('Transaction Amount ($)')\n",
    "plt.grid(axis='y')\n",
    "plt.show()"
   ]
  },
  {
   "cell_type": "markdown",
   "metadata": {},
   "source": [
    "**What was done:**\n",
    "\n",
    "A box plot was created to compare the transaction amounts for fraudulent and legitimate transactions. To improve visibility, the range was limited to transactions under $500, because there are no transactions above that value.\n",
    "\n",
    "**Analysis:**\n",
    "\n",
    "The box plot shows that fraudulent transactions tend to have higher median amounts compared to legitimate ones. This suggests that fraudsters may target higher-value transactions. However, there is overlap between the distributions, indicating that transaction amount alone may not be a definitive predictor of fraud."
   ]
  },
  {
   "cell_type": "markdown",
   "metadata": {},
   "source": [
    "#### Fraud rate by merchant category"
   ]
  },
  {
   "cell_type": "code",
   "execution_count": 260,
   "metadata": {},
   "outputs": [
    {
     "data": {
      "image/png": "[encoded data removed]",
      "text/plain": [
       "<Figure size 1200x800 with 1 Axes>"
      ]
     },
     "metadata": {},
     "output_type": "display_data"
    }
   ],
   "source": [
    "\n",
    "fraud_rate = merged_data.groupby('category')['is_fraud'].mean().sort_values(ascending=False)\n",
    "\n",
    "# Bar plot\n",
    "plt.figure(figsize=(12, 8))\n",
    "plt.bar(fraud_rate.index, fraud_rate.values, color='salmon')\n",
    "plt.xticks(rotation=90)\n",
    "plt.title('Fraud Rate by Merchant Category')\n",
    "plt.xlabel('Merchant Category')\n",
    "plt.ylabel('Fraud Rate')\n",
    "plt.grid(axis='y', linestyle='--', alpha=0.7)\n",
    "plt.show()"
   ]
  },
  {
   "cell_type": "markdown",
   "metadata": {},
   "source": [
    "**What was done:**\n",
    "\n",
    "A bar plot was used to display the average fraud rate for each merchant category, calculated by grouping the data by `category` and taking the mean of `is_fraud`.\n",
    "\n",
    "**Analysis:**\n",
    "\n",
    "The chart reveals that certain merchant categories, such as \"Groceries\" and \"Entertainment,\" have slightly higher fraud rates. This insight could be useful for identifying high-risk merchant categories. However, the differences between categories are not dramatic, suggesting that other factors may play a more significant role in fraud."
   ]
  },
  {
   "cell_type": "markdown",
   "metadata": {},
   "source": [
    "#### OS Used in Transactions"
   ]
  },
  {
   "cell_type": "code",
   "execution_count": 261,
   "metadata": {},
   "outputs": [
    {
     "data": {
      "image/png": "[encoded data removed]",
      "text/plain": [
       "<Figure size 1000x600 with 1 Axes>"
      ]
     },
     "metadata": {},
     "output_type": "display_data"
    }
   ],
   "source": [
    "# Count of transactions by device_os and fraud label\n",
    "device_os_counts = merged_data.groupby(['device_os', 'is_fraud']).size().unstack(fill_value=0)\n",
    "\n",
    "# Stacked bar plot\n",
    "device_os = device_os_counts.index\n",
    "legit_counts = device_os_counts[0]\n",
    "fraud_counts = device_os_counts[1]\n",
    "\n",
    "x = range(len(device_os))\n",
    "plt.figure(figsize=(10, 6))\n",
    "plt.bar(x, legit_counts, label='Legitimate', color='skyblue')\n",
    "plt.bar(x, fraud_counts, label='Fraud', bottom=legit_counts, color='salmon')\n",
    "\n",
    "plt.xticks(x, device_os, rotation=45)\n",
    "plt.title('Transactions by Device OS and Fraud Label')\n",
    "plt.xlabel('Device OS')\n",
    "plt.ylabel('Transaction Count')\n",
    "plt.legend()\n",
    "plt.grid(axis='y', linestyle='--', alpha=0.7)\n",
    "plt.show()\n"
   ]
  },
  {
   "cell_type": "markdown",
   "metadata": {},
   "source": [
    "**What was done:**\n",
    "\n",
    "A stacked bar plot was created to compare the number of transactions for each device_os, split by fraud label (is_fraud).\n",
    "\n",
    "**Analysis:**\n",
    "\n",
    "The chart shows that Windows and macOS have the highest number of both legitimate and fraudulent transactions, likely reflecting their popularity among users. However, the proportion of fraudulent transactions does not vary significantly across operating systems. This indicates that device OS may not be a strong standalone feature for fraud detection."
   ]
  },
  {
   "cell_type": "markdown",
   "metadata": {},
   "source": [
    "#### Fraud Rate by City"
   ]
  },
  {
   "cell_type": "code",
   "execution_count": 262,
   "metadata": {},
   "outputs": [
    {
     "data": {
      "image/png": "[encoded data removed]",
      "text/plain": [
       "<Figure size 1000x600 with 1 Axes>"
      ]
     },
     "metadata": {},
     "output_type": "display_data"
    }
   ],
   "source": [
    "# Calculate fraud rate per city\n",
    "city_fraud_rate = merged_data.groupby('city')['is_fraud'].mean().sort_values(ascending=False)\n",
    "\n",
    "# Bar plot for fraud rate by city\n",
    "plt.figure(figsize=(10, 6))\n",
    "plt.bar(city_fraud_rate.index, city_fraud_rate.values, color='orange')\n",
    "plt.title('Cities by Fraud Rate')\n",
    "plt.xlabel('City')\n",
    "plt.ylabel('Fraud Rate')\n",
    "plt.xticks(rotation=45)\n",
    "plt.grid(axis='y', linestyle='--', alpha=0.7)\n",
    "plt.show()"
   ]
  },
  {
   "cell_type": "markdown",
   "metadata": {},
   "source": [
    "**What was done:**\n",
    "\n",
    "A bar plot was created to show the cities with the highest fraud rates. The fraud rate for each city was calculated as the mean of `is_fraud`.\n",
    "\n",
    "**Analysis:**\n",
    "\n",
    "The chart indicates that major metropolitan areas such as Chicago, Phoenix and Houston have higher fraud rates. Upon further inspection, the inclusion of \"Test City\" appears to be a synthetic or placeholder entry in the dataset rather than a real location. This type of entry is likely used for testing purposes or as a default value and does not represent actual transactional data.\n",
    "\n",
    "Its presence can distort the analysis by introducing artificial patterns or biasing the interpretation of fraud rates. For this reason, \"Test City\" should be excluded from the analysis to ensure that insights are based solely on genuine and reliable data. Further exploration of the relationship between fraud rates and factors such as city population, transaction volume, or merchant density can help uncover the underlying dynamics contributing to higher fraud rates in specific cities."
   ]
  },
  {
   "cell_type": "markdown",
   "metadata": {},
   "source": [
    "#### Fraud Rate by Hour of Day"
   ]
  },
  {
   "cell_type": "code",
   "execution_count": 263,
   "metadata": {},
   "outputs": [
    {
     "data": {
      "image/png": "[encoded data removed]",
      "text/plain": [
       "<Figure size 1000x600 with 1 Axes>"
      ]
     },
     "metadata": {},
     "output_type": "display_data"
    }
   ],
   "source": [
    "# Convert Unix time to datetime and extract the hour\n",
    "merged_data['hour'] = pd.to_datetime(merged_data['unix_time'], unit='s').dt.hour\n",
    "\n",
    "# Group by hour and calculate fraud rate\n",
    "fraud_rate_by_hour = merged_data.groupby('hour')['is_fraud'].mean()\n",
    "\n",
    "merged_data.drop('hour', axis=1, inplace=True)\n",
    "\n",
    "# Bar plot\n",
    "plt.figure(figsize=(10, 6))\n",
    "fraud_rate_by_hour.plot(kind='bar', color='purple')\n",
    "plt.title('Fraud Rate by Hour of Day', fontsize=14)\n",
    "plt.xlabel('Hour of Day', fontsize=12)\n",
    "plt.ylabel('Fraud Rate', fontsize=12)\n",
    "plt.xticks(rotation=0)\n",
    "plt.grid(axis='y', linestyle='--', alpha=0.7)\n",
    "plt.show()\n"
   ]
  },
  {
   "cell_type": "markdown",
   "metadata": {},
   "source": [
    "**What was done:**\n",
    "\n",
    "This bar plot visualizes the fraud rate across different hours of the day. The hour was extracted from the unix_time column, and the fraud rate (is_fraud) was calculated as the mean of fraud labels for each hour. This provides insight into the temporal patterns of fraudulent activity.\n",
    "\n",
    "**Analysis:**\n",
    "\n",
    "While there are peaks and dips, the fraud rate does not vary drastically across hours, suggesting that fraud occurs throughout the day with certain periods being slightly riskier."
   ]
  },
  {
   "cell_type": "markdown",
   "metadata": {},
   "source": [
    "#### Geographic Distribution of Fraudulent Transactions and Cities"
   ]
  },
  {
   "cell_type": "code",
   "execution_count": 264,
   "metadata": {},
   "outputs": [
    {
     "data": {
      "image/png": "[encoded data removed]",
      "text/plain": [
       "<Figure size 1200x800 with 1 Axes>"
      ]
     },
     "metadata": {},
     "output_type": "display_data"
    }
   ],
   "source": [
    "# Filter fraudulent transactions\n",
    "fraud_data = merged_data[merged_data['is_fraud'] == 1]\n",
    "\n",
    "# Filter unique cities with valid coordinates\n",
    "city_data_clean = merged_data[['city', 'lat', 'long']].drop_duplicates().dropna(subset=['lat', 'long'])\n",
    "\n",
    "# Create a figure and set up a map projection (Mercator)\n",
    "fig = plt.figure(figsize=(12, 8))\n",
    "ax = plt.axes(projection=ccrs.Mercator())\n",
    "\n",
    "# Add map features\n",
    "ax.add_feature(cfeature.COASTLINE, linewidth=0.5)\n",
    "ax.add_feature(cfeature.BORDERS, linestyle=':')\n",
    "ax.add_feature(cfeature.LAND, facecolor='lightgray')\n",
    "ax.add_feature(cfeature.OCEAN, facecolor='lightblue')\n",
    "\n",
    "# Plot fraudulent transactions as scatter points\n",
    "plt.scatter(\n",
    "    fraud_data['merch_long'], fraud_data['merch_lat'],\n",
    "    color='red', alpha=0.5, s=10, transform=ccrs.PlateCarree(),\n",
    "    label='Fraudulent Transactions'\n",
    ")\n",
    "\n",
    "# Plot city locations as blue scatter points\n",
    "plt.scatter(\n",
    "    city_data_clean['long'], city_data_clean['lat'],\n",
    "    color='blue', alpha=0.7, s=20, transform=ccrs.PlateCarree(),\n",
    "    label='Cities'\n",
    ")\n",
    "\n",
    "# Add city labels with adjustText\n",
    "texts = []\n",
    "for _, row in city_data_clean.iterrows():\n",
    "    texts.append(plt.text(\n",
    "        row['long'], row['lat'], row['city'],\n",
    "        fontsize=8, transform=ccrs.PlateCarree(), color='black'\n",
    "    ))\n",
    "# Adjust text to avoid overlaps\n",
    "adjust_text(texts, arrowprops=dict(arrowstyle=\"->\", color='gray', lw=0.5))\n",
    "\n",
    "# Add title and legend\n",
    "plt.title('Geographic Distribution of Fraudulent Transactions and Cities', fontsize=14)\n",
    "plt.legend(loc='lower left', fontsize=10)\n",
    "\n",
    "# Set extent (map boundaries) based on the data\n",
    "plt.gca().set_extent([\n",
    "    min(city_data_clean['long'].min(), fraud_data['merch_long'].min()) - 1,\n",
    "    max(city_data_clean['long'].max(), fraud_data['merch_long'].max()) + 1,\n",
    "    min(city_data_clean['lat'].min(), fraud_data['merch_lat'].min()) - 1,\n",
    "    max(city_data_clean['lat'].max(), fraud_data['merch_lat'].max()) + 1\n",
    "], crs=ccrs.PlateCarree())\n",
    "\n",
    "# Show the plot\n",
    "plt.show()\n"
   ]
  },
  {
   "cell_type": "markdown",
   "metadata": {},
   "source": [
    "**What was done:**\n",
    "\n",
    "The map shows the geographic distribution of fraudulent transactions (red points) overlaid with city locations (blue points). To improve readability, city labels were dynamically adjusted using the adjustText library to avoid overlapping, with arrows indicating their original positions.\n",
    "\n",
    "**Analysis:**\n",
    "\n",
    "While some fraudulent transactions are near major urban centers like New York, Chicago, and Los Angeles, many points appear as outliers, such as those in the ocean or sparsely populated regions. This suggests that the geographic coordinates may lack strong correlation with city locations, likely due to errors or placeholders in the dataset. However, there are clusters of fraudulent transactions near certain cities that could warrant further analysis to identify potential patterns or high-risk areas."
   ]
  },
  {
   "cell_type": "markdown",
   "metadata": {},
   "source": [
    "#### Fraud Rate by Customer Age Group"
   ]
  },
  {
   "cell_type": "code",
   "execution_count": 265,
   "metadata": {},
   "outputs": [
    {
     "name": "stderr",
     "output_type": "stream",
     "text": [
      "/tmp/ipykernel_11363/2815110579.py:11: FutureWarning: The default of observed=False is deprecated and will be changed to True in a future version of pandas. Pass observed=False to retain current behavior or observed=True to adopt the future default and silence this warning.\n",
      "  fraud_rate_by_age = merged_data.groupby('age_group')['is_fraud'].mean()\n"
     ]
    },
    {
     "data": {
      "image/png": "[encoded data removed]",
      "text/plain": [
       "<Figure size 800x600 with 1 Axes>"
      ]
     },
     "metadata": {},
     "output_type": "display_data"
    }
   ],
   "source": [
    "# Calculate age\n",
    "merged_data['age'] = pd.to_datetime('2023-01-01') - pd.to_datetime(merged_data['dob'])\n",
    "merged_data['age'] = merged_data['age'].dt.days // 365\n",
    "\n",
    "# Bin age into groups\n",
    "bins = [0, 25, 35, 50, 65, 100]\n",
    "labels = ['<25', '25-35', '35-50', '50-65', '65+']\n",
    "merged_data['age_group'] = pd.cut(merged_data['age'], bins=bins, labels=labels, right=False)\n",
    "\n",
    "# Calculate fraud rate by age group\n",
    "fraud_rate_by_age = merged_data.groupby('age_group')['is_fraud'].mean()\n",
    "\n",
    "merged_data.drop('age_group', axis=1, inplace=True)\n",
    "\n",
    "# Bar plot\n",
    "plt.figure(figsize=(8, 6))\n",
    "fraud_rate_by_age.plot(kind='bar', color='teal')\n",
    "plt.title('Fraud Rate by Age Group', fontsize=14)\n",
    "plt.xlabel('Age Group', fontsize=12)\n",
    "plt.ylabel('Fraud Rate', fontsize=12)\n",
    "plt.show()"
   ]
  },
  {
   "cell_type": "markdown",
   "metadata": {},
   "source": [
    "**What was done:**\n",
    "\n",
    "The bar chart displays the fraud rate across different age groups.\n",
    "\n",
    "**Analysis**:\n",
    "\n",
    "Fraud rates are higher among individuals aged 25-35 and 35-50, suggesting that these groups may be more frequently targeted by fraudsters or engage more in high-risk transaction behaviors. Conversely, the fraud rate is lower for individuals aged 65+, which could be due to lower transaction volumes or more cautious spending habits in this demographic. While the differences between age groups are not drastic, these insights could inform targeted fraud prevention strategies for higher-risk groups."
   ]
  },
  {
   "cell_type": "markdown",
   "metadata": {},
   "source": [
    "#### Fraud Rate by Merchant Category and Age Group"
   ]
  },
  {
   "cell_type": "code",
   "execution_count": 266,
   "metadata": {},
   "outputs": [
    {
     "data": {
      "image/png": "[encoded data removed]",
      "text/plain": [
       "<Figure size 1400x800 with 1 Axes>"
      ]
     },
     "metadata": {},
     "output_type": "display_data"
    }
   ],
   "source": [
    "# Calculate age\n",
    "merged_data['age'] = pd.to_datetime('2023-01-01') - pd.to_datetime(merged_data['dob'])\n",
    "merged_data['age'] = merged_data['age'].dt.days // 365\n",
    "\n",
    "# Bin age into groups\n",
    "bins = [0, 25, 35, 50, 65, 100]\n",
    "labels = ['<25', '25-35', '35-50', '50-65', '65+']\n",
    "merged_data['age_group'] = pd.cut(merged_data['age'], bins=bins, labels=labels, right=False)\n",
    "\n",
    "# Group data by age group and merchant category, then calculate fraud rate\n",
    "fraud_rate_by_category_age = merged_data.groupby(['age_group', 'category'], observed=True)['is_fraud'].mean().reset_index()\n",
    "\n",
    "merged_data.drop('age_group', axis=1, inplace=True)\n",
    "\n",
    "# Plot a grouped bar plot\n",
    "plt.figure(figsize=(14, 8))\n",
    "sns.barplot(data=fraud_rate_by_category_age, x='category', y='is_fraud', hue='age_group', errorbar=None)\n",
    "plt.title('Fraud Rate by Merchant Category and Age Group', fontsize=14)\n",
    "plt.xlabel('Merchant Category', fontsize=12)\n",
    "plt.ylabel('Fraud Rate', fontsize=12)\n",
    "plt.xticks(rotation=45)\n",
    "plt.legend(title='Age Group')\n",
    "plt.grid(axis='y', linestyle='--', alpha=0.7)\n",
    "plt.show()"
   ]
  },
  {
   "cell_type": "markdown",
   "metadata": {},
   "source": [
    "**What was done:**\n",
    "\n",
    "The bar chart shows the fraud rate across merchant categories for different age groups. \n",
    "\n",
    "**Analysis:**\n",
    "\n",
    "Younger groups (<25 and 25-35) have higher fraud rates in categories like Apparel and Travel, while middle-aged groups (35-50) show peaks in Entertainment. Older groups (65+) generally experience lower fraud rates across categories. These patterns suggest that fraudsters may target specific demographics based on category-related behaviors, such as younger individuals in Apparel and Travel or middle-aged individuals in Entertainment. "
   ]
  },
  {
   "cell_type": "markdown",
   "metadata": {},
   "source": [
    "### Fraud Rate by Job"
   ]
  },
  {
   "cell_type": "code",
   "execution_count": 267,
   "metadata": {},
   "outputs": [
    {
     "data": {
      "image/png": "[encoded data removed]",
      "text/plain": [
       "<Figure size 1200x800 with 1 Axes>"
      ]
     },
     "metadata": {},
     "output_type": "display_data"
    }
   ],
   "source": [
    "# Calculate fraud rate for each job\n",
    "fraud_rate_by_job = merged_data.groupby('job')['is_fraud'].mean().sort_values(ascending=False)\n",
    "\n",
    "# Plot the fraud rate by job\n",
    "plt.figure(figsize=(12, 8))\n",
    "fraud_rate_by_job.plot(kind='bar', color='orange', alpha=0.8)\n",
    "plt.title('Fraud Rate by Job', fontsize=14)\n",
    "plt.xlabel('Job', fontsize=12)\n",
    "plt.ylabel('Fraud Rate', fontsize=12)\n",
    "plt.xticks(rotation=45, ha='right')\n",
    "plt.grid(axis='y', linestyle='--', alpha=0.7)\n",
    "plt.tight_layout()\n",
    "plt.show()"
   ]
  },
  {
   "cell_type": "markdown",
   "metadata": {},
   "source": [
    "**What was done:**\n",
    "\n",
    "A bar chart was created to analyze the relationship between customers' jobs and the fraud rate.\n",
    "\n",
    "**Analysis:**\n",
    "\n",
    "The chart shows that certain professions, such as Clerks and Lawyers, have slightly higher fraud rates compared to other professions like Teachers and Nurses. These differences might reflect behavioral patterns, spending habits, or exposure to fraud based on the nature of the profession. The fraud rates across jobs are relatively close, indicating that job type alone may not be a strong predictor of fraud but could be considered alongside other features"
   ]
  },
  {
   "cell_type": "markdown",
   "metadata": {},
   "source": [
    "#### Conclusion on Data Visualization\n",
    "\n",
    "The analysis revealed several key insights about fraudulent transactions. Fraud is relatively rare in the dataset, accounting for only 1.9% of all transactions, highlighting the challenge of identifying such rare events. Geographic patterns showed clusters of fraudulent transactions near major urban centers, though significant outliers and inconsistent coordinates suggest that location data may not be highly reliable. Fraud rates varied by age group, with younger and middle-aged individuals (25-35 and 35-50) being more frequently targeted, particularly in categories like Apparel, Travel, and Entertainment. Older age groups (65+) generally experienced lower fraud rates. Certain categories, such as Travel and Entertainment, showed higher fraud activity, suggesting specific areas where fraudsters exploit vulnerabilities."
   ]
  },
  {
   "cell_type": "markdown",
   "metadata": {},
   "source": [
    "## 1.2- Data Preparation"
   ]
  },
  {
   "cell_type": "markdown",
   "metadata": {},
   "source": [
    "Data preparation is a critical step in the machine learning pipeline, ensuring that the dataset is clean, consistent, and structured for effective modeling. This process involves handling missing values, encoding categorical variables, creating meaningful features, and addressing potential issues like class imbalance. Proper data preparation enhances the quality of the input data, reduces noise, and helps models better capture underlying patterns. In this project, the data preparation phase focuses on transforming the provided transaction data into a format suitable for building a predictive model to detect fraudulent transactions. This includes cleaning the dataset, engineering new features, scaling numerical variables, and addressing the imbalanced nature of the target variable. These steps aim to improve the accuracy and reliability of the predictive models in identifying fraud."
   ]
  },
  {
   "cell_type": "markdown",
   "metadata": {},
   "source": [
    "### <u>Split Data into Train and Test Sets</u>"
   ]
  },
  {
   "cell_type": "code",
   "execution_count": 268,
   "metadata": {},
   "outputs": [],
   "source": [
    "X = merged_data.drop('is_fraud', axis=1)\n",
    "y = merged_data['is_fraud']\n",
    "\n",
    "X_train, X_test, y_train, y_test = train_test_split(X, y, test_size=0.2, random_state=42, stratify=y)"
   ]
  },
  {
   "cell_type": "markdown",
   "metadata": {},
   "source": [
    "### <u>Handle Duplicate Values</u>"
   ]
  },
  {
   "cell_type": "code",
   "execution_count": 269,
   "metadata": {},
   "outputs": [
    {
     "name": "stdout",
     "output_type": "stream",
     "text": [
      "\n",
      "Duplicate Transactions:\n",
      "337\n"
     ]
    }
   ],
   "source": [
    "# Check for duplicate transactions\n",
    "print(\"\\nDuplicate Transactions:\")\n",
    "print(X_train.duplicated(subset='trans_num').sum())"
   ]
  },
  {
   "cell_type": "code",
   "execution_count": 270,
   "metadata": {},
   "outputs": [
    {
     "name": "stdout",
     "output_type": "stream",
     "text": [
      "\n",
      "Duplicate Transactions:\n",
      "0\n"
     ]
    },
    {
     "name": "stderr",
     "output_type": "stream",
     "text": [
      "/tmp/ipykernel_11363/3258083248.py:9: DeprecationWarning: DataFrameGroupBy.apply operated on the grouping columns. This behavior is deprecated, and in a future version of pandas the grouping columns will be excluded from the operation. Either pass `include_groups=False` to exclude the groupings or explicitly select the grouping columns after groupby to silence this warning.\n",
      "  .apply(lambda group: group.isnull().sum(axis=1).idxmin())  # Rows with more NaNs\n"
     ]
    }
   ],
   "source": [
    "# Delete duplicate transactions \n",
    "def remove_duplicates(dataframe,dataframe2):\n",
    "  \n",
    "    duplicated = dataframe[dataframe.duplicated(subset='trans_num', keep=False)]\n",
    "\n",
    "    indices_to_keep = (\n",
    "        duplicated\n",
    "        .groupby('trans_num')\n",
    "        .apply(lambda group: group.isnull().sum(axis=1).idxmin())  # Rows with more NaNs\n",
    "    )\n",
    "\n",
    "    indices_to_remove = set(duplicated.index) - set(indices_to_keep)\n",
    "\n",
    "    dataframe_cleaned = dataframe.drop(index=indices_to_remove)\n",
    "    dataframe2_cleaned = dataframe2.drop(index=indices_to_remove)\n",
    "    \n",
    "    return dataframe_cleaned.reset_index(drop=True), dataframe2_cleaned.reset_index(drop=True)\n",
    "\n",
    "X_train, y_train = remove_duplicates(X_train,y_train)\n",
    "\n",
    "\n",
    "# Check for duplicate transactions\n",
    "print(\"\\nDuplicate Transactions:\")\n",
    "print(X_train.duplicated(subset='trans_num').sum())\n"
   ]
  },
  {
   "cell_type": "markdown",
   "metadata": {},
   "source": [
    "### <u>Handle Missing Values</u>"
   ]
  },
  {
   "cell_type": "code",
   "execution_count": 271,
   "metadata": {},
   "outputs": [
    {
     "name": "stdout",
     "output_type": "stream",
     "text": [
      "\n",
      "Missing Values Train:\n",
      "index                        0\n",
      "trans_date_trans_time       78\n",
      "cc_num                       0\n",
      "device_os                14107\n",
      "merchant                     0\n",
      "amt                         78\n",
      "trans_num                    0\n",
      "unix_time                    0\n",
      "first                        1\n",
      "last                         1\n",
      "gender                       1\n",
      "street                       1\n",
      "city                         1\n",
      "zip                        162\n",
      "job                        162\n",
      "dob                          1\n",
      "category                   447\n",
      "merch_lat                  447\n",
      "merch_long                   1\n",
      "merchant_id                  1\n",
      "lat                      15636\n",
      "long                     15636\n",
      "city_pop                 15636\n",
      "state                    15636\n",
      "age                          1\n",
      "dtype: int64\n"
     ]
    }
   ],
   "source": [
    "# Check for missing values\n",
    "print(\"\\nMissing Values Train:\")\n",
    "print(X_train.isnull().sum())\n",
    "\n",
    "X_train.to_csv('X_train_with_missing_values.csv', index=False)\n"
   ]
  },
  {
   "cell_type": "code",
   "execution_count": 272,
   "metadata": {},
   "outputs": [
    {
     "name": "stdout",
     "output_type": "stream",
     "text": [
      "\n",
      "Missing Values Train:\n",
      "index                    0\n",
      "trans_date_trans_time    0\n",
      "cc_num                   0\n",
      "device_os                0\n",
      "merchant                 0\n",
      "amt                      0\n",
      "trans_num                0\n",
      "unix_time                0\n",
      "first                    0\n",
      "last                     0\n",
      "gender                   0\n",
      "street                   0\n",
      "city                     0\n",
      "zip                      0\n",
      "job                      0\n",
      "dob                      0\n",
      "category                 0\n",
      "merch_lat                0\n",
      "merch_long               0\n",
      "merchant_id              0\n",
      "lat                      0\n",
      "long                     0\n",
      "city_pop                 0\n",
      "state                    0\n",
      "age                      0\n",
      "dtype: int64\n"
     ]
    }
   ],
   "source": [
    "X_train = pd.read_csv('X_train_without_missing_values.csv')\n",
    "\n",
    "\n",
    "# Check for missing values\n",
    "print(\"\\nMissing Values Train:\")\n",
    "print(X_train.isnull().sum())\n"
   ]
  },
  {
   "cell_type": "code",
   "execution_count": 273,
   "metadata": {},
   "outputs": [
    {
     "name": "stdout",
     "output_type": "stream",
     "text": [
      "\n",
      "Missing Values Test:\n",
      "index                       0\n",
      "trans_date_trans_time      21\n",
      "cc_num                      0\n",
      "device_os                3615\n",
      "merchant                    0\n",
      "amt                        21\n",
      "trans_num                   0\n",
      "unix_time                   0\n",
      "first                       1\n",
      "last                        1\n",
      "gender                      1\n",
      "street                      1\n",
      "city                        1\n",
      "zip                        45\n",
      "job                        45\n",
      "dob                         1\n",
      "category                  135\n",
      "merch_lat                 135\n",
      "merch_long                  1\n",
      "merchant_id                 1\n",
      "lat                      4060\n",
      "long                     4060\n",
      "city_pop                 4060\n",
      "state                    4060\n",
      "age                         1\n",
      "dtype: int64\n"
     ]
    }
   ],
   "source": [
    "print(\"\\nMissing Values Test:\")\n",
    "print(X_test.isnull().sum())"
   ]
  },
  {
   "cell_type": "code",
   "execution_count": 274,
   "metadata": {},
   "outputs": [
    {
     "name": "stdout",
     "output_type": "stream",
     "text": [
      "\n",
      "Missing Values Test:\n",
      "index                    0\n",
      "trans_date_trans_time    0\n",
      "cc_num                   0\n",
      "device_os                0\n",
      "merchant                 0\n",
      "amt                      0\n",
      "trans_num                0\n",
      "unix_time                0\n",
      "first                    0\n",
      "last                     0\n",
      "gender                   0\n",
      "street                   0\n",
      "city                     0\n",
      "zip                      0\n",
      "job                      0\n",
      "dob                      0\n",
      "category                 0\n",
      "merch_lat                0\n",
      "merch_long               0\n",
      "merchant_id              0\n",
      "lat                      0\n",
      "long                     0\n",
      "city_pop                 0\n",
      "state                    0\n",
      "age                      0\n",
      "dtype: int64\n"
     ]
    }
   ],
   "source": [
    "numeric_cols = X_train.select_dtypes(include=[\"float64\", \"int64\"]).columns\n",
    "categorical_cols = X_train.select_dtypes(include=[\"object\", \"category\"]).columns\n",
    "\n",
    "train_means = X_train[numeric_cols].mean()\n",
    "\n",
    "# Calcular a moda para as colunas categóricas\n",
    "train_modes = X_train[categorical_cols].mode().iloc[0]\n",
    "\n",
    "for col in numeric_cols:\n",
    "    if col in X_test.columns:  # Garantir que a coluna exista no teste\n",
    "        X_test[col] = X_test[col].fillna(train_means[col])\n",
    "\n",
    "for col in categorical_cols:\n",
    "    if col in X_test.columns:  # Garantir que a coluna exista no teste\n",
    "        X_test[col] = X_test[col].fillna(train_modes[col])\n",
    "\n",
    "\n",
    "print(\"\\nMissing Values Test:\")\n",
    "print(X_test.isnull().sum())"
   ]
  },
  {
   "cell_type": "markdown",
   "metadata": {},
   "source": [
    "### <u>Feature Engineering</u>"
   ]
  },
  {
   "cell_type": "code",
   "execution_count": 275,
   "metadata": {},
   "outputs": [
    {
     "data": {
      "text/plain": [
       "\"\\n# Convert unix_time to datetime\\nX_train['datetime'] = pd.to_datetime(X_train['unix_time'], unit='s')\\n\\n# Extract hour, day of the week, and month\\nX_train['hour'] = X_train['datetime'].dt.hour\\nX_train['day_of_week'] = X_train['datetime'].dt.dayofweek  # 0=Monday, 6=Sunday\\nX_train['month'] = X_train['datetime'].dt.month\\n\\n# Drop the intermediate 'datetime' column if not needed\\nX_train.drop('datetime', axis=1, inplace=True)\\n\\n\\n# Convert unix_time to datetime\\nX_test['datetime'] = pd.to_datetime(X_test['unix_time'], unit='s')\\n\\n# Extract hour, day of the week, and month\\nX_test['hour'] = X_test['datetime'].dt.hour\\nX_test['day_of_week'] = X_test['datetime'].dt.dayofweek  # 0=Monday, 6=Sunday\\nX_test['month'] = X_test['datetime'].dt.month\\n\\n# Drop the intermediate 'datetime' column if not needed\\nX_test.drop('datetime', axis=1, inplace=True)\\n\""
      ]
     },
     "execution_count": 275,
     "metadata": {},
     "output_type": "execute_result"
    }
   ],
   "source": [
    "'''\n",
    "# Convert unix_time to datetime\n",
    "X_train['datetime'] = pd.to_datetime(X_train['unix_time'], unit='s')\n",
    "\n",
    "# Extract hour, day of the week, and month\n",
    "X_train['hour'] = X_train['datetime'].dt.hour\n",
    "X_train['day_of_week'] = X_train['datetime'].dt.dayofweek  # 0=Monday, 6=Sunday\n",
    "X_train['month'] = X_train['datetime'].dt.month\n",
    "\n",
    "# Drop the intermediate 'datetime' column if not needed\n",
    "X_train.drop('datetime', axis=1, inplace=True)\n",
    "\n",
    "\n",
    "# Convert unix_time to datetime\n",
    "X_test['datetime'] = pd.to_datetime(X_test['unix_time'], unit='s')\n",
    "\n",
    "# Extract hour, day of the week, and month\n",
    "X_test['hour'] = X_test['datetime'].dt.hour\n",
    "X_test['day_of_week'] = X_test['datetime'].dt.dayofweek  # 0=Monday, 6=Sunday\n",
    "X_test['month'] = X_test['datetime'].dt.month\n",
    "\n",
    "# Drop the intermediate 'datetime' column if not needed\n",
    "X_test.drop('datetime', axis=1, inplace=True)\n",
    "'''"
   ]
  },
  {
   "cell_type": "code",
   "execution_count": 276,
   "metadata": {},
   "outputs": [],
   "source": [
    "#merged_data['distance'] = merged_data.apply(lambda row: geodesic((row['lat'], row['long']), (row['merch_lat'], row['merch_long'])).km, axis=1)"
   ]
  },
  {
   "cell_type": "code",
   "execution_count": 277,
   "metadata": {},
   "outputs": [],
   "source": [
    "def calculate_age_and_group(data):\n",
    "    # Calcular a idade\n",
    "    data['age'] = pd.to_datetime('2023-01-01') - pd.to_datetime(data['dob'])\n",
    "    data['age'] = data['age'].dt.days // 365\n",
    "\n",
    "    # Binarizar a idade em grupos\n",
    "    bins = [0, 25, 35, 50, 65, 100]\n",
    "    labels = ['<25', '25-35', '35-50', '50-65', '65+']\n",
    "    data['age_group'] = pd.cut(data['age'], bins=bins, labels=labels, right=False)\n",
    "    return data\n",
    "\n",
    "X_train = calculate_age_and_group(X_train)\n",
    "X_test = calculate_age_and_group(X_test)"
   ]
  },
  {
   "cell_type": "code",
   "execution_count": 278,
   "metadata": {},
   "outputs": [],
   "source": [
    "X_train['merchant_category_age_group'] = (\n",
    "    X_train['category'] + '_' + X_train['age_group'].astype(str)\n",
    ")\n",
    "\n",
    "X_test['merchant_category_age_group'] = (\n",
    "    X_test['category'] + '_' + X_test['age_group'].astype(str)\n",
    ")"
   ]
  },
  {
   "cell_type": "code",
   "execution_count": 279,
   "metadata": {},
   "outputs": [],
   "source": [
    "high_risk_age_groups = ['25-35']\n",
    "X_train['is_high_risk_age_group'] = X_train['age_group'].apply(lambda x: 1 if x in high_risk_age_groups else 0)\n",
    "X_test['is_high_risk_age_group'] = X_test['age_group'].apply(lambda x: 1 if x in high_risk_age_groups else 0)\n"
   ]
  },
  {
   "cell_type": "code",
   "execution_count": 280,
   "metadata": {},
   "outputs": [],
   "source": [
    "high_risk_jobs = ['Clerk', 'Lawyer']\n",
    "X_train['job_risk_level'] = X_train['job'].apply(lambda x: 'high' if x in high_risk_jobs else 'low')\n",
    "X_test['job_risk_level'] = X_test['job'].apply(lambda x: 'high' if x in high_risk_jobs else 'low')\n"
   ]
  },
  {
   "cell_type": "markdown",
   "metadata": {},
   "source": [
    "### <u>Encode Categorical Variables</u>"
   ]
  },
  {
   "cell_type": "code",
   "execution_count": 281,
   "metadata": {},
   "outputs": [],
   "source": [
    "# One-hot encoding example\n",
    "X_train = pd.get_dummies(X_train, columns=['category', 'age_group', 'job_risk_level','is_high_risk_age_group','merchant_category_age_group'], drop_first=True)\n",
    "X_test = pd.get_dummies(X_test, columns=['category', 'age_group', 'job_risk_level','is_high_risk_age_group','merchant_category_age_group'], drop_first=True)\n",
    "\n",
    "X_train = X_train.rename(columns={\n",
    "    'is_high_risk_age_group_0.0': 'is_high_risk_age_group_0',\n",
    "    'is_high_risk_age_group_1.0': 'is_high_risk_age_group_1'\n",
    "})\n",
    "\n",
    "X_test = X_test.rename(columns={\n",
    "    'is_high_risk_age_group_0.0': 'is_high_risk_age_group_0',\n",
    "    'is_high_risk_age_group_1.0': 'is_high_risk_age_group_1'\n",
    "})"
   ]
  },
  {
   "cell_type": "markdown",
   "metadata": {},
   "source": [
    "### <u>Drop Redundant or Unnecessary Columns</u>"
   ]
  },
  {
   "cell_type": "code",
   "execution_count": 282,
   "metadata": {},
   "outputs": [
    {
     "name": "stderr",
     "output_type": "stream",
     "text": [
      "<>:9: SyntaxWarning: invalid escape sequence '\\['\n",
      "<>:10: SyntaxWarning: invalid escape sequence '\\['\n",
      "<>:9: SyntaxWarning: invalid escape sequence '\\['\n",
      "<>:10: SyntaxWarning: invalid escape sequence '\\['\n",
      "/tmp/ipykernel_11363/217881351.py:9: SyntaxWarning: invalid escape sequence '\\['\n",
      "  X_train.columns = X_train.columns.str.replace('[\\[\\]<>,]', '', regex=True)\n",
      "/tmp/ipykernel_11363/217881351.py:10: SyntaxWarning: invalid escape sequence '\\['\n",
      "  X_test.columns = X_test.columns.str.replace('[\\[\\]<>,]', '', regex=True)\n"
     ]
    }
   ],
   "source": [
    "X_train.drop(['index','cc_num','trans_num', 'unix_time', 'trans_date_trans_time','zip','first','last','gender','street','dob','state'\n",
    "                  ,'lat','long','merch_lat','merch_long','job','city','age','merchant_id'\n",
    "                  ,'city_pop','merchant','device_os'], axis=1, inplace=True)\n",
    "\n",
    "X_test.drop(['index','cc_num','trans_num', 'unix_time', 'trans_date_trans_time','zip','first','last','gender','street','dob','state'\n",
    "                  ,'lat','long','merch_lat','merch_long','job','city','age','merchant_id'\n",
    "                  ,'city_pop','merchant','device_os'], axis=1, inplace=True)\n",
    "\n",
    "X_train.columns = X_train.columns.str.replace('[\\[\\]<>,]', '', regex=True)\n",
    "X_test.columns = X_test.columns.str.replace('[\\[\\]<>,]', '', regex=True)"
   ]
  },
  {
   "cell_type": "code",
   "execution_count": 283,
   "metadata": {},
   "outputs": [
    {
     "data": {
      "text/html": [
       "<div>\n",
       "<style scoped>\n",
       "    .dataframe tbody tr th:only-of-type {\n",
       "        vertical-align: middle;\n",
       "    }\n",
       "\n",
       "    .dataframe tbody tr th {\n",
       "        vertical-align: top;\n",
       "    }\n",
       "\n",
       "    .dataframe thead th {\n",
       "        text-align: right;\n",
       "    }\n",
       "</style>\n",
       "<table border=\"1\" class=\"dataframe\">\n",
       "  <thead>\n",
       "    <tr style=\"text-align: right;\">\n",
       "      <th></th>\n",
       "      <th>amt</th>\n",
       "      <th>category_Electronics</th>\n",
       "      <th>category_Entertainment</th>\n",
       "      <th>category_Groceries</th>\n",
       "      <th>category_Travel</th>\n",
       "      <th>age_group_25-35</th>\n",
       "      <th>age_group_35-50</th>\n",
       "      <th>age_group_50-65</th>\n",
       "      <th>age_group_65+</th>\n",
       "      <th>job_risk_level_low</th>\n",
       "      <th>...</th>\n",
       "      <th>merchant_category_age_group_Groceries_25-35</th>\n",
       "      <th>merchant_category_age_group_Groceries_35-50</th>\n",
       "      <th>merchant_category_age_group_Groceries_50-65</th>\n",
       "      <th>merchant_category_age_group_Groceries_65+</th>\n",
       "      <th>merchant_category_age_group_Groceries_25</th>\n",
       "      <th>merchant_category_age_group_Travel_25-35</th>\n",
       "      <th>merchant_category_age_group_Travel_35-50</th>\n",
       "      <th>merchant_category_age_group_Travel_50-65</th>\n",
       "      <th>merchant_category_age_group_Travel_65+</th>\n",
       "      <th>merchant_category_age_group_Travel_25</th>\n",
       "    </tr>\n",
       "  </thead>\n",
       "  <tbody>\n",
       "    <tr>\n",
       "      <th>0</th>\n",
       "      <td>328.06</td>\n",
       "      <td>False</td>\n",
       "      <td>False</td>\n",
       "      <td>False</td>\n",
       "      <td>False</td>\n",
       "      <td>False</td>\n",
       "      <td>True</td>\n",
       "      <td>False</td>\n",
       "      <td>False</td>\n",
       "      <td>True</td>\n",
       "      <td>...</td>\n",
       "      <td>False</td>\n",
       "      <td>False</td>\n",
       "      <td>False</td>\n",
       "      <td>False</td>\n",
       "      <td>False</td>\n",
       "      <td>False</td>\n",
       "      <td>False</td>\n",
       "      <td>False</td>\n",
       "      <td>False</td>\n",
       "      <td>False</td>\n",
       "    </tr>\n",
       "    <tr>\n",
       "      <th>1</th>\n",
       "      <td>313.53</td>\n",
       "      <td>True</td>\n",
       "      <td>False</td>\n",
       "      <td>False</td>\n",
       "      <td>False</td>\n",
       "      <td>False</td>\n",
       "      <td>False</td>\n",
       "      <td>True</td>\n",
       "      <td>False</td>\n",
       "      <td>False</td>\n",
       "      <td>...</td>\n",
       "      <td>False</td>\n",
       "      <td>False</td>\n",
       "      <td>False</td>\n",
       "      <td>False</td>\n",
       "      <td>False</td>\n",
       "      <td>False</td>\n",
       "      <td>False</td>\n",
       "      <td>False</td>\n",
       "      <td>False</td>\n",
       "      <td>False</td>\n",
       "    </tr>\n",
       "    <tr>\n",
       "      <th>2</th>\n",
       "      <td>255.81</td>\n",
       "      <td>True</td>\n",
       "      <td>False</td>\n",
       "      <td>False</td>\n",
       "      <td>False</td>\n",
       "      <td>False</td>\n",
       "      <td>False</td>\n",
       "      <td>False</td>\n",
       "      <td>True</td>\n",
       "      <td>True</td>\n",
       "      <td>...</td>\n",
       "      <td>False</td>\n",
       "      <td>False</td>\n",
       "      <td>False</td>\n",
       "      <td>False</td>\n",
       "      <td>False</td>\n",
       "      <td>False</td>\n",
       "      <td>False</td>\n",
       "      <td>False</td>\n",
       "      <td>False</td>\n",
       "      <td>False</td>\n",
       "    </tr>\n",
       "    <tr>\n",
       "      <th>3</th>\n",
       "      <td>222.52</td>\n",
       "      <td>False</td>\n",
       "      <td>False</td>\n",
       "      <td>True</td>\n",
       "      <td>False</td>\n",
       "      <td>False</td>\n",
       "      <td>False</td>\n",
       "      <td>True</td>\n",
       "      <td>False</td>\n",
       "      <td>True</td>\n",
       "      <td>...</td>\n",
       "      <td>False</td>\n",
       "      <td>False</td>\n",
       "      <td>True</td>\n",
       "      <td>False</td>\n",
       "      <td>False</td>\n",
       "      <td>False</td>\n",
       "      <td>False</td>\n",
       "      <td>False</td>\n",
       "      <td>False</td>\n",
       "      <td>False</td>\n",
       "    </tr>\n",
       "    <tr>\n",
       "      <th>4</th>\n",
       "      <td>117.32</td>\n",
       "      <td>True</td>\n",
       "      <td>False</td>\n",
       "      <td>False</td>\n",
       "      <td>False</td>\n",
       "      <td>False</td>\n",
       "      <td>False</td>\n",
       "      <td>True</td>\n",
       "      <td>False</td>\n",
       "      <td>True</td>\n",
       "      <td>...</td>\n",
       "      <td>False</td>\n",
       "      <td>False</td>\n",
       "      <td>False</td>\n",
       "      <td>False</td>\n",
       "      <td>False</td>\n",
       "      <td>False</td>\n",
       "      <td>False</td>\n",
       "      <td>False</td>\n",
       "      <td>False</td>\n",
       "      <td>False</td>\n",
       "    </tr>\n",
       "  </tbody>\n",
       "</table>\n",
       "<p>5 rows × 35 columns</p>\n",
       "</div>"
      ],
      "text/plain": [
       "      amt  category_Electronics  category_Entertainment  category_Groceries  \\\n",
       "0  328.06                 False                   False               False   \n",
       "1  313.53                  True                   False               False   \n",
       "2  255.81                  True                   False               False   \n",
       "3  222.52                 False                   False                True   \n",
       "4  117.32                  True                   False               False   \n",
       "\n",
       "   category_Travel  age_group_25-35  age_group_35-50  age_group_50-65  \\\n",
       "0            False            False             True            False   \n",
       "1            False            False            False             True   \n",
       "2            False            False            False            False   \n",
       "3            False            False            False             True   \n",
       "4            False            False            False             True   \n",
       "\n",
       "   age_group_65+  job_risk_level_low  ...  \\\n",
       "0          False                True  ...   \n",
       "1          False               False  ...   \n",
       "2           True                True  ...   \n",
       "3          False                True  ...   \n",
       "4          False                True  ...   \n",
       "\n",
       "   merchant_category_age_group_Groceries_25-35  \\\n",
       "0                                        False   \n",
       "1                                        False   \n",
       "2                                        False   \n",
       "3                                        False   \n",
       "4                                        False   \n",
       "\n",
       "   merchant_category_age_group_Groceries_35-50  \\\n",
       "0                                        False   \n",
       "1                                        False   \n",
       "2                                        False   \n",
       "3                                        False   \n",
       "4                                        False   \n",
       "\n",
       "   merchant_category_age_group_Groceries_50-65  \\\n",
       "0                                        False   \n",
       "1                                        False   \n",
       "2                                        False   \n",
       "3                                         True   \n",
       "4                                        False   \n",
       "\n",
       "   merchant_category_age_group_Groceries_65+  \\\n",
       "0                                      False   \n",
       "1                                      False   \n",
       "2                                      False   \n",
       "3                                      False   \n",
       "4                                      False   \n",
       "\n",
       "   merchant_category_age_group_Groceries_25  \\\n",
       "0                                     False   \n",
       "1                                     False   \n",
       "2                                     False   \n",
       "3                                     False   \n",
       "4                                     False   \n",
       "\n",
       "   merchant_category_age_group_Travel_25-35  \\\n",
       "0                                     False   \n",
       "1                                     False   \n",
       "2                                     False   \n",
       "3                                     False   \n",
       "4                                     False   \n",
       "\n",
       "   merchant_category_age_group_Travel_35-50  \\\n",
       "0                                     False   \n",
       "1                                     False   \n",
       "2                                     False   \n",
       "3                                     False   \n",
       "4                                     False   \n",
       "\n",
       "   merchant_category_age_group_Travel_50-65  \\\n",
       "0                                     False   \n",
       "1                                     False   \n",
       "2                                     False   \n",
       "3                                     False   \n",
       "4                                     False   \n",
       "\n",
       "   merchant_category_age_group_Travel_65+  \\\n",
       "0                                   False   \n",
       "1                                   False   \n",
       "2                                   False   \n",
       "3                                   False   \n",
       "4                                   False   \n",
       "\n",
       "   merchant_category_age_group_Travel_25  \n",
       "0                                  False  \n",
       "1                                  False  \n",
       "2                                  False  \n",
       "3                                  False  \n",
       "4                                  False  \n",
       "\n",
       "[5 rows x 35 columns]"
      ]
     },
     "execution_count": 283,
     "metadata": {},
     "output_type": "execute_result"
    }
   ],
   "source": [
    "X_train.head()"
   ]
  },
  {
   "cell_type": "code",
   "execution_count": 284,
   "metadata": {},
   "outputs": [
    {
     "data": {
      "text/html": [
       "<div>\n",
       "<style scoped>\n",
       "    .dataframe tbody tr th:only-of-type {\n",
       "        vertical-align: middle;\n",
       "    }\n",
       "\n",
       "    .dataframe tbody tr th {\n",
       "        vertical-align: top;\n",
       "    }\n",
       "\n",
       "    .dataframe thead th {\n",
       "        text-align: right;\n",
       "    }\n",
       "</style>\n",
       "<table border=\"1\" class=\"dataframe\">\n",
       "  <thead>\n",
       "    <tr style=\"text-align: right;\">\n",
       "      <th></th>\n",
       "      <th>amt</th>\n",
       "      <th>category_Electronics</th>\n",
       "      <th>category_Entertainment</th>\n",
       "      <th>category_Groceries</th>\n",
       "      <th>category_Travel</th>\n",
       "      <th>age_group_25-35</th>\n",
       "      <th>age_group_35-50</th>\n",
       "      <th>age_group_50-65</th>\n",
       "      <th>age_group_65+</th>\n",
       "      <th>job_risk_level_low</th>\n",
       "      <th>...</th>\n",
       "      <th>merchant_category_age_group_Groceries_25-35</th>\n",
       "      <th>merchant_category_age_group_Groceries_35-50</th>\n",
       "      <th>merchant_category_age_group_Groceries_50-65</th>\n",
       "      <th>merchant_category_age_group_Groceries_65+</th>\n",
       "      <th>merchant_category_age_group_Groceries_25</th>\n",
       "      <th>merchant_category_age_group_Travel_25-35</th>\n",
       "      <th>merchant_category_age_group_Travel_35-50</th>\n",
       "      <th>merchant_category_age_group_Travel_50-65</th>\n",
       "      <th>merchant_category_age_group_Travel_65+</th>\n",
       "      <th>merchant_category_age_group_Travel_25</th>\n",
       "    </tr>\n",
       "  </thead>\n",
       "  <tbody>\n",
       "    <tr>\n",
       "      <th>24161</th>\n",
       "      <td>31.20</td>\n",
       "      <td>False</td>\n",
       "      <td>False</td>\n",
       "      <td>False</td>\n",
       "      <td>False</td>\n",
       "      <td>True</td>\n",
       "      <td>False</td>\n",
       "      <td>False</td>\n",
       "      <td>False</td>\n",
       "      <td>False</td>\n",
       "      <td>...</td>\n",
       "      <td>False</td>\n",
       "      <td>False</td>\n",
       "      <td>False</td>\n",
       "      <td>False</td>\n",
       "      <td>False</td>\n",
       "      <td>False</td>\n",
       "      <td>False</td>\n",
       "      <td>False</td>\n",
       "      <td>False</td>\n",
       "      <td>False</td>\n",
       "    </tr>\n",
       "    <tr>\n",
       "      <th>2107</th>\n",
       "      <td>139.18</td>\n",
       "      <td>False</td>\n",
       "      <td>False</td>\n",
       "      <td>True</td>\n",
       "      <td>False</td>\n",
       "      <td>False</td>\n",
       "      <td>False</td>\n",
       "      <td>True</td>\n",
       "      <td>False</td>\n",
       "      <td>True</td>\n",
       "      <td>...</td>\n",
       "      <td>False</td>\n",
       "      <td>False</td>\n",
       "      <td>True</td>\n",
       "      <td>False</td>\n",
       "      <td>False</td>\n",
       "      <td>False</td>\n",
       "      <td>False</td>\n",
       "      <td>False</td>\n",
       "      <td>False</td>\n",
       "      <td>False</td>\n",
       "    </tr>\n",
       "    <tr>\n",
       "      <th>27695</th>\n",
       "      <td>297.05</td>\n",
       "      <td>False</td>\n",
       "      <td>False</td>\n",
       "      <td>False</td>\n",
       "      <td>True</td>\n",
       "      <td>False</td>\n",
       "      <td>True</td>\n",
       "      <td>False</td>\n",
       "      <td>False</td>\n",
       "      <td>False</td>\n",
       "      <td>...</td>\n",
       "      <td>False</td>\n",
       "      <td>False</td>\n",
       "      <td>False</td>\n",
       "      <td>False</td>\n",
       "      <td>False</td>\n",
       "      <td>False</td>\n",
       "      <td>True</td>\n",
       "      <td>False</td>\n",
       "      <td>False</td>\n",
       "      <td>False</td>\n",
       "    </tr>\n",
       "    <tr>\n",
       "      <th>11110</th>\n",
       "      <td>122.39</td>\n",
       "      <td>False</td>\n",
       "      <td>False</td>\n",
       "      <td>False</td>\n",
       "      <td>True</td>\n",
       "      <td>False</td>\n",
       "      <td>False</td>\n",
       "      <td>True</td>\n",
       "      <td>False</td>\n",
       "      <td>False</td>\n",
       "      <td>...</td>\n",
       "      <td>False</td>\n",
       "      <td>False</td>\n",
       "      <td>False</td>\n",
       "      <td>False</td>\n",
       "      <td>False</td>\n",
       "      <td>False</td>\n",
       "      <td>False</td>\n",
       "      <td>True</td>\n",
       "      <td>False</td>\n",
       "      <td>False</td>\n",
       "    </tr>\n",
       "    <tr>\n",
       "      <th>28450</th>\n",
       "      <td>413.40</td>\n",
       "      <td>False</td>\n",
       "      <td>True</td>\n",
       "      <td>False</td>\n",
       "      <td>False</td>\n",
       "      <td>True</td>\n",
       "      <td>False</td>\n",
       "      <td>False</td>\n",
       "      <td>False</td>\n",
       "      <td>True</td>\n",
       "      <td>...</td>\n",
       "      <td>False</td>\n",
       "      <td>False</td>\n",
       "      <td>False</td>\n",
       "      <td>False</td>\n",
       "      <td>False</td>\n",
       "      <td>False</td>\n",
       "      <td>False</td>\n",
       "      <td>False</td>\n",
       "      <td>False</td>\n",
       "      <td>False</td>\n",
       "    </tr>\n",
       "  </tbody>\n",
       "</table>\n",
       "<p>5 rows × 35 columns</p>\n",
       "</div>"
      ],
      "text/plain": [
       "          amt  category_Electronics  category_Entertainment  \\\n",
       "24161   31.20                 False                   False   \n",
       "2107   139.18                 False                   False   \n",
       "27695  297.05                 False                   False   \n",
       "11110  122.39                 False                   False   \n",
       "28450  413.40                 False                    True   \n",
       "\n",
       "       category_Groceries  category_Travel  age_group_25-35  age_group_35-50  \\\n",
       "24161               False            False             True            False   \n",
       "2107                 True            False            False            False   \n",
       "27695               False             True            False             True   \n",
       "11110               False             True            False            False   \n",
       "28450               False            False             True            False   \n",
       "\n",
       "       age_group_50-65  age_group_65+  job_risk_level_low  ...  \\\n",
       "24161            False          False               False  ...   \n",
       "2107              True          False                True  ...   \n",
       "27695            False          False               False  ...   \n",
       "11110             True          False               False  ...   \n",
       "28450            False          False                True  ...   \n",
       "\n",
       "       merchant_category_age_group_Groceries_25-35  \\\n",
       "24161                                        False   \n",
       "2107                                         False   \n",
       "27695                                        False   \n",
       "11110                                        False   \n",
       "28450                                        False   \n",
       "\n",
       "       merchant_category_age_group_Groceries_35-50  \\\n",
       "24161                                        False   \n",
       "2107                                         False   \n",
       "27695                                        False   \n",
       "11110                                        False   \n",
       "28450                                        False   \n",
       "\n",
       "       merchant_category_age_group_Groceries_50-65  \\\n",
       "24161                                        False   \n",
       "2107                                          True   \n",
       "27695                                        False   \n",
       "11110                                        False   \n",
       "28450                                        False   \n",
       "\n",
       "       merchant_category_age_group_Groceries_65+  \\\n",
       "24161                                      False   \n",
       "2107                                       False   \n",
       "27695                                      False   \n",
       "11110                                      False   \n",
       "28450                                      False   \n",
       "\n",
       "       merchant_category_age_group_Groceries_25  \\\n",
       "24161                                     False   \n",
       "2107                                      False   \n",
       "27695                                     False   \n",
       "11110                                     False   \n",
       "28450                                     False   \n",
       "\n",
       "       merchant_category_age_group_Travel_25-35  \\\n",
       "24161                                     False   \n",
       "2107                                      False   \n",
       "27695                                     False   \n",
       "11110                                     False   \n",
       "28450                                     False   \n",
       "\n",
       "       merchant_category_age_group_Travel_35-50  \\\n",
       "24161                                     False   \n",
       "2107                                      False   \n",
       "27695                                      True   \n",
       "11110                                     False   \n",
       "28450                                     False   \n",
       "\n",
       "       merchant_category_age_group_Travel_50-65  \\\n",
       "24161                                     False   \n",
       "2107                                      False   \n",
       "27695                                     False   \n",
       "11110                                      True   \n",
       "28450                                     False   \n",
       "\n",
       "       merchant_category_age_group_Travel_65+  \\\n",
       "24161                                   False   \n",
       "2107                                    False   \n",
       "27695                                   False   \n",
       "11110                                   False   \n",
       "28450                                   False   \n",
       "\n",
       "       merchant_category_age_group_Travel_25  \n",
       "24161                                  False  \n",
       "2107                                   False  \n",
       "27695                                  False  \n",
       "11110                                  False  \n",
       "28450                                  False  \n",
       "\n",
       "[5 rows x 35 columns]"
      ]
     },
     "execution_count": 284,
     "metadata": {},
     "output_type": "execute_result"
    }
   ],
   "source": [
    "X_test.head()"
   ]
  },
  {
   "cell_type": "markdown",
   "metadata": {},
   "source": [
    "### <u>Normalize/Scale Numerical Features</u>"
   ]
  },
  {
   "cell_type": "code",
   "execution_count": 285,
   "metadata": {},
   "outputs": [],
   "source": [
    "numerical_columns = ['amt'] # Maybe add more numeric collums\n",
    "scaler = StandardScaler()\n",
    "X_train[numerical_columns] = scaler.fit_transform(X_train[numerical_columns])"
   ]
  },
  {
   "cell_type": "markdown",
   "metadata": {},
   "source": [
    "### <u>Class Imbalance</u>"
   ]
  },
  {
   "cell_type": "code",
   "execution_count": 286,
   "metadata": {},
   "outputs": [],
   "source": [
    "#X = merged_data.drop('is_fraud', axis=1)\n",
    "#y = merged_data['is_fraud']\n",
    "\n",
    "\n",
    "smote = SMOTE(random_state=42)\n",
    "X_train, y_train = smote.fit_resample(X_train, y_train)"
   ]
  },
  {
   "cell_type": "markdown",
   "metadata": {},
   "source": [
    "## 1.3- Clustering"
   ]
  },
  {
   "cell_type": "markdown",
   "metadata": {},
   "source": [
    "### DBSCAN"
   ]
  },
  {
   "cell_type": "code",
   "execution_count": 287,
   "metadata": {},
   "outputs": [
    {
     "data": {
      "text/plain": [
       "\"\\n# Select numerical features for clustering\\nfeatures = ['amt', 'hour']  # Replace with features relevant to your data\\ndata_subset = merged_data[features].dropna()\\n\\n# Standardize the features\\nscaler = StandardScaler()\\nscaled_features = scaler.fit_transform(data_subset)\\n\\n# Apply DBSCAN\\ndbscan = DBSCAN(eps=1.5, min_samples=10)  # Adjust `eps` and `min_samples` as needed\\nclusters = dbscan.fit_predict(scaled_features)\\n\\n# Add cluster labels to the dataset\\nmerged_data['cluster'] = clusters\\n\\n# Visualize the clusters \\nsns.scatterplot(data=merged_data, x='amt', y='hour', hue='cluster', palette='tab10')\\nplt.title('DBSCAN Clustering of Transactions')\\nplt.show()\\n\""
      ]
     },
     "execution_count": 287,
     "metadata": {},
     "output_type": "execute_result"
    }
   ],
   "source": [
    "\"\"\"\n",
    "# Select numerical features for clustering\n",
    "features = ['amt', 'hour']  # Replace with features relevant to your data\n",
    "data_subset = merged_data[features].dropna()\n",
    "\n",
    "# Standardize the features\n",
    "scaler = StandardScaler()\n",
    "scaled_features = scaler.fit_transform(data_subset)\n",
    "\n",
    "# Apply DBSCAN\n",
    "dbscan = DBSCAN(eps=1.5, min_samples=10)  # Adjust `eps` and `min_samples` as needed\n",
    "clusters = dbscan.fit_predict(scaled_features)\n",
    "\n",
    "# Add cluster labels to the dataset\n",
    "merged_data['cluster'] = clusters\n",
    "\n",
    "# Visualize the clusters \n",
    "sns.scatterplot(data=merged_data, x='amt', y='hour', hue='cluster', palette='tab10')\n",
    "plt.title('DBSCAN Clustering of Transactions')\n",
    "plt.show()\n",
    "\"\"\"\n"
   ]
  },
  {
   "cell_type": "markdown",
   "metadata": {},
   "source": [
    "### K-Means"
   ]
  },
  {
   "cell_type": "code",
   "execution_count": null,
   "metadata": {},
   "outputs": [
    {
     "data": {
      "text/plain": [
       "\"\\n\\n# Aggregate data by customer\\ncustomer_data = merged_data.groupby('cc_num').agg({\\n    'amt': 'mean',  # Average transaction amount\\n    'distance': 'mean',  # Average distance\\n    'is_fraud': 'mean',  # Fraud rate per customer\\n    'trans_num': 'count'  # Number of transactions\\n}).reset_index()\\n\\n# Select features for clustering\\nfeatures = ['amt', 'distance', 'is_fraud', 'trans_num']\\ncustomer_features = customer_data[features]\\n\\n# Standardize the data\\nscaler = StandardScaler()\\nscaled_features = scaler.fit_transform(customer_features)\\n\\n# Apply K-Means\\nkmeans = KMeans(n_clusters=4, random_state=42)  # Adjust `n_clusters` as needed\\ncustomer_data['cluster'] = kmeans.fit_predict(scaled_features)\\n\\n# Visualize clusters (e.g., fraud rate vs transaction amount)\\nsns.scatterplot(data=customer_data, x='amt', y='is_fraud', hue='cluster', palette='tab10')\\nplt.title('Customer Clustering Based on Behavior')\\nplt.show()\\n\\n\""
      ]
     },
     "execution_count": 288,
     "metadata": {},
     "output_type": "execute_result"
    }
   ],
   "source": [
    "\"\"\"\n",
    "# Aggregate data by customer\n",
    "customer_data = merged_data.groupby('cc_num').agg({\n",
    "    'amt': 'mean',  # Average transaction amount\n",
    "    'distance': 'mean',  # Average distance\n",
    "    'is_fraud': 'mean',  # Fraud rate per customer\n",
    "    'trans_num': 'count'  # Number of transactions\n",
    "}).reset_index()\n",
    "\n",
    "# Select features for clustering\n",
    "features = ['amt', 'distance', 'is_fraud', 'trans_num']\n",
    "customer_features = customer_data[features]\n",
    "\n",
    "# Standardize the data\n",
    "scaler = StandardScaler()\n",
    "scaled_features = scaler.fit_transform(customer_features)\n",
    "\n",
    "# Apply K-Means\n",
    "kmeans = KMeans(n_clusters=4, random_state=42)  # Adjust `n_clusters` as needed\n",
    "customer_data['cluster'] = kmeans.fit_predict(scaled_features)\n",
    "\n",
    "# Visualize clusters (e.g., fraud rate vs transaction amount)\n",
    "sns.scatterplot(data=customer_data, x='amt', y='is_fraud', hue='cluster', palette='tab10')\n",
    "plt.title('Customer Clustering Based on Behavior')\n",
    "plt.show()\n",
    "\n",
    "\"\"\""
   ]
  },
  {
   "cell_type": "markdown",
   "metadata": {},
   "source": [
    "# Task 2: Predictive Modelling"
   ]
  },
  {
   "cell_type": "code",
   "execution_count": 289,
   "metadata": {},
   "outputs": [],
   "source": [
    "transactions = pd.read_csv('kaggle-data/test_transactions.csv')\n",
    "merchants = pd.read_csv('kaggle-data/CreditCardTransactions/CreditCardTransactions/merchants.csv')\n",
    "customers = pd.read_csv('kaggle-data/CreditCardTransactions/CreditCardTransactions/customers.csv')\n",
    "cities = pd.read_csv('kaggle-data/CreditCardTransactions/CreditCardTransactions/cities.csv')\n",
    "\n",
    "# Merge the .csv files into one\n",
    "kaggle_data = pd.merge(transactions, customers, on='cc_num', how='left')\n",
    "kaggle_data = pd.merge(kaggle_data, merchants, on='merchant', how='left')\n",
    "kaggle_data = pd.merge(kaggle_data, cities, on='city', how='left')\n",
    "\n",
    "\n",
    "#kaggle_data = pd.read_csv('kaggle-data/test_transactions.csv')\n",
    "\n",
    "#kaggle_data['amt'] = kaggle_data['amt'].fillna(kaggle_data['amt'].mean())\n"
   ]
  },
  {
   "cell_type": "code",
   "execution_count": 290,
   "metadata": {},
   "outputs": [],
   "source": [
    "for col in numeric_cols:\n",
    "    if col in kaggle_data.columns:  # Garantir que a coluna exista no teste\n",
    "        kaggle_data[col] = kaggle_data[col].fillna(train_means[col])\n",
    "\n",
    "for col in categorical_cols:\n",
    "    if col in kaggle_data.columns:  # Garantir que a coluna exista no teste\n",
    "        kaggle_data[col] = kaggle_data[col].fillna(train_modes[col])\n"
   ]
  },
  {
   "cell_type": "code",
   "execution_count": 291,
   "metadata": {},
   "outputs": [
    {
     "data": {
      "text/plain": [
       "'\\n# Assuming `filtered_data` is your DataFrame with missing values\\ndata = kaggle_data.copy()\\n\\n# Convert categorical variables to numerical while preserving NaN\\ncategorical_cols = data.select_dtypes(include=[\\'object\\']).columns\\nlabel_encoders = {}\\n\\nfor col in categorical_cols:\\n    le = LabelEncoder()\\n    # Temporarily replace NaN with a placeholder (-1)\\n    data[col] = data[col].fillna(\\'Missing\\')\\n    # Encode the categorical values\\n    data[col] = le.fit_transform(data[col])\\n    label_encoders[col] = le\\n    # Restore NaN in the data where \\'Missing\\' was encoded\\n    if col == \\'device_os\\':\\n        data[col] = data[col].replace(le.transform([\\'Missing\\'])[0], np.nan)\\n\\n# Print the dataset before imputation\\nprint(\"Data Before Imputation:\\n\", data)\\n\\n# Create an object for KNNImputer and apply it to the data\\nimputer = KNNImputer(n_neighbors=2)\\nimputed_data = imputer.fit_transform(data)\\n\\n# Convert the imputed data back to a DataFrame\\nimputed_data = pd.DataFrame(imputed_data, columns=data.columns)\\n\\n# Convert the numerical columns for categorical variables back to original labels\\nfor col in categorical_cols:\\n    le = label_encoders[col]\\n    imputed_data[col] = imputed_data[col].round().astype(int)  # Ensure integers before decoding\\n    imputed_data[col] = le.inverse_transform(imputed_data[col])\\n\\n# Print the dataset after imputation\\nprint(\"\\n\\nData After Imputation:\\n\", imputed_data)\\n\\n# Check for remaining missing values\\nprint(\"\\nRemaining Missing Values:\\n\", imputed_data.isna().sum())\\n'"
      ]
     },
     "execution_count": 291,
     "metadata": {},
     "output_type": "execute_result"
    }
   ],
   "source": [
    "'''\n",
    "# Assuming `filtered_data` is your DataFrame with missing values\n",
    "data = kaggle_data.copy()\n",
    "\n",
    "# Convert categorical variables to numerical while preserving NaN\n",
    "categorical_cols = data.select_dtypes(include=['object']).columns\n",
    "label_encoders = {}\n",
    "\n",
    "for col in categorical_cols:\n",
    "    le = LabelEncoder()\n",
    "    # Temporarily replace NaN with a placeholder (-1)\n",
    "    data[col] = data[col].fillna('Missing')\n",
    "    # Encode the categorical values\n",
    "    data[col] = le.fit_transform(data[col])\n",
    "    label_encoders[col] = le\n",
    "    # Restore NaN in the data where 'Missing' was encoded\n",
    "    if col == 'device_os':\n",
    "        data[col] = data[col].replace(le.transform(['Missing'])[0], np.nan)\n",
    "\n",
    "# Print the dataset before imputation\n",
    "print(\"Data Before Imputation:\\n\", data)\n",
    "\n",
    "# Create an object for KNNImputer and apply it to the data\n",
    "imputer = KNNImputer(n_neighbors=2)\n",
    "imputed_data = imputer.fit_transform(data)\n",
    "\n",
    "# Convert the imputed data back to a DataFrame\n",
    "imputed_data = pd.DataFrame(imputed_data, columns=data.columns)\n",
    "\n",
    "# Convert the numerical columns for categorical variables back to original labels\n",
    "for col in categorical_cols:\n",
    "    le = label_encoders[col]\n",
    "    imputed_data[col] = imputed_data[col].round().astype(int)  # Ensure integers before decoding\n",
    "    imputed_data[col] = le.inverse_transform(imputed_data[col])\n",
    "\n",
    "# Print the dataset after imputation\n",
    "print(\"\\n\\nData After Imputation:\\n\", imputed_data)\n",
    "\n",
    "# Check for remaining missing values\n",
    "print(\"\\nRemaining Missing Values:\\n\", imputed_data.isna().sum())\n",
    "'''"
   ]
  },
  {
   "cell_type": "code",
   "execution_count": 292,
   "metadata": {},
   "outputs": [],
   "source": [
    "def calculate_age_and_group(data):\n",
    "    # Calcular a idade\n",
    "    data['age'] = pd.to_datetime('2023-01-01') - pd.to_datetime(data['dob'])\n",
    "    data['age'] = data['age'].dt.days // 365\n",
    "\n",
    "    # Binarizar a idade em grupos\n",
    "    bins = [0, 25, 35, 50, 65, 100]\n",
    "    labels = ['<25', '25-35', '35-50', '50-65', '65+']\n",
    "    data['age_group'] = pd.cut(data['age'], bins=bins, labels=labels, right=False)\n",
    "    return data\n",
    "\n",
    "kaggle_data = calculate_age_and_group(kaggle_data)\n"
   ]
  },
  {
   "cell_type": "code",
   "execution_count": 293,
   "metadata": {},
   "outputs": [],
   "source": [
    "kaggle_data['merchant_category_age_group'] = (\n",
    "    kaggle_data['category'] + '_' + kaggle_data['age_group'].astype(str)\n",
    ")\n"
   ]
  },
  {
   "cell_type": "code",
   "execution_count": 294,
   "metadata": {},
   "outputs": [],
   "source": [
    "high_risk_age_groups = ['25-35']\n",
    "kaggle_data['is_high_risk_age_group'] = kaggle_data['age_group'].apply(lambda x: 1 if x in high_risk_age_groups else 0)\n"
   ]
  },
  {
   "cell_type": "code",
   "execution_count": 295,
   "metadata": {},
   "outputs": [],
   "source": [
    "high_risk_jobs = ['Clerk', 'Lawyer']\n",
    "kaggle_data['job_risk_level'] = kaggle_data['job'].apply(lambda x: 'high' if x in high_risk_jobs else 'low')\n"
   ]
  },
  {
   "cell_type": "code",
   "execution_count": 296,
   "metadata": {},
   "outputs": [
    {
     "name": "stderr",
     "output_type": "stream",
     "text": [
      "<>:25: SyntaxWarning: invalid escape sequence '\\['\n",
      "<>:25: SyntaxWarning: invalid escape sequence '\\['\n",
      "/tmp/ipykernel_11363/3291220361.py:25: SyntaxWarning: invalid escape sequence '\\['\n",
      "  kaggle_data.columns = kaggle_data.columns.str.replace('[\\[\\]<>,]', '', regex=True)\n"
     ]
    }
   ],
   "source": [
    "# One-hot encoding example\n",
    "kaggle_data = pd.get_dummies(kaggle_data, columns=['category', 'age_group', 'job_risk_level','is_high_risk_age_group','merchant_category_age_group'], drop_first=True)\n",
    "\n",
    "kaggle_data = kaggle_data.rename(columns={\n",
    "    'is_high_risk_age_group_0.0': 'is_high_risk_age_group_0',\n",
    "    'is_high_risk_age_group_1.0': 'is_high_risk_age_group_1'\n",
    "})\n",
    "\n",
    "\n",
    "#numerical_columns = ['amt'] # Maybe add more numeric collums  !!!!!!!!!!!!!!!!!!!!!!!!!!!!!!!!!!!!!!!!!!!! PERGUNTAR se faz sentido Normalization only on train data\n",
    "#scaler = StandardScaler()\n",
    "#kaggle_data[numerical_columns] = scaler.fit_transform(kaggle_data[numerical_columns])\n",
    "\n",
    "index_mapping = kaggle_data['index'].values\n",
    "\n",
    "kaggle_data.drop(['index','cc_num','trans_num', 'unix_time', 'trans_date_trans_time','zip','first','last','gender','street','dob','state'\n",
    "                  ,'lat','long','merch_lat','merch_long','job','city','age','merchant_id'\n",
    "                  ,'city_pop','merchant','device_os'], axis=1, inplace=True)\n",
    "\n",
    "# NOTE: I had to rename the macOs device from the \"test_transactions\" to macOS to be the same as the trained model\n",
    "\n",
    "#kaggle_data.insert(loc=35, column='device_os_Windows', value=0)\n",
    "\n",
    "\n",
    "kaggle_data.columns = kaggle_data.columns.str.replace('[\\[\\]<>,]', '', regex=True)"
   ]
  },
  {
   "cell_type": "code",
   "execution_count": 297,
   "metadata": {},
   "outputs": [
    {
     "data": {
      "text/html": [
       "<div>\n",
       "<style scoped>\n",
       "    .dataframe tbody tr th:only-of-type {\n",
       "        vertical-align: middle;\n",
       "    }\n",
       "\n",
       "    .dataframe tbody tr th {\n",
       "        vertical-align: top;\n",
       "    }\n",
       "\n",
       "    .dataframe thead th {\n",
       "        text-align: right;\n",
       "    }\n",
       "</style>\n",
       "<table border=\"1\" class=\"dataframe\">\n",
       "  <thead>\n",
       "    <tr style=\"text-align: right;\">\n",
       "      <th></th>\n",
       "      <th>amt</th>\n",
       "      <th>category_Electronics</th>\n",
       "      <th>category_Entertainment</th>\n",
       "      <th>category_Groceries</th>\n",
       "      <th>category_Travel</th>\n",
       "      <th>age_group_25-35</th>\n",
       "      <th>age_group_35-50</th>\n",
       "      <th>age_group_50-65</th>\n",
       "      <th>age_group_65+</th>\n",
       "      <th>job_risk_level_low</th>\n",
       "      <th>...</th>\n",
       "      <th>merchant_category_age_group_Groceries_25-35</th>\n",
       "      <th>merchant_category_age_group_Groceries_35-50</th>\n",
       "      <th>merchant_category_age_group_Groceries_50-65</th>\n",
       "      <th>merchant_category_age_group_Groceries_65+</th>\n",
       "      <th>merchant_category_age_group_Groceries_25</th>\n",
       "      <th>merchant_category_age_group_Travel_25-35</th>\n",
       "      <th>merchant_category_age_group_Travel_35-50</th>\n",
       "      <th>merchant_category_age_group_Travel_50-65</th>\n",
       "      <th>merchant_category_age_group_Travel_65+</th>\n",
       "      <th>merchant_category_age_group_Travel_25</th>\n",
       "    </tr>\n",
       "  </thead>\n",
       "  <tbody>\n",
       "    <tr>\n",
       "      <th>0</th>\n",
       "      <td>237.193397</td>\n",
       "      <td>False</td>\n",
       "      <td>False</td>\n",
       "      <td>False</td>\n",
       "      <td>False</td>\n",
       "      <td>True</td>\n",
       "      <td>False</td>\n",
       "      <td>False</td>\n",
       "      <td>False</td>\n",
       "      <td>False</td>\n",
       "      <td>...</td>\n",
       "      <td>False</td>\n",
       "      <td>False</td>\n",
       "      <td>False</td>\n",
       "      <td>False</td>\n",
       "      <td>False</td>\n",
       "      <td>False</td>\n",
       "      <td>False</td>\n",
       "      <td>False</td>\n",
       "      <td>False</td>\n",
       "      <td>False</td>\n",
       "    </tr>\n",
       "    <tr>\n",
       "      <th>1</th>\n",
       "      <td>111.790842</td>\n",
       "      <td>False</td>\n",
       "      <td>False</td>\n",
       "      <td>False</td>\n",
       "      <td>True</td>\n",
       "      <td>False</td>\n",
       "      <td>False</td>\n",
       "      <td>True</td>\n",
       "      <td>False</td>\n",
       "      <td>True</td>\n",
       "      <td>...</td>\n",
       "      <td>False</td>\n",
       "      <td>False</td>\n",
       "      <td>False</td>\n",
       "      <td>False</td>\n",
       "      <td>False</td>\n",
       "      <td>False</td>\n",
       "      <td>False</td>\n",
       "      <td>True</td>\n",
       "      <td>False</td>\n",
       "      <td>False</td>\n",
       "    </tr>\n",
       "    <tr>\n",
       "      <th>2</th>\n",
       "      <td>263.236625</td>\n",
       "      <td>False</td>\n",
       "      <td>False</td>\n",
       "      <td>True</td>\n",
       "      <td>False</td>\n",
       "      <td>False</td>\n",
       "      <td>False</td>\n",
       "      <td>False</td>\n",
       "      <td>False</td>\n",
       "      <td>True</td>\n",
       "      <td>...</td>\n",
       "      <td>False</td>\n",
       "      <td>False</td>\n",
       "      <td>False</td>\n",
       "      <td>False</td>\n",
       "      <td>True</td>\n",
       "      <td>False</td>\n",
       "      <td>False</td>\n",
       "      <td>False</td>\n",
       "      <td>False</td>\n",
       "      <td>False</td>\n",
       "    </tr>\n",
       "    <tr>\n",
       "      <th>3</th>\n",
       "      <td>355.424471</td>\n",
       "      <td>False</td>\n",
       "      <td>False</td>\n",
       "      <td>True</td>\n",
       "      <td>False</td>\n",
       "      <td>False</td>\n",
       "      <td>False</td>\n",
       "      <td>True</td>\n",
       "      <td>False</td>\n",
       "      <td>True</td>\n",
       "      <td>...</td>\n",
       "      <td>False</td>\n",
       "      <td>False</td>\n",
       "      <td>True</td>\n",
       "      <td>False</td>\n",
       "      <td>False</td>\n",
       "      <td>False</td>\n",
       "      <td>False</td>\n",
       "      <td>False</td>\n",
       "      <td>False</td>\n",
       "      <td>False</td>\n",
       "    </tr>\n",
       "    <tr>\n",
       "      <th>4</th>\n",
       "      <td>252.471612</td>\n",
       "      <td>False</td>\n",
       "      <td>False</td>\n",
       "      <td>False</td>\n",
       "      <td>False</td>\n",
       "      <td>False</td>\n",
       "      <td>True</td>\n",
       "      <td>False</td>\n",
       "      <td>False</td>\n",
       "      <td>True</td>\n",
       "      <td>...</td>\n",
       "      <td>False</td>\n",
       "      <td>False</td>\n",
       "      <td>False</td>\n",
       "      <td>False</td>\n",
       "      <td>False</td>\n",
       "      <td>False</td>\n",
       "      <td>False</td>\n",
       "      <td>False</td>\n",
       "      <td>False</td>\n",
       "      <td>False</td>\n",
       "    </tr>\n",
       "  </tbody>\n",
       "</table>\n",
       "<p>5 rows × 35 columns</p>\n",
       "</div>"
      ],
      "text/plain": [
       "          amt  category_Electronics  category_Entertainment  \\\n",
       "0  237.193397                 False                   False   \n",
       "1  111.790842                 False                   False   \n",
       "2  263.236625                 False                   False   \n",
       "3  355.424471                 False                   False   \n",
       "4  252.471612                 False                   False   \n",
       "\n",
       "   category_Groceries  category_Travel  age_group_25-35  age_group_35-50  \\\n",
       "0               False            False             True            False   \n",
       "1               False             True            False            False   \n",
       "2                True            False            False            False   \n",
       "3                True            False            False            False   \n",
       "4               False            False            False             True   \n",
       "\n",
       "   age_group_50-65  age_group_65+  job_risk_level_low  ...  \\\n",
       "0            False          False               False  ...   \n",
       "1             True          False                True  ...   \n",
       "2            False          False                True  ...   \n",
       "3             True          False                True  ...   \n",
       "4            False          False                True  ...   \n",
       "\n",
       "   merchant_category_age_group_Groceries_25-35  \\\n",
       "0                                        False   \n",
       "1                                        False   \n",
       "2                                        False   \n",
       "3                                        False   \n",
       "4                                        False   \n",
       "\n",
       "   merchant_category_age_group_Groceries_35-50  \\\n",
       "0                                        False   \n",
       "1                                        False   \n",
       "2                                        False   \n",
       "3                                        False   \n",
       "4                                        False   \n",
       "\n",
       "   merchant_category_age_group_Groceries_50-65  \\\n",
       "0                                        False   \n",
       "1                                        False   \n",
       "2                                        False   \n",
       "3                                         True   \n",
       "4                                        False   \n",
       "\n",
       "   merchant_category_age_group_Groceries_65+  \\\n",
       "0                                      False   \n",
       "1                                      False   \n",
       "2                                      False   \n",
       "3                                      False   \n",
       "4                                      False   \n",
       "\n",
       "   merchant_category_age_group_Groceries_25  \\\n",
       "0                                     False   \n",
       "1                                     False   \n",
       "2                                      True   \n",
       "3                                     False   \n",
       "4                                     False   \n",
       "\n",
       "   merchant_category_age_group_Travel_25-35  \\\n",
       "0                                     False   \n",
       "1                                     False   \n",
       "2                                     False   \n",
       "3                                     False   \n",
       "4                                     False   \n",
       "\n",
       "   merchant_category_age_group_Travel_35-50  \\\n",
       "0                                     False   \n",
       "1                                     False   \n",
       "2                                     False   \n",
       "3                                     False   \n",
       "4                                     False   \n",
       "\n",
       "   merchant_category_age_group_Travel_50-65  \\\n",
       "0                                     False   \n",
       "1                                      True   \n",
       "2                                     False   \n",
       "3                                     False   \n",
       "4                                     False   \n",
       "\n",
       "   merchant_category_age_group_Travel_65+  \\\n",
       "0                                   False   \n",
       "1                                   False   \n",
       "2                                   False   \n",
       "3                                   False   \n",
       "4                                   False   \n",
       "\n",
       "   merchant_category_age_group_Travel_25  \n",
       "0                                  False  \n",
       "1                                  False  \n",
       "2                                  False  \n",
       "3                                  False  \n",
       "4                                  False  \n",
       "\n",
       "[5 rows x 35 columns]"
      ]
     },
     "execution_count": 297,
     "metadata": {},
     "output_type": "execute_result"
    }
   ],
   "source": [
    "kaggle_data.head()\n"
   ]
  },
  {
   "cell_type": "markdown",
   "metadata": {},
   "source": [
    "## Random Forest Classifier"
   ]
  },
  {
   "cell_type": "code",
   "execution_count": 298,
   "metadata": {},
   "outputs": [
    {
     "data": {
      "text/html": [
       "<style>#sk-container-id-7 {\n",
       "  /* Definition of color scheme common for light and dark mode */\n",
       "  --sklearn-color-text: black;\n",
       "  --sklearn-color-line: gray;\n",
       "  /* Definition of color scheme for unfitted estimators */\n",
       "  --sklearn-color-unfitted-level-0: #fff5e6;\n",
       "  --sklearn-color-unfitted-level-1: #f6e4d2;\n",
       "  --sklearn-color-unfitted-level-2: #ffe0b3;\n",
       "  --sklearn-color-unfitted-level-3: chocolate;\n",
       "  /* Definition of color scheme for fitted estimators */\n",
       "  --sklearn-color-fitted-level-0: #f0f8ff;\n",
       "  --sklearn-color-fitted-level-1: #d4ebff;\n",
       "  --sklearn-color-fitted-level-2: #b3dbfd;\n",
       "  --sklearn-color-fitted-level-3: cornflowerblue;\n",
       "\n",
       "  /* Specific color for light theme */\n",
       "  --sklearn-color-text-on-default-background: var(--sg-text-color, var(--theme-code-foreground, var(--jp-content-font-color1, black)));\n",
       "  --sklearn-color-background: var(--sg-background-color, var(--theme-background, var(--jp-layout-color0, white)));\n",
       "  --sklearn-color-border-box: var(--sg-text-color, var(--theme-code-foreground, var(--jp-content-font-color1, black)));\n",
       "  --sklearn-color-icon: #696969;\n",
       "\n",
       "  @media (prefers-color-scheme: dark) {\n",
       "    /* Redefinition of color scheme for dark theme */\n",
       "    --sklearn-color-text-on-default-background: var(--sg-text-color, var(--theme-code-foreground, var(--jp-content-font-color1, white)));\n",
       "    --sklearn-color-background: var(--sg-background-color, var(--theme-background, var(--jp-layout-color0, #111)));\n",
       "    --sklearn-color-border-box: var(--sg-text-color, var(--theme-code-foreground, var(--jp-content-font-color1, white)));\n",
       "    --sklearn-color-icon: #878787;\n",
       "  }\n",
       "}\n",
       "\n",
       "#sk-container-id-7 {\n",
       "  color: var(--sklearn-color-text);\n",
       "}\n",
       "\n",
       "#sk-container-id-7 pre {\n",
       "  padding: 0;\n",
       "}\n",
       "\n",
       "#sk-container-id-7 input.sk-hidden--visually {\n",
       "  border: 0;\n",
       "  clip: rect(1px 1px 1px 1px);\n",
       "  clip: rect(1px, 1px, 1px, 1px);\n",
       "  height: 1px;\n",
       "  margin: -1px;\n",
       "  overflow: hidden;\n",
       "  padding: 0;\n",
       "  position: absolute;\n",
       "  width: 1px;\n",
       "}\n",
       "\n",
       "#sk-container-id-7 div.sk-dashed-wrapped {\n",
       "  border: 1px dashed var(--sklearn-color-line);\n",
       "  margin: 0 0.4em 0.5em 0.4em;\n",
       "  box-sizing: border-box;\n",
       "  padding-bottom: 0.4em;\n",
       "  background-color: var(--sklearn-color-background);\n",
       "}\n",
       "\n",
       "#sk-container-id-7 div.sk-container {\n",
       "  /* jupyter's `normalize.less` sets `[hidden] { display: none; }`\n",
       "     but bootstrap.min.css set `[hidden] { display: none !important; }`\n",
       "     so we also need the `!important` here to be able to override the\n",
       "     default hidden behavior on the sphinx rendered scikit-learn.org.\n",
       "     See: https://github.com/scikit-learn/scikit-learn/issues/21755 */\n",
       "  display: inline-block !important;\n",
       "  position: relative;\n",
       "}\n",
       "\n",
       "#sk-container-id-7 div.sk-text-repr-fallback {\n",
       "  display: none;\n",
       "}\n",
       "\n",
       "div.sk-parallel-item,\n",
       "div.sk-serial,\n",
       "div.sk-item {\n",
       "  /* draw centered vertical line to link estimators */\n",
       "  background-image: linear-gradient(var(--sklearn-color-text-on-default-background), var(--sklearn-color-text-on-default-background));\n",
       "  background-size: 2px 100%;\n",
       "  background-repeat: no-repeat;\n",
       "  background-position: center center;\n",
       "}\n",
       "\n",
       "/* Parallel-specific style estimator block */\n",
       "\n",
       "#sk-container-id-7 div.sk-parallel-item::after {\n",
       "  content: \"\";\n",
       "  width: 100%;\n",
       "  border-bottom: 2px solid var(--sklearn-color-text-on-default-background);\n",
       "  flex-grow: 1;\n",
       "}\n",
       "\n",
       "#sk-container-id-7 div.sk-parallel {\n",
       "  display: flex;\n",
       "  align-items: stretch;\n",
       "  justify-content: center;\n",
       "  background-color: var(--sklearn-color-background);\n",
       "  position: relative;\n",
       "}\n",
       "\n",
       "#sk-container-id-7 div.sk-parallel-item {\n",
       "  display: flex;\n",
       "  flex-direction: column;\n",
       "}\n",
       "\n",
       "#sk-container-id-7 div.sk-parallel-item:first-child::after {\n",
       "  align-self: flex-end;\n",
       "  width: 50%;\n",
       "}\n",
       "\n",
       "#sk-container-id-7 div.sk-parallel-item:last-child::after {\n",
       "  align-self: flex-start;\n",
       "  width: 50%;\n",
       "}\n",
       "\n",
       "#sk-container-id-7 div.sk-parallel-item:only-child::after {\n",
       "  width: 0;\n",
       "}\n",
       "\n",
       "/* Serial-specific style estimator block */\n",
       "\n",
       "#sk-container-id-7 div.sk-serial {\n",
       "  display: flex;\n",
       "  flex-direction: column;\n",
       "  align-items: center;\n",
       "  background-color: var(--sklearn-color-background);\n",
       "  padding-right: 1em;\n",
       "  padding-left: 1em;\n",
       "}\n",
       "\n",
       "\n",
       "/* Toggleable style: style used for estimator/Pipeline/ColumnTransformer box that is\n",
       "clickable and can be expanded/collapsed.\n",
       "- Pipeline and ColumnTransformer use this feature and define the default style\n",
       "- Estimators will overwrite some part of the style using the `sk-estimator` class\n",
       "*/\n",
       "\n",
       "/* Pipeline and ColumnTransformer style (default) */\n",
       "\n",
       "#sk-container-id-7 div.sk-toggleable {\n",
       "  /* Default theme specific background. It is overwritten whether we have a\n",
       "  specific estimator or a Pipeline/ColumnTransformer */\n",
       "  background-color: var(--sklearn-color-background);\n",
       "}\n",
       "\n",
       "/* Toggleable label */\n",
       "#sk-container-id-7 label.sk-toggleable__label {\n",
       "  cursor: pointer;\n",
       "  display: block;\n",
       "  width: 100%;\n",
       "  margin-bottom: 0;\n",
       "  padding: 0.5em;\n",
       "  box-sizing: border-box;\n",
       "  text-align: center;\n",
       "}\n",
       "\n",
       "#sk-container-id-7 label.sk-toggleable__label-arrow:before {\n",
       "  /* Arrow on the left of the label */\n",
       "  content: \"▸\";\n",
       "  float: left;\n",
       "  margin-right: 0.25em;\n",
       "  color: var(--sklearn-color-icon);\n",
       "}\n",
       "\n",
       "#sk-container-id-7 label.sk-toggleable__label-arrow:hover:before {\n",
       "  color: var(--sklearn-color-text);\n",
       "}\n",
       "\n",
       "/* Toggleable content - dropdown */\n",
       "\n",
       "#sk-container-id-7 div.sk-toggleable__content {\n",
       "  max-height: 0;\n",
       "  max-width: 0;\n",
       "  overflow: hidden;\n",
       "  text-align: left;\n",
       "  /* unfitted */\n",
       "  background-color: var(--sklearn-color-unfitted-level-0);\n",
       "}\n",
       "\n",
       "#sk-container-id-7 div.sk-toggleable__content.fitted {\n",
       "  /* fitted */\n",
       "  background-color: var(--sklearn-color-fitted-level-0);\n",
       "}\n",
       "\n",
       "#sk-container-id-7 div.sk-toggleable__content pre {\n",
       "  margin: 0.2em;\n",
       "  border-radius: 0.25em;\n",
       "  color: var(--sklearn-color-text);\n",
       "  /* unfitted */\n",
       "  background-color: var(--sklearn-color-unfitted-level-0);\n",
       "}\n",
       "\n",
       "#sk-container-id-7 div.sk-toggleable__content.fitted pre {\n",
       "  /* unfitted */\n",
       "  background-color: var(--sklearn-color-fitted-level-0);\n",
       "}\n",
       "\n",
       "#sk-container-id-7 input.sk-toggleable__control:checked~div.sk-toggleable__content {\n",
       "  /* Expand drop-down */\n",
       "  max-height: 200px;\n",
       "  max-width: 100%;\n",
       "  overflow: auto;\n",
       "}\n",
       "\n",
       "#sk-container-id-7 input.sk-toggleable__control:checked~label.sk-toggleable__label-arrow:before {\n",
       "  content: \"▾\";\n",
       "}\n",
       "\n",
       "/* Pipeline/ColumnTransformer-specific style */\n",
       "\n",
       "#sk-container-id-7 div.sk-label input.sk-toggleable__control:checked~label.sk-toggleable__label {\n",
       "  color: var(--sklearn-color-text);\n",
       "  background-color: var(--sklearn-color-unfitted-level-2);\n",
       "}\n",
       "\n",
       "#sk-container-id-7 div.sk-label.fitted input.sk-toggleable__control:checked~label.sk-toggleable__label {\n",
       "  background-color: var(--sklearn-color-fitted-level-2);\n",
       "}\n",
       "\n",
       "/* Estimator-specific style */\n",
       "\n",
       "/* Colorize estimator box */\n",
       "#sk-container-id-7 div.sk-estimator input.sk-toggleable__control:checked~label.sk-toggleable__label {\n",
       "  /* unfitted */\n",
       "  background-color: var(--sklearn-color-unfitted-level-2);\n",
       "}\n",
       "\n",
       "#sk-container-id-7 div.sk-estimator.fitted input.sk-toggleable__control:checked~label.sk-toggleable__label {\n",
       "  /* fitted */\n",
       "  background-color: var(--sklearn-color-fitted-level-2);\n",
       "}\n",
       "\n",
       "#sk-container-id-7 div.sk-label label.sk-toggleable__label,\n",
       "#sk-container-id-7 div.sk-label label {\n",
       "  /* The background is the default theme color */\n",
       "  color: var(--sklearn-color-text-on-default-background);\n",
       "}\n",
       "\n",
       "/* On hover, darken the color of the background */\n",
       "#sk-container-id-7 div.sk-label:hover label.sk-toggleable__label {\n",
       "  color: var(--sklearn-color-text);\n",
       "  background-color: var(--sklearn-color-unfitted-level-2);\n",
       "}\n",
       "\n",
       "/* Label box, darken color on hover, fitted */\n",
       "#sk-container-id-7 div.sk-label.fitted:hover label.sk-toggleable__label.fitted {\n",
       "  color: var(--sklearn-color-text);\n",
       "  background-color: var(--sklearn-color-fitted-level-2);\n",
       "}\n",
       "\n",
       "/* Estimator label */\n",
       "\n",
       "#sk-container-id-7 div.sk-label label {\n",
       "  font-family: monospace;\n",
       "  font-weight: bold;\n",
       "  display: inline-block;\n",
       "  line-height: 1.2em;\n",
       "}\n",
       "\n",
       "#sk-container-id-7 div.sk-label-container {\n",
       "  text-align: center;\n",
       "}\n",
       "\n",
       "/* Estimator-specific */\n",
       "#sk-container-id-7 div.sk-estimator {\n",
       "  font-family: monospace;\n",
       "  border: 1px dotted var(--sklearn-color-border-box);\n",
       "  border-radius: 0.25em;\n",
       "  box-sizing: border-box;\n",
       "  margin-bottom: 0.5em;\n",
       "  /* unfitted */\n",
       "  background-color: var(--sklearn-color-unfitted-level-0);\n",
       "}\n",
       "\n",
       "#sk-container-id-7 div.sk-estimator.fitted {\n",
       "  /* fitted */\n",
       "  background-color: var(--sklearn-color-fitted-level-0);\n",
       "}\n",
       "\n",
       "/* on hover */\n",
       "#sk-container-id-7 div.sk-estimator:hover {\n",
       "  /* unfitted */\n",
       "  background-color: var(--sklearn-color-unfitted-level-2);\n",
       "}\n",
       "\n",
       "#sk-container-id-7 div.sk-estimator.fitted:hover {\n",
       "  /* fitted */\n",
       "  background-color: var(--sklearn-color-fitted-level-2);\n",
       "}\n",
       "\n",
       "/* Specification for estimator info (e.g. \"i\" and \"?\") */\n",
       "\n",
       "/* Common style for \"i\" and \"?\" */\n",
       "\n",
       ".sk-estimator-doc-link,\n",
       "a:link.sk-estimator-doc-link,\n",
       "a:visited.sk-estimator-doc-link {\n",
       "  float: right;\n",
       "  font-size: smaller;\n",
       "  line-height: 1em;\n",
       "  font-family: monospace;\n",
       "  background-color: var(--sklearn-color-background);\n",
       "  border-radius: 1em;\n",
       "  height: 1em;\n",
       "  width: 1em;\n",
       "  text-decoration: none !important;\n",
       "  margin-left: 1ex;\n",
       "  /* unfitted */\n",
       "  border: var(--sklearn-color-unfitted-level-1) 1pt solid;\n",
       "  color: var(--sklearn-color-unfitted-level-1);\n",
       "}\n",
       "\n",
       ".sk-estimator-doc-link.fitted,\n",
       "a:link.sk-estimator-doc-link.fitted,\n",
       "a:visited.sk-estimator-doc-link.fitted {\n",
       "  /* fitted */\n",
       "  border: var(--sklearn-color-fitted-level-1) 1pt solid;\n",
       "  color: var(--sklearn-color-fitted-level-1);\n",
       "}\n",
       "\n",
       "/* On hover */\n",
       "div.sk-estimator:hover .sk-estimator-doc-link:hover,\n",
       ".sk-estimator-doc-link:hover,\n",
       "div.sk-label-container:hover .sk-estimator-doc-link:hover,\n",
       ".sk-estimator-doc-link:hover {\n",
       "  /* unfitted */\n",
       "  background-color: var(--sklearn-color-unfitted-level-3);\n",
       "  color: var(--sklearn-color-background);\n",
       "  text-decoration: none;\n",
       "}\n",
       "\n",
       "div.sk-estimator.fitted:hover .sk-estimator-doc-link.fitted:hover,\n",
       ".sk-estimator-doc-link.fitted:hover,\n",
       "div.sk-label-container:hover .sk-estimator-doc-link.fitted:hover,\n",
       ".sk-estimator-doc-link.fitted:hover {\n",
       "  /* fitted */\n",
       "  background-color: var(--sklearn-color-fitted-level-3);\n",
       "  color: var(--sklearn-color-background);\n",
       "  text-decoration: none;\n",
       "}\n",
       "\n",
       "/* Span, style for the box shown on hovering the info icon */\n",
       ".sk-estimator-doc-link span {\n",
       "  display: none;\n",
       "  z-index: 9999;\n",
       "  position: relative;\n",
       "  font-weight: normal;\n",
       "  right: .2ex;\n",
       "  padding: .5ex;\n",
       "  margin: .5ex;\n",
       "  width: min-content;\n",
       "  min-width: 20ex;\n",
       "  max-width: 50ex;\n",
       "  color: var(--sklearn-color-text);\n",
       "  box-shadow: 2pt 2pt 4pt #999;\n",
       "  /* unfitted */\n",
       "  background: var(--sklearn-color-unfitted-level-0);\n",
       "  border: .5pt solid var(--sklearn-color-unfitted-level-3);\n",
       "}\n",
       "\n",
       ".sk-estimator-doc-link.fitted span {\n",
       "  /* fitted */\n",
       "  background: var(--sklearn-color-fitted-level-0);\n",
       "  border: var(--sklearn-color-fitted-level-3);\n",
       "}\n",
       "\n",
       ".sk-estimator-doc-link:hover span {\n",
       "  display: block;\n",
       "}\n",
       "\n",
       "/* \"?\"-specific style due to the `<a>` HTML tag */\n",
       "\n",
       "#sk-container-id-7 a.estimator_doc_link {\n",
       "  float: right;\n",
       "  font-size: 1rem;\n",
       "  line-height: 1em;\n",
       "  font-family: monospace;\n",
       "  background-color: var(--sklearn-color-background);\n",
       "  border-radius: 1rem;\n",
       "  height: 1rem;\n",
       "  width: 1rem;\n",
       "  text-decoration: none;\n",
       "  /* unfitted */\n",
       "  color: var(--sklearn-color-unfitted-level-1);\n",
       "  border: var(--sklearn-color-unfitted-level-1) 1pt solid;\n",
       "}\n",
       "\n",
       "#sk-container-id-7 a.estimator_doc_link.fitted {\n",
       "  /* fitted */\n",
       "  border: var(--sklearn-color-fitted-level-1) 1pt solid;\n",
       "  color: var(--sklearn-color-fitted-level-1);\n",
       "}\n",
       "\n",
       "/* On hover */\n",
       "#sk-container-id-7 a.estimator_doc_link:hover {\n",
       "  /* unfitted */\n",
       "  background-color: var(--sklearn-color-unfitted-level-3);\n",
       "  color: var(--sklearn-color-background);\n",
       "  text-decoration: none;\n",
       "}\n",
       "\n",
       "#sk-container-id-7 a.estimator_doc_link.fitted:hover {\n",
       "  /* fitted */\n",
       "  background-color: var(--sklearn-color-fitted-level-3);\n",
       "}\n",
       "</style><div id=\"sk-container-id-7\" class=\"sk-top-container\"><div class=\"sk-text-repr-fallback\"><pre>RandomForestClassifier(random_state=42)</pre><b>In a Jupyter environment, please rerun this cell to show the HTML representation or trust the notebook. <br />On GitHub, the HTML representation is unable to render, please try loading this page with nbviewer.org.</b></div><div class=\"sk-container\" hidden><div class=\"sk-item\"><div class=\"sk-estimator fitted sk-toggleable\"><input class=\"sk-toggleable__control sk-hidden--visually\" id=\"sk-estimator-id-7\" type=\"checkbox\" checked><label for=\"sk-estimator-id-7\" class=\"sk-toggleable__label fitted sk-toggleable__label-arrow fitted\">&nbsp;&nbsp;RandomForestClassifier<a class=\"sk-estimator-doc-link fitted\" rel=\"noreferrer\" target=\"_blank\" href=\"https://scikit-learn.org/1.5/modules/generated/sklearn.ensemble.RandomForestClassifier.html\">?<span>Documentation for RandomForestClassifier</span></a><span class=\"sk-estimator-doc-link fitted\">i<span>Fitted</span></span></label><div class=\"sk-toggleable__content fitted\"><pre>RandomForestClassifier(random_state=42)</pre></div> </div></div></div></div>"
      ],
      "text/plain": [
       "RandomForestClassifier(random_state=42)"
      ]
     },
     "execution_count": 298,
     "metadata": {},
     "output_type": "execute_result"
    }
   ],
   "source": [
    "# Train a Random Forest Classifier\n",
    "clf = RandomForestClassifier(random_state=42)\n",
    "clf.fit(X_train, y_train)"
   ]
  },
  {
   "cell_type": "code",
   "execution_count": 299,
   "metadata": {},
   "outputs": [
    {
     "name": "stdout",
     "output_type": "stream",
     "text": [
      "F1-Score: 0.012012012012012012\n"
     ]
    }
   ],
   "source": [
    "# Predict fraud (binary labels)\n",
    "y_pred = clf.predict(X_test)\n",
    "\n",
    "f1 = f1_score(y_test, y_pred)\n",
    "print(f\"F1-Score: {f1}\")"
   ]
  },
  {
   "cell_type": "code",
   "execution_count": 300,
   "metadata": {},
   "outputs": [
    {
     "name": "stdout",
     "output_type": "stream",
     "text": [
      "AUC-ROC Score: 0.47\n"
     ]
    }
   ],
   "source": [
    "# Predict probabilities for the positive class\n",
    "y_probs = clf.predict_proba(X_test)[:, 1]  # Get probabilities for class 1\n",
    "\n",
    "# Calculate the AUC-ROC score\n",
    "auc_score = roc_auc_score(y_test, y_probs)\n",
    "\n",
    "print(f\"AUC-ROC Score: {auc_score:.2f}\")"
   ]
  },
  {
   "cell_type": "code",
   "execution_count": null,
   "metadata": {},
   "outputs": [],
   "source": [
    "# Por graficos"
   ]
  },
  {
   "cell_type": "code",
   "execution_count": 302,
   "metadata": {},
   "outputs": [
    {
     "name": "stdout",
     "output_type": "stream",
     "text": [
      "Submission file created: 'submission_random_forest.csv'\n"
     ]
    }
   ],
   "source": [
    "# Predict probabilities for the positive class (fraud)\n",
    "test_probs = clf.predict_proba(kaggle_data)[:, 1]  # Probabilities for class 1 (fraud)\n",
    "\n",
    "submission = pd.DataFrame({\n",
    "    'index': index_mapping,  \n",
    "    'is_fraud': test_probs          # Predicted probabilities\n",
    "})\n",
    "\n",
    "# Save to CSV\n",
    "submission.to_csv('submission/submission_random_forest.csv', index=False)\n",
    "\n",
    "print(\"Submission file created: 'submission_random_forest.csv'\")\n",
    "\n"
   ]
  },
  {
   "cell_type": "markdown",
   "metadata": {},
   "source": [
    "**Score on Kaggle:** "
   ]
  },
  {
   "cell_type": "markdown",
   "metadata": {},
   "source": [
    "## Grid Search - Random Forest Classifier"
   ]
  },
  {
   "cell_type": "code",
   "execution_count": 303,
   "metadata": {},
   "outputs": [
    {
     "data": {
      "text/plain": [
       "'\\nbest_model_path = \"models/grid_search_random_forest.pkl\"\\n\\nif os.path.exists(best_model_path):\\n    # Carregar o modelo salvo\\n    with open(best_model_path, \\'rb\\') as file:\\n        best_rf = pickle.load(file)\\n    print(\"Output Best params: {\\'max_depth\\': 20, \\'min_samples_leaf\\': 4, \\'min_samples_split\\': 2, \\'n_estimators\\': 500}\")\\nelse:\\n    param_grid = {\\n        \\'n_estimators\\': [100, 200, 500],\\n        \\'max_depth\\': [None, 10, 20],\\n        \\'min_samples_split\\': [2, 5],\\n        \\'min_samples_leaf\\': [1, 2, 4]\\n    }\\n\\n    grid_search = GridSearchCV(estimator=clf, param_grid=param_grid, cv=5, scoring=\\'roc_auc\\', n_jobs=-1)\\n    grid_search.fit(X_train, y_train)\\n\\n    best_rf = grid_search.best_estimator_\\n\\n    print(\"Best params:\", grid_search.best_params_)\\n    \\n    with open(best_model_path, \\'wb\\') as file:\\n        pickle.dump(best_rf, file)\\n    print(\"Best model saved in:\", best_model_path)\\n\\n'"
      ]
     },
     "execution_count": 303,
     "metadata": {},
     "output_type": "execute_result"
    }
   ],
   "source": [
    "'''\n",
    "best_model_path = \"models/grid_search_random_forest.pkl\"\n",
    "\n",
    "if os.path.exists(best_model_path):\n",
    "    # Carregar o modelo salvo\n",
    "    with open(best_model_path, 'rb') as file:\n",
    "        best_rf = pickle.load(file)\n",
    "    print(\"Output Best params: {'max_depth': 20, 'min_samples_leaf': 4, 'min_samples_split': 2, 'n_estimators': 500}\")\n",
    "else:\n",
    "    param_grid = {\n",
    "        'n_estimators': [100, 200, 500],\n",
    "        'max_depth': [None, 10, 20],\n",
    "        'min_samples_split': [2, 5],\n",
    "        'min_samples_leaf': [1, 2, 4]\n",
    "    }\n",
    "\n",
    "    grid_search = GridSearchCV(estimator=clf, param_grid=param_grid, cv=5, scoring='roc_auc', n_jobs=-1)\n",
    "    grid_search.fit(X_train, y_train)\n",
    "\n",
    "    best_rf = grid_search.best_estimator_\n",
    "\n",
    "    print(\"Best params:\", grid_search.best_params_)\n",
    "    \n",
    "    with open(best_model_path, 'wb') as file:\n",
    "        pickle.dump(best_rf, file)\n",
    "    print(\"Best model saved in:\", best_model_path)\n",
    "\n",
    "'''"
   ]
  },
  {
   "cell_type": "code",
   "execution_count": 304,
   "metadata": {},
   "outputs": [
    {
     "data": {
      "text/plain": [
       "'\\n# Predict fraud (binary labels)\\ny_pred = best_rf.predict(X_test)\\n\\nf1 = f1_score(y_test, y_pred)\\nprint(f\"F1-Score: {f1}\")\\n'"
      ]
     },
     "execution_count": 304,
     "metadata": {},
     "output_type": "execute_result"
    }
   ],
   "source": [
    "'''\n",
    "# Predict fraud (binary labels)\n",
    "y_pred = best_rf.predict(X_test)\n",
    "\n",
    "f1 = f1_score(y_test, y_pred)\n",
    "print(f\"F1-Score: {f1}\")\n",
    "'''"
   ]
  },
  {
   "cell_type": "code",
   "execution_count": 305,
   "metadata": {},
   "outputs": [
    {
     "data": {
      "text/plain": [
       "'\\ny_probs = best_rf.predict_proba(X_test)[:, 1]\\n\\nauc_score = roc_auc_score(y_test, y_probs)\\n\\nprint(f\"AUC-ROC Score: {auc_score:.2f}\")\\n'"
      ]
     },
     "execution_count": 305,
     "metadata": {},
     "output_type": "execute_result"
    }
   ],
   "source": [
    "'''\n",
    "y_probs = best_rf.predict_proba(X_test)[:, 1]\n",
    "\n",
    "auc_score = roc_auc_score(y_test, y_probs)\n",
    "\n",
    "print(f\"AUC-ROC Score: {auc_score:.2f}\")\n",
    "'''"
   ]
  },
  {
   "cell_type": "code",
   "execution_count": 306,
   "metadata": {},
   "outputs": [
    {
     "data": {
      "text/plain": [
       "'\\n# Predict probabilities for the positive class (fraud)\\ntest_probs = best_rf.predict_proba(kaggle_data)[:, 1]  # Probabilities for class 1 (fraud)\\n\\nsubmission = pd.DataFrame({\\n    \\'index\\': index_mapping,  \\n    \\'is_fraud\\': test_probs          # Predicted probabilities\\n})\\n\\n# Save to CSV\\nsubmission.to_csv(\\'submission/submission_grid_search_random_forest.csv\\', index=False)\\n\\nprint(\"Submission file created: \\'submission_grid_search_random_forest.csv\\'\")\\n'"
      ]
     },
     "execution_count": 306,
     "metadata": {},
     "output_type": "execute_result"
    }
   ],
   "source": [
    "'''\n",
    "# Predict probabilities for the positive class (fraud)\n",
    "test_probs = best_rf.predict_proba(kaggle_data)[:, 1]  # Probabilities for class 1 (fraud)\n",
    "\n",
    "submission = pd.DataFrame({\n",
    "    'index': index_mapping,  \n",
    "    'is_fraud': test_probs          # Predicted probabilities\n",
    "})\n",
    "\n",
    "# Save to CSV\n",
    "submission.to_csv('submission/submission_grid_search_random_forest.csv', index=False)\n",
    "\n",
    "print(\"Submission file created: 'submission_grid_search_random_forest.csv'\")\n",
    "'''"
   ]
  },
  {
   "cell_type": "markdown",
   "metadata": {},
   "source": [
    "**Score on Kaggle:** "
   ]
  },
  {
   "cell_type": "markdown",
   "metadata": {},
   "source": [
    "## Random Search - Random Forest Classifier"
   ]
  },
  {
   "cell_type": "code",
   "execution_count": 307,
   "metadata": {},
   "outputs": [
    {
     "name": "stdout",
     "output_type": "stream",
     "text": [
      "Output Best params: {'n_estimators': 1000, 'min_samples_split': 10, 'min_samples_leaf': 5, 'max_depth': 20}\n"
     ]
    }
   ],
   "source": [
    "best_model_path = \"models/random_search_random_forest.pkl\"\n",
    "\n",
    "if os.path.exists(best_model_path):\n",
    "    # Carregar o modelo salvo\n",
    "    with open(best_model_path, 'rb') as file:\n",
    "        best_rf = pickle.load(file)\n",
    "    print(\"Output Best params: {'n_estimators': 1000, 'min_samples_split': 10, 'min_samples_leaf': 5, 'max_depth': 20}\")\n",
    "else:\n",
    "    param_distributions = {\n",
    "        'n_estimators': [100, 200, 500,1000],      \n",
    "        'max_depth': [None, 10, 20, 30],     \n",
    "        'min_samples_split': [2, 5, 10],         \n",
    "        'min_samples_leaf': [1, 2, 4, 5],                           \n",
    "    }\n",
    "\n",
    "    random_search = RandomizedSearchCV(estimator=clf, param_distributions=param_distributions, n_iter=20, cv=5, scoring='roc_auc', random_state=42, n_jobs=-1)\n",
    "    random_search.fit(X_train, y_train)\n",
    "\n",
    "    best_rf = random_search.best_estimator_\n",
    "\n",
    "    print(\"Best params:\", random_search.best_params_)\n",
    "\n",
    "        \n",
    "    with open(best_model_path, 'wb') as file:\n",
    "        pickle.dump(best_rf, file)\n",
    "    print(\"Best model saved in:\", best_model_path)\n"
   ]
  },
  {
   "cell_type": "code",
   "execution_count": 308,
   "metadata": {},
   "outputs": [
    {
     "name": "stdout",
     "output_type": "stream",
     "text": [
      "F1-Score: 0.008695652173913044\n"
     ]
    }
   ],
   "source": [
    "# Predict fraud (binary labels)\n",
    "y_pred = best_rf.predict(X_test)\n",
    "\n",
    "f1 = f1_score(y_test, y_pred)\n",
    "print(f\"F1-Score: {f1}\")"
   ]
  },
  {
   "cell_type": "code",
   "execution_count": 309,
   "metadata": {},
   "outputs": [
    {
     "name": "stdout",
     "output_type": "stream",
     "text": [
      "AUC-ROC Score: 0.47\n"
     ]
    }
   ],
   "source": [
    "y_probs = best_rf.predict_proba(X_test)[:, 1]\n",
    "\n",
    "auc_score = roc_auc_score(y_test, y_probs)\n",
    "\n",
    "print(f\"AUC-ROC Score: {auc_score:.2f}\")"
   ]
  },
  {
   "cell_type": "code",
   "execution_count": 310,
   "metadata": {},
   "outputs": [
    {
     "name": "stdout",
     "output_type": "stream",
     "text": [
      "Submission file created: 'submission_random_search_random_forest.csv'\n"
     ]
    }
   ],
   "source": [
    "# Predict probabilities for the positive class (fraud)\n",
    "test_probs = best_rf.predict_proba(kaggle_data)[:, 1]  # Probabilities for class 1 (fraud)\n",
    "\n",
    "submission = pd.DataFrame({\n",
    "    'index': index_mapping,  \n",
    "    'is_fraud': test_probs          # Predicted probabilities\n",
    "})\n",
    "\n",
    "# Save to CSV\n",
    "submission.to_csv('submission/submission_random_search_random_forest.csv', index=False)\n",
    "\n",
    "print(\"Submission file created: 'submission_random_search_random_forest.csv'\")\n"
   ]
  },
  {
   "cell_type": "markdown",
   "metadata": {},
   "source": [
    "**Score on Kaggle:** 0.52296"
   ]
  },
  {
   "cell_type": "markdown",
   "metadata": {},
   "source": [
    "## XGBOOST"
   ]
  },
  {
   "cell_type": "code",
   "execution_count": 311,
   "metadata": {},
   "outputs": [
    {
     "data": {
      "text/html": [
       "<style>#sk-container-id-8 {\n",
       "  /* Definition of color scheme common for light and dark mode */\n",
       "  --sklearn-color-text: black;\n",
       "  --sklearn-color-line: gray;\n",
       "  /* Definition of color scheme for unfitted estimators */\n",
       "  --sklearn-color-unfitted-level-0: #fff5e6;\n",
       "  --sklearn-color-unfitted-level-1: #f6e4d2;\n",
       "  --sklearn-color-unfitted-level-2: #ffe0b3;\n",
       "  --sklearn-color-unfitted-level-3: chocolate;\n",
       "  /* Definition of color scheme for fitted estimators */\n",
       "  --sklearn-color-fitted-level-0: #f0f8ff;\n",
       "  --sklearn-color-fitted-level-1: #d4ebff;\n",
       "  --sklearn-color-fitted-level-2: #b3dbfd;\n",
       "  --sklearn-color-fitted-level-3: cornflowerblue;\n",
       "\n",
       "  /* Specific color for light theme */\n",
       "  --sklearn-color-text-on-default-background: var(--sg-text-color, var(--theme-code-foreground, var(--jp-content-font-color1, black)));\n",
       "  --sklearn-color-background: var(--sg-background-color, var(--theme-background, var(--jp-layout-color0, white)));\n",
       "  --sklearn-color-border-box: var(--sg-text-color, var(--theme-code-foreground, var(--jp-content-font-color1, black)));\n",
       "  --sklearn-color-icon: #696969;\n",
       "\n",
       "  @media (prefers-color-scheme: dark) {\n",
       "    /* Redefinition of color scheme for dark theme */\n",
       "    --sklearn-color-text-on-default-background: var(--sg-text-color, var(--theme-code-foreground, var(--jp-content-font-color1, white)));\n",
       "    --sklearn-color-background: var(--sg-background-color, var(--theme-background, var(--jp-layout-color0, #111)));\n",
       "    --sklearn-color-border-box: var(--sg-text-color, var(--theme-code-foreground, var(--jp-content-font-color1, white)));\n",
       "    --sklearn-color-icon: #878787;\n",
       "  }\n",
       "}\n",
       "\n",
       "#sk-container-id-8 {\n",
       "  color: var(--sklearn-color-text);\n",
       "}\n",
       "\n",
       "#sk-container-id-8 pre {\n",
       "  padding: 0;\n",
       "}\n",
       "\n",
       "#sk-container-id-8 input.sk-hidden--visually {\n",
       "  border: 0;\n",
       "  clip: rect(1px 1px 1px 1px);\n",
       "  clip: rect(1px, 1px, 1px, 1px);\n",
       "  height: 1px;\n",
       "  margin: -1px;\n",
       "  overflow: hidden;\n",
       "  padding: 0;\n",
       "  position: absolute;\n",
       "  width: 1px;\n",
       "}\n",
       "\n",
       "#sk-container-id-8 div.sk-dashed-wrapped {\n",
       "  border: 1px dashed var(--sklearn-color-line);\n",
       "  margin: 0 0.4em 0.5em 0.4em;\n",
       "  box-sizing: border-box;\n",
       "  padding-bottom: 0.4em;\n",
       "  background-color: var(--sklearn-color-background);\n",
       "}\n",
       "\n",
       "#sk-container-id-8 div.sk-container {\n",
       "  /* jupyter's `normalize.less` sets `[hidden] { display: none; }`\n",
       "     but bootstrap.min.css set `[hidden] { display: none !important; }`\n",
       "     so we also need the `!important` here to be able to override the\n",
       "     default hidden behavior on the sphinx rendered scikit-learn.org.\n",
       "     See: https://github.com/scikit-learn/scikit-learn/issues/21755 */\n",
       "  display: inline-block !important;\n",
       "  position: relative;\n",
       "}\n",
       "\n",
       "#sk-container-id-8 div.sk-text-repr-fallback {\n",
       "  display: none;\n",
       "}\n",
       "\n",
       "div.sk-parallel-item,\n",
       "div.sk-serial,\n",
       "div.sk-item {\n",
       "  /* draw centered vertical line to link estimators */\n",
       "  background-image: linear-gradient(var(--sklearn-color-text-on-default-background), var(--sklearn-color-text-on-default-background));\n",
       "  background-size: 2px 100%;\n",
       "  background-repeat: no-repeat;\n",
       "  background-position: center center;\n",
       "}\n",
       "\n",
       "/* Parallel-specific style estimator block */\n",
       "\n",
       "#sk-container-id-8 div.sk-parallel-item::after {\n",
       "  content: \"\";\n",
       "  width: 100%;\n",
       "  border-bottom: 2px solid var(--sklearn-color-text-on-default-background);\n",
       "  flex-grow: 1;\n",
       "}\n",
       "\n",
       "#sk-container-id-8 div.sk-parallel {\n",
       "  display: flex;\n",
       "  align-items: stretch;\n",
       "  justify-content: center;\n",
       "  background-color: var(--sklearn-color-background);\n",
       "  position: relative;\n",
       "}\n",
       "\n",
       "#sk-container-id-8 div.sk-parallel-item {\n",
       "  display: flex;\n",
       "  flex-direction: column;\n",
       "}\n",
       "\n",
       "#sk-container-id-8 div.sk-parallel-item:first-child::after {\n",
       "  align-self: flex-end;\n",
       "  width: 50%;\n",
       "}\n",
       "\n",
       "#sk-container-id-8 div.sk-parallel-item:last-child::after {\n",
       "  align-self: flex-start;\n",
       "  width: 50%;\n",
       "}\n",
       "\n",
       "#sk-container-id-8 div.sk-parallel-item:only-child::after {\n",
       "  width: 0;\n",
       "}\n",
       "\n",
       "/* Serial-specific style estimator block */\n",
       "\n",
       "#sk-container-id-8 div.sk-serial {\n",
       "  display: flex;\n",
       "  flex-direction: column;\n",
       "  align-items: center;\n",
       "  background-color: var(--sklearn-color-background);\n",
       "  padding-right: 1em;\n",
       "  padding-left: 1em;\n",
       "}\n",
       "\n",
       "\n",
       "/* Toggleable style: style used for estimator/Pipeline/ColumnTransformer box that is\n",
       "clickable and can be expanded/collapsed.\n",
       "- Pipeline and ColumnTransformer use this feature and define the default style\n",
       "- Estimators will overwrite some part of the style using the `sk-estimator` class\n",
       "*/\n",
       "\n",
       "/* Pipeline and ColumnTransformer style (default) */\n",
       "\n",
       "#sk-container-id-8 div.sk-toggleable {\n",
       "  /* Default theme specific background. It is overwritten whether we have a\n",
       "  specific estimator or a Pipeline/ColumnTransformer */\n",
       "  background-color: var(--sklearn-color-background);\n",
       "}\n",
       "\n",
       "/* Toggleable label */\n",
       "#sk-container-id-8 label.sk-toggleable__label {\n",
       "  cursor: pointer;\n",
       "  display: block;\n",
       "  width: 100%;\n",
       "  margin-bottom: 0;\n",
       "  padding: 0.5em;\n",
       "  box-sizing: border-box;\n",
       "  text-align: center;\n",
       "}\n",
       "\n",
       "#sk-container-id-8 label.sk-toggleable__label-arrow:before {\n",
       "  /* Arrow on the left of the label */\n",
       "  content: \"▸\";\n",
       "  float: left;\n",
       "  margin-right: 0.25em;\n",
       "  color: var(--sklearn-color-icon);\n",
       "}\n",
       "\n",
       "#sk-container-id-8 label.sk-toggleable__label-arrow:hover:before {\n",
       "  color: var(--sklearn-color-text);\n",
       "}\n",
       "\n",
       "/* Toggleable content - dropdown */\n",
       "\n",
       "#sk-container-id-8 div.sk-toggleable__content {\n",
       "  max-height: 0;\n",
       "  max-width: 0;\n",
       "  overflow: hidden;\n",
       "  text-align: left;\n",
       "  /* unfitted */\n",
       "  background-color: var(--sklearn-color-unfitted-level-0);\n",
       "}\n",
       "\n",
       "#sk-container-id-8 div.sk-toggleable__content.fitted {\n",
       "  /* fitted */\n",
       "  background-color: var(--sklearn-color-fitted-level-0);\n",
       "}\n",
       "\n",
       "#sk-container-id-8 div.sk-toggleable__content pre {\n",
       "  margin: 0.2em;\n",
       "  border-radius: 0.25em;\n",
       "  color: var(--sklearn-color-text);\n",
       "  /* unfitted */\n",
       "  background-color: var(--sklearn-color-unfitted-level-0);\n",
       "}\n",
       "\n",
       "#sk-container-id-8 div.sk-toggleable__content.fitted pre {\n",
       "  /* unfitted */\n",
       "  background-color: var(--sklearn-color-fitted-level-0);\n",
       "}\n",
       "\n",
       "#sk-container-id-8 input.sk-toggleable__control:checked~div.sk-toggleable__content {\n",
       "  /* Expand drop-down */\n",
       "  max-height: 200px;\n",
       "  max-width: 100%;\n",
       "  overflow: auto;\n",
       "}\n",
       "\n",
       "#sk-container-id-8 input.sk-toggleable__control:checked~label.sk-toggleable__label-arrow:before {\n",
       "  content: \"▾\";\n",
       "}\n",
       "\n",
       "/* Pipeline/ColumnTransformer-specific style */\n",
       "\n",
       "#sk-container-id-8 div.sk-label input.sk-toggleable__control:checked~label.sk-toggleable__label {\n",
       "  color: var(--sklearn-color-text);\n",
       "  background-color: var(--sklearn-color-unfitted-level-2);\n",
       "}\n",
       "\n",
       "#sk-container-id-8 div.sk-label.fitted input.sk-toggleable__control:checked~label.sk-toggleable__label {\n",
       "  background-color: var(--sklearn-color-fitted-level-2);\n",
       "}\n",
       "\n",
       "/* Estimator-specific style */\n",
       "\n",
       "/* Colorize estimator box */\n",
       "#sk-container-id-8 div.sk-estimator input.sk-toggleable__control:checked~label.sk-toggleable__label {\n",
       "  /* unfitted */\n",
       "  background-color: var(--sklearn-color-unfitted-level-2);\n",
       "}\n",
       "\n",
       "#sk-container-id-8 div.sk-estimator.fitted input.sk-toggleable__control:checked~label.sk-toggleable__label {\n",
       "  /* fitted */\n",
       "  background-color: var(--sklearn-color-fitted-level-2);\n",
       "}\n",
       "\n",
       "#sk-container-id-8 div.sk-label label.sk-toggleable__label,\n",
       "#sk-container-id-8 div.sk-label label {\n",
       "  /* The background is the default theme color */\n",
       "  color: var(--sklearn-color-text-on-default-background);\n",
       "}\n",
       "\n",
       "/* On hover, darken the color of the background */\n",
       "#sk-container-id-8 div.sk-label:hover label.sk-toggleable__label {\n",
       "  color: var(--sklearn-color-text);\n",
       "  background-color: var(--sklearn-color-unfitted-level-2);\n",
       "}\n",
       "\n",
       "/* Label box, darken color on hover, fitted */\n",
       "#sk-container-id-8 div.sk-label.fitted:hover label.sk-toggleable__label.fitted {\n",
       "  color: var(--sklearn-color-text);\n",
       "  background-color: var(--sklearn-color-fitted-level-2);\n",
       "}\n",
       "\n",
       "/* Estimator label */\n",
       "\n",
       "#sk-container-id-8 div.sk-label label {\n",
       "  font-family: monospace;\n",
       "  font-weight: bold;\n",
       "  display: inline-block;\n",
       "  line-height: 1.2em;\n",
       "}\n",
       "\n",
       "#sk-container-id-8 div.sk-label-container {\n",
       "  text-align: center;\n",
       "}\n",
       "\n",
       "/* Estimator-specific */\n",
       "#sk-container-id-8 div.sk-estimator {\n",
       "  font-family: monospace;\n",
       "  border: 1px dotted var(--sklearn-color-border-box);\n",
       "  border-radius: 0.25em;\n",
       "  box-sizing: border-box;\n",
       "  margin-bottom: 0.5em;\n",
       "  /* unfitted */\n",
       "  background-color: var(--sklearn-color-unfitted-level-0);\n",
       "}\n",
       "\n",
       "#sk-container-id-8 div.sk-estimator.fitted {\n",
       "  /* fitted */\n",
       "  background-color: var(--sklearn-color-fitted-level-0);\n",
       "}\n",
       "\n",
       "/* on hover */\n",
       "#sk-container-id-8 div.sk-estimator:hover {\n",
       "  /* unfitted */\n",
       "  background-color: var(--sklearn-color-unfitted-level-2);\n",
       "}\n",
       "\n",
       "#sk-container-id-8 div.sk-estimator.fitted:hover {\n",
       "  /* fitted */\n",
       "  background-color: var(--sklearn-color-fitted-level-2);\n",
       "}\n",
       "\n",
       "/* Specification for estimator info (e.g. \"i\" and \"?\") */\n",
       "\n",
       "/* Common style for \"i\" and \"?\" */\n",
       "\n",
       ".sk-estimator-doc-link,\n",
       "a:link.sk-estimator-doc-link,\n",
       "a:visited.sk-estimator-doc-link {\n",
       "  float: right;\n",
       "  font-size: smaller;\n",
       "  line-height: 1em;\n",
       "  font-family: monospace;\n",
       "  background-color: var(--sklearn-color-background);\n",
       "  border-radius: 1em;\n",
       "  height: 1em;\n",
       "  width: 1em;\n",
       "  text-decoration: none !important;\n",
       "  margin-left: 1ex;\n",
       "  /* unfitted */\n",
       "  border: var(--sklearn-color-unfitted-level-1) 1pt solid;\n",
       "  color: var(--sklearn-color-unfitted-level-1);\n",
       "}\n",
       "\n",
       ".sk-estimator-doc-link.fitted,\n",
       "a:link.sk-estimator-doc-link.fitted,\n",
       "a:visited.sk-estimator-doc-link.fitted {\n",
       "  /* fitted */\n",
       "  border: var(--sklearn-color-fitted-level-1) 1pt solid;\n",
       "  color: var(--sklearn-color-fitted-level-1);\n",
       "}\n",
       "\n",
       "/* On hover */\n",
       "div.sk-estimator:hover .sk-estimator-doc-link:hover,\n",
       ".sk-estimator-doc-link:hover,\n",
       "div.sk-label-container:hover .sk-estimator-doc-link:hover,\n",
       ".sk-estimator-doc-link:hover {\n",
       "  /* unfitted */\n",
       "  background-color: var(--sklearn-color-unfitted-level-3);\n",
       "  color: var(--sklearn-color-background);\n",
       "  text-decoration: none;\n",
       "}\n",
       "\n",
       "div.sk-estimator.fitted:hover .sk-estimator-doc-link.fitted:hover,\n",
       ".sk-estimator-doc-link.fitted:hover,\n",
       "div.sk-label-container:hover .sk-estimator-doc-link.fitted:hover,\n",
       ".sk-estimator-doc-link.fitted:hover {\n",
       "  /* fitted */\n",
       "  background-color: var(--sklearn-color-fitted-level-3);\n",
       "  color: var(--sklearn-color-background);\n",
       "  text-decoration: none;\n",
       "}\n",
       "\n",
       "/* Span, style for the box shown on hovering the info icon */\n",
       ".sk-estimator-doc-link span {\n",
       "  display: none;\n",
       "  z-index: 9999;\n",
       "  position: relative;\n",
       "  font-weight: normal;\n",
       "  right: .2ex;\n",
       "  padding: .5ex;\n",
       "  margin: .5ex;\n",
       "  width: min-content;\n",
       "  min-width: 20ex;\n",
       "  max-width: 50ex;\n",
       "  color: var(--sklearn-color-text);\n",
       "  box-shadow: 2pt 2pt 4pt #999;\n",
       "  /* unfitted */\n",
       "  background: var(--sklearn-color-unfitted-level-0);\n",
       "  border: .5pt solid var(--sklearn-color-unfitted-level-3);\n",
       "}\n",
       "\n",
       ".sk-estimator-doc-link.fitted span {\n",
       "  /* fitted */\n",
       "  background: var(--sklearn-color-fitted-level-0);\n",
       "  border: var(--sklearn-color-fitted-level-3);\n",
       "}\n",
       "\n",
       ".sk-estimator-doc-link:hover span {\n",
       "  display: block;\n",
       "}\n",
       "\n",
       "/* \"?\"-specific style due to the `<a>` HTML tag */\n",
       "\n",
       "#sk-container-id-8 a.estimator_doc_link {\n",
       "  float: right;\n",
       "  font-size: 1rem;\n",
       "  line-height: 1em;\n",
       "  font-family: monospace;\n",
       "  background-color: var(--sklearn-color-background);\n",
       "  border-radius: 1rem;\n",
       "  height: 1rem;\n",
       "  width: 1rem;\n",
       "  text-decoration: none;\n",
       "  /* unfitted */\n",
       "  color: var(--sklearn-color-unfitted-level-1);\n",
       "  border: var(--sklearn-color-unfitted-level-1) 1pt solid;\n",
       "}\n",
       "\n",
       "#sk-container-id-8 a.estimator_doc_link.fitted {\n",
       "  /* fitted */\n",
       "  border: var(--sklearn-color-fitted-level-1) 1pt solid;\n",
       "  color: var(--sklearn-color-fitted-level-1);\n",
       "}\n",
       "\n",
       "/* On hover */\n",
       "#sk-container-id-8 a.estimator_doc_link:hover {\n",
       "  /* unfitted */\n",
       "  background-color: var(--sklearn-color-unfitted-level-3);\n",
       "  color: var(--sklearn-color-background);\n",
       "  text-decoration: none;\n",
       "}\n",
       "\n",
       "#sk-container-id-8 a.estimator_doc_link.fitted:hover {\n",
       "  /* fitted */\n",
       "  background-color: var(--sklearn-color-fitted-level-3);\n",
       "}\n",
       "</style><div id=\"sk-container-id-8\" class=\"sk-top-container\"><div class=\"sk-text-repr-fallback\"><pre>XGBClassifier(base_score=None, booster=None, callbacks=None,\n",
       "              colsample_bylevel=None, colsample_bynode=None,\n",
       "              colsample_bytree=None, device=None, early_stopping_rounds=None,\n",
       "              enable_categorical=False, eval_metric=None, feature_types=None,\n",
       "              gamma=None, grow_policy=None, importance_type=None,\n",
       "              interaction_constraints=None, learning_rate=0.1, max_bin=None,\n",
       "              max_cat_threshold=None, max_cat_to_onehot=None,\n",
       "              max_delta_step=None, max_depth=5, max_leaves=None,\n",
       "              min_child_weight=None, missing=nan, monotone_constraints=None,\n",
       "              multi_strategy=None, n_estimators=500, n_jobs=None,\n",
       "              num_parallel_tree=None, random_state=42, ...)</pre><b>In a Jupyter environment, please rerun this cell to show the HTML representation or trust the notebook. <br />On GitHub, the HTML representation is unable to render, please try loading this page with nbviewer.org.</b></div><div class=\"sk-container\" hidden><div class=\"sk-item\"><div class=\"sk-estimator fitted sk-toggleable\"><input class=\"sk-toggleable__control sk-hidden--visually\" id=\"sk-estimator-id-8\" type=\"checkbox\" checked><label for=\"sk-estimator-id-8\" class=\"sk-toggleable__label fitted sk-toggleable__label-arrow fitted\">&nbsp;XGBClassifier<span class=\"sk-estimator-doc-link fitted\">i<span>Fitted</span></span></label><div class=\"sk-toggleable__content fitted\"><pre>XGBClassifier(base_score=None, booster=None, callbacks=None,\n",
       "              colsample_bylevel=None, colsample_bynode=None,\n",
       "              colsample_bytree=None, device=None, early_stopping_rounds=None,\n",
       "              enable_categorical=False, eval_metric=None, feature_types=None,\n",
       "              gamma=None, grow_policy=None, importance_type=None,\n",
       "              interaction_constraints=None, learning_rate=0.1, max_bin=None,\n",
       "              max_cat_threshold=None, max_cat_to_onehot=None,\n",
       "              max_delta_step=None, max_depth=5, max_leaves=None,\n",
       "              min_child_weight=None, missing=nan, monotone_constraints=None,\n",
       "              multi_strategy=None, n_estimators=500, n_jobs=None,\n",
       "              num_parallel_tree=None, random_state=42, ...)</pre></div> </div></div></div></div>"
      ],
      "text/plain": [
       "XGBClassifier(base_score=None, booster=None, callbacks=None,\n",
       "              colsample_bylevel=None, colsample_bynode=None,\n",
       "              colsample_bytree=None, device=None, early_stopping_rounds=None,\n",
       "              enable_categorical=False, eval_metric=None, feature_types=None,\n",
       "              gamma=None, grow_policy=None, importance_type=None,\n",
       "              interaction_constraints=None, learning_rate=0.1, max_bin=None,\n",
       "              max_cat_threshold=None, max_cat_to_onehot=None,\n",
       "              max_delta_step=None, max_depth=5, max_leaves=None,\n",
       "              min_child_weight=None, missing=nan, monotone_constraints=None,\n",
       "              multi_strategy=None, n_estimators=500, n_jobs=None,\n",
       "              num_parallel_tree=None, random_state=42, ...)"
      ]
     },
     "execution_count": 311,
     "metadata": {},
     "output_type": "execute_result"
    }
   ],
   "source": [
    "\n",
    "xgb = XGBClassifier(n_estimators=500, max_depth=5, learning_rate=0.1, random_state=42)\n",
    "xgb.fit(X_train, y_train)\n"
   ]
  },
  {
   "cell_type": "code",
   "execution_count": 312,
   "metadata": {},
   "outputs": [
    {
     "name": "stdout",
     "output_type": "stream",
     "text": [
      "F1-Score: 0.008733624454148471\n"
     ]
    }
   ],
   "source": [
    "# Predict fraud (binary labels)\n",
    "y_pred = xgb.predict(X_test)\n",
    "\n",
    "f1 = f1_score(y_test, y_pred)\n",
    "print(f\"F1-Score: {f1}\")"
   ]
  },
  {
   "cell_type": "code",
   "execution_count": 313,
   "metadata": {},
   "outputs": [
    {
     "name": "stdout",
     "output_type": "stream",
     "text": [
      "AUC-ROC Score: 0.47\n"
     ]
    }
   ],
   "source": [
    "# Predict probabilities for the positive class\n",
    "y_probs = xgb.predict_proba(X_test)[:, 1]  # Get probabilities for class 1\n",
    "\n",
    "# Calculate the AUC-ROC score\n",
    "auc_score = roc_auc_score(y_test, y_probs)\n",
    "\n",
    "print(f\"AUC-ROC Score: {auc_score:.2f}\")"
   ]
  },
  {
   "cell_type": "code",
   "execution_count": 314,
   "metadata": {},
   "outputs": [
    {
     "name": "stdout",
     "output_type": "stream",
     "text": [
      "Submission file created: 'submission_xgboost.csv'\n"
     ]
    }
   ],
   "source": [
    "# Predict probabilities for the positive class (fraud)\n",
    "test_probs = xgb.predict_proba(kaggle_data)[:, 1]  # Probabilities for class 1 (fraud)\n",
    "\n",
    "submission = pd.DataFrame({\n",
    "    'index': index_mapping,  \n",
    "    'is_fraud': test_probs          # Predicted probabilities\n",
    "})\n",
    "\n",
    "# Save to CSV\n",
    "submission.to_csv('submission/submission_xgboost.csv', index=False)\n",
    "\n",
    "print(\"Submission file created: 'submission_xgboost.csv'\")\n"
   ]
  },
  {
   "cell_type": "markdown",
   "metadata": {},
   "source": [
    "**Score on Kaggle:** "
   ]
  },
  {
   "cell_type": "markdown",
   "metadata": {},
   "source": [
    "## Random Search - XGBOOST"
   ]
  },
  {
   "cell_type": "code",
   "execution_count": 315,
   "metadata": {},
   "outputs": [
    {
     "name": "stdout",
     "output_type": "stream",
     "text": [
      "Output Best params: {'subsample': 0.8, 'reg_lambda': 1, 'reg_alpha': 1, 'n_estimators': 300, 'min_child_weight': 3, 'max_depth': 10, 'learning_rate': 0.05, 'colsample_bytree': 0.6}\n"
     ]
    }
   ],
   "source": [
    "best_model_path = \"models/random_search_xgboost.pkl\"\n",
    "\n",
    "if os.path.exists(best_model_path):\n",
    "    # Carregar o modelo salvo\n",
    "    with open(best_model_path, 'rb') as file:\n",
    "        best_rf = pickle.load(file)\n",
    "    print(\"Output Best params: {'subsample': 0.8, 'reg_lambda': 1, 'reg_alpha': 1, 'n_estimators': 300, 'min_child_weight': 3, 'max_depth': 10, 'learning_rate': 0.05, 'colsample_bytree': 0.6}\")\n",
    "else:\n",
    "    param_distributions = {\n",
    "        'n_estimators': [100, 200, 300, 500, 1000],\n",
    "        'learning_rate': [0.01, 0.05, 0.1, 0.2, 0.3],\n",
    "        'max_depth': [3, 5, 7, 10],\n",
    "        'subsample': [0.6, 0.8, 1.0],\n",
    "        'colsample_bytree': [0.6, 0.8, 1.0],\n",
    "        'reg_alpha': [0, 0.1, 1, 10],\n",
    "        'reg_lambda': [1, 10, 50],\n",
    "        'min_child_weight': [1, 3, 5, 7]\n",
    "    }\n",
    "\n",
    "    random_search = RandomizedSearchCV(estimator=xgb, param_distributions=param_distributions, n_iter=50, cv=5, scoring='roc_auc', random_state=42, n_jobs=-1)\n",
    "    random_search.fit(X_train, y_train)\n",
    "\n",
    "    best_rf = random_search.best_estimator_\n",
    "\n",
    "    print(\"Best params:\", random_search.best_params_)\n",
    "\n",
    "        \n",
    "    with open(best_model_path, 'wb') as file:\n",
    "        pickle.dump(best_rf, file)\n",
    "    print(\"Best model saved in:\", best_model_path)"
   ]
  },
  {
   "cell_type": "code",
   "execution_count": 316,
   "metadata": {},
   "outputs": [
    {
     "name": "stdout",
     "output_type": "stream",
     "text": [
      "F1-Score: 0.008695652173913044\n"
     ]
    }
   ],
   "source": [
    "# Predict fraud (binary labels)\n",
    "y_pred = best_rf.predict(X_test)\n",
    "\n",
    "f1 = f1_score(y_test, y_pred)\n",
    "print(f\"F1-Score: {f1}\")"
   ]
  },
  {
   "cell_type": "code",
   "execution_count": 317,
   "metadata": {},
   "outputs": [
    {
     "name": "stdout",
     "output_type": "stream",
     "text": [
      "AUC-ROC Score: 0.47\n"
     ]
    }
   ],
   "source": [
    "# Predict probabilities for the positive class\n",
    "y_probs = best_rf.predict_proba(X_test)[:, 1]  # Get probabilities for class 1\n",
    "\n",
    "# Calculate the AUC-ROC score\n",
    "auc_score = roc_auc_score(y_test, y_probs)\n",
    "\n",
    "print(f\"AUC-ROC Score: {auc_score:.2f}\")"
   ]
  },
  {
   "cell_type": "code",
   "execution_count": 318,
   "metadata": {},
   "outputs": [
    {
     "name": "stdout",
     "output_type": "stream",
     "text": [
      "Submission file created: 'submission_random_search_xgboost.csv'\n"
     ]
    }
   ],
   "source": [
    "# Predict probabilities for the positive class (fraud)\n",
    "test_probs = best_rf.predict_proba(kaggle_data)[:, 1]  # Probabilities for class 1 (fraud)\n",
    "\n",
    "submission = pd.DataFrame({\n",
    "    'index': index_mapping,  \n",
    "    'is_fraud': test_probs          # Predicted probabilities\n",
    "})\n",
    "\n",
    "# Save to CSV\n",
    "submission.to_csv('submission/submission_random_search_xgboost.csv', index=False)\n",
    "\n",
    "print(\"Submission file created: 'submission_random_search_xgboost.csv'\")\n"
   ]
  },
  {
   "cell_type": "markdown",
   "metadata": {},
   "source": [
    "**Score on Kaggle:** 0.52380"
   ]
  },
  {
   "cell_type": "markdown",
   "metadata": {},
   "source": [
    "## Neural Networks - Multi-Layer Perceptron (MLP)"
   ]
  },
  {
   "cell_type": "code",
   "execution_count": 319,
   "metadata": {},
   "outputs": [
    {
     "data": {
      "text/html": [
       "<style>#sk-container-id-9 {\n",
       "  /* Definition of color scheme common for light and dark mode */\n",
       "  --sklearn-color-text: black;\n",
       "  --sklearn-color-line: gray;\n",
       "  /* Definition of color scheme for unfitted estimators */\n",
       "  --sklearn-color-unfitted-level-0: #fff5e6;\n",
       "  --sklearn-color-unfitted-level-1: #f6e4d2;\n",
       "  --sklearn-color-unfitted-level-2: #ffe0b3;\n",
       "  --sklearn-color-unfitted-level-3: chocolate;\n",
       "  /* Definition of color scheme for fitted estimators */\n",
       "  --sklearn-color-fitted-level-0: #f0f8ff;\n",
       "  --sklearn-color-fitted-level-1: #d4ebff;\n",
       "  --sklearn-color-fitted-level-2: #b3dbfd;\n",
       "  --sklearn-color-fitted-level-3: cornflowerblue;\n",
       "\n",
       "  /* Specific color for light theme */\n",
       "  --sklearn-color-text-on-default-background: var(--sg-text-color, var(--theme-code-foreground, var(--jp-content-font-color1, black)));\n",
       "  --sklearn-color-background: var(--sg-background-color, var(--theme-background, var(--jp-layout-color0, white)));\n",
       "  --sklearn-color-border-box: var(--sg-text-color, var(--theme-code-foreground, var(--jp-content-font-color1, black)));\n",
       "  --sklearn-color-icon: #696969;\n",
       "\n",
       "  @media (prefers-color-scheme: dark) {\n",
       "    /* Redefinition of color scheme for dark theme */\n",
       "    --sklearn-color-text-on-default-background: var(--sg-text-color, var(--theme-code-foreground, var(--jp-content-font-color1, white)));\n",
       "    --sklearn-color-background: var(--sg-background-color, var(--theme-background, var(--jp-layout-color0, #111)));\n",
       "    --sklearn-color-border-box: var(--sg-text-color, var(--theme-code-foreground, var(--jp-content-font-color1, white)));\n",
       "    --sklearn-color-icon: #878787;\n",
       "  }\n",
       "}\n",
       "\n",
       "#sk-container-id-9 {\n",
       "  color: var(--sklearn-color-text);\n",
       "}\n",
       "\n",
       "#sk-container-id-9 pre {\n",
       "  padding: 0;\n",
       "}\n",
       "\n",
       "#sk-container-id-9 input.sk-hidden--visually {\n",
       "  border: 0;\n",
       "  clip: rect(1px 1px 1px 1px);\n",
       "  clip: rect(1px, 1px, 1px, 1px);\n",
       "  height: 1px;\n",
       "  margin: -1px;\n",
       "  overflow: hidden;\n",
       "  padding: 0;\n",
       "  position: absolute;\n",
       "  width: 1px;\n",
       "}\n",
       "\n",
       "#sk-container-id-9 div.sk-dashed-wrapped {\n",
       "  border: 1px dashed var(--sklearn-color-line);\n",
       "  margin: 0 0.4em 0.5em 0.4em;\n",
       "  box-sizing: border-box;\n",
       "  padding-bottom: 0.4em;\n",
       "  background-color: var(--sklearn-color-background);\n",
       "}\n",
       "\n",
       "#sk-container-id-9 div.sk-container {\n",
       "  /* jupyter's `normalize.less` sets `[hidden] { display: none; }`\n",
       "     but bootstrap.min.css set `[hidden] { display: none !important; }`\n",
       "     so we also need the `!important` here to be able to override the\n",
       "     default hidden behavior on the sphinx rendered scikit-learn.org.\n",
       "     See: https://github.com/scikit-learn/scikit-learn/issues/21755 */\n",
       "  display: inline-block !important;\n",
       "  position: relative;\n",
       "}\n",
       "\n",
       "#sk-container-id-9 div.sk-text-repr-fallback {\n",
       "  display: none;\n",
       "}\n",
       "\n",
       "div.sk-parallel-item,\n",
       "div.sk-serial,\n",
       "div.sk-item {\n",
       "  /* draw centered vertical line to link estimators */\n",
       "  background-image: linear-gradient(var(--sklearn-color-text-on-default-background), var(--sklearn-color-text-on-default-background));\n",
       "  background-size: 2px 100%;\n",
       "  background-repeat: no-repeat;\n",
       "  background-position: center center;\n",
       "}\n",
       "\n",
       "/* Parallel-specific style estimator block */\n",
       "\n",
       "#sk-container-id-9 div.sk-parallel-item::after {\n",
       "  content: \"\";\n",
       "  width: 100%;\n",
       "  border-bottom: 2px solid var(--sklearn-color-text-on-default-background);\n",
       "  flex-grow: 1;\n",
       "}\n",
       "\n",
       "#sk-container-id-9 div.sk-parallel {\n",
       "  display: flex;\n",
       "  align-items: stretch;\n",
       "  justify-content: center;\n",
       "  background-color: var(--sklearn-color-background);\n",
       "  position: relative;\n",
       "}\n",
       "\n",
       "#sk-container-id-9 div.sk-parallel-item {\n",
       "  display: flex;\n",
       "  flex-direction: column;\n",
       "}\n",
       "\n",
       "#sk-container-id-9 div.sk-parallel-item:first-child::after {\n",
       "  align-self: flex-end;\n",
       "  width: 50%;\n",
       "}\n",
       "\n",
       "#sk-container-id-9 div.sk-parallel-item:last-child::after {\n",
       "  align-self: flex-start;\n",
       "  width: 50%;\n",
       "}\n",
       "\n",
       "#sk-container-id-9 div.sk-parallel-item:only-child::after {\n",
       "  width: 0;\n",
       "}\n",
       "\n",
       "/* Serial-specific style estimator block */\n",
       "\n",
       "#sk-container-id-9 div.sk-serial {\n",
       "  display: flex;\n",
       "  flex-direction: column;\n",
       "  align-items: center;\n",
       "  background-color: var(--sklearn-color-background);\n",
       "  padding-right: 1em;\n",
       "  padding-left: 1em;\n",
       "}\n",
       "\n",
       "\n",
       "/* Toggleable style: style used for estimator/Pipeline/ColumnTransformer box that is\n",
       "clickable and can be expanded/collapsed.\n",
       "- Pipeline and ColumnTransformer use this feature and define the default style\n",
       "- Estimators will overwrite some part of the style using the `sk-estimator` class\n",
       "*/\n",
       "\n",
       "/* Pipeline and ColumnTransformer style (default) */\n",
       "\n",
       "#sk-container-id-9 div.sk-toggleable {\n",
       "  /* Default theme specific background. It is overwritten whether we have a\n",
       "  specific estimator or a Pipeline/ColumnTransformer */\n",
       "  background-color: var(--sklearn-color-background);\n",
       "}\n",
       "\n",
       "/* Toggleable label */\n",
       "#sk-container-id-9 label.sk-toggleable__label {\n",
       "  cursor: pointer;\n",
       "  display: block;\n",
       "  width: 100%;\n",
       "  margin-bottom: 0;\n",
       "  padding: 0.5em;\n",
       "  box-sizing: border-box;\n",
       "  text-align: center;\n",
       "}\n",
       "\n",
       "#sk-container-id-9 label.sk-toggleable__label-arrow:before {\n",
       "  /* Arrow on the left of the label */\n",
       "  content: \"▸\";\n",
       "  float: left;\n",
       "  margin-right: 0.25em;\n",
       "  color: var(--sklearn-color-icon);\n",
       "}\n",
       "\n",
       "#sk-container-id-9 label.sk-toggleable__label-arrow:hover:before {\n",
       "  color: var(--sklearn-color-text);\n",
       "}\n",
       "\n",
       "/* Toggleable content - dropdown */\n",
       "\n",
       "#sk-container-id-9 div.sk-toggleable__content {\n",
       "  max-height: 0;\n",
       "  max-width: 0;\n",
       "  overflow: hidden;\n",
       "  text-align: left;\n",
       "  /* unfitted */\n",
       "  background-color: var(--sklearn-color-unfitted-level-0);\n",
       "}\n",
       "\n",
       "#sk-container-id-9 div.sk-toggleable__content.fitted {\n",
       "  /* fitted */\n",
       "  background-color: var(--sklearn-color-fitted-level-0);\n",
       "}\n",
       "\n",
       "#sk-container-id-9 div.sk-toggleable__content pre {\n",
       "  margin: 0.2em;\n",
       "  border-radius: 0.25em;\n",
       "  color: var(--sklearn-color-text);\n",
       "  /* unfitted */\n",
       "  background-color: var(--sklearn-color-unfitted-level-0);\n",
       "}\n",
       "\n",
       "#sk-container-id-9 div.sk-toggleable__content.fitted pre {\n",
       "  /* unfitted */\n",
       "  background-color: var(--sklearn-color-fitted-level-0);\n",
       "}\n",
       "\n",
       "#sk-container-id-9 input.sk-toggleable__control:checked~div.sk-toggleable__content {\n",
       "  /* Expand drop-down */\n",
       "  max-height: 200px;\n",
       "  max-width: 100%;\n",
       "  overflow: auto;\n",
       "}\n",
       "\n",
       "#sk-container-id-9 input.sk-toggleable__control:checked~label.sk-toggleable__label-arrow:before {\n",
       "  content: \"▾\";\n",
       "}\n",
       "\n",
       "/* Pipeline/ColumnTransformer-specific style */\n",
       "\n",
       "#sk-container-id-9 div.sk-label input.sk-toggleable__control:checked~label.sk-toggleable__label {\n",
       "  color: var(--sklearn-color-text);\n",
       "  background-color: var(--sklearn-color-unfitted-level-2);\n",
       "}\n",
       "\n",
       "#sk-container-id-9 div.sk-label.fitted input.sk-toggleable__control:checked~label.sk-toggleable__label {\n",
       "  background-color: var(--sklearn-color-fitted-level-2);\n",
       "}\n",
       "\n",
       "/* Estimator-specific style */\n",
       "\n",
       "/* Colorize estimator box */\n",
       "#sk-container-id-9 div.sk-estimator input.sk-toggleable__control:checked~label.sk-toggleable__label {\n",
       "  /* unfitted */\n",
       "  background-color: var(--sklearn-color-unfitted-level-2);\n",
       "}\n",
       "\n",
       "#sk-container-id-9 div.sk-estimator.fitted input.sk-toggleable__control:checked~label.sk-toggleable__label {\n",
       "  /* fitted */\n",
       "  background-color: var(--sklearn-color-fitted-level-2);\n",
       "}\n",
       "\n",
       "#sk-container-id-9 div.sk-label label.sk-toggleable__label,\n",
       "#sk-container-id-9 div.sk-label label {\n",
       "  /* The background is the default theme color */\n",
       "  color: var(--sklearn-color-text-on-default-background);\n",
       "}\n",
       "\n",
       "/* On hover, darken the color of the background */\n",
       "#sk-container-id-9 div.sk-label:hover label.sk-toggleable__label {\n",
       "  color: var(--sklearn-color-text);\n",
       "  background-color: var(--sklearn-color-unfitted-level-2);\n",
       "}\n",
       "\n",
       "/* Label box, darken color on hover, fitted */\n",
       "#sk-container-id-9 div.sk-label.fitted:hover label.sk-toggleable__label.fitted {\n",
       "  color: var(--sklearn-color-text);\n",
       "  background-color: var(--sklearn-color-fitted-level-2);\n",
       "}\n",
       "\n",
       "/* Estimator label */\n",
       "\n",
       "#sk-container-id-9 div.sk-label label {\n",
       "  font-family: monospace;\n",
       "  font-weight: bold;\n",
       "  display: inline-block;\n",
       "  line-height: 1.2em;\n",
       "}\n",
       "\n",
       "#sk-container-id-9 div.sk-label-container {\n",
       "  text-align: center;\n",
       "}\n",
       "\n",
       "/* Estimator-specific */\n",
       "#sk-container-id-9 div.sk-estimator {\n",
       "  font-family: monospace;\n",
       "  border: 1px dotted var(--sklearn-color-border-box);\n",
       "  border-radius: 0.25em;\n",
       "  box-sizing: border-box;\n",
       "  margin-bottom: 0.5em;\n",
       "  /* unfitted */\n",
       "  background-color: var(--sklearn-color-unfitted-level-0);\n",
       "}\n",
       "\n",
       "#sk-container-id-9 div.sk-estimator.fitted {\n",
       "  /* fitted */\n",
       "  background-color: var(--sklearn-color-fitted-level-0);\n",
       "}\n",
       "\n",
       "/* on hover */\n",
       "#sk-container-id-9 div.sk-estimator:hover {\n",
       "  /* unfitted */\n",
       "  background-color: var(--sklearn-color-unfitted-level-2);\n",
       "}\n",
       "\n",
       "#sk-container-id-9 div.sk-estimator.fitted:hover {\n",
       "  /* fitted */\n",
       "  background-color: var(--sklearn-color-fitted-level-2);\n",
       "}\n",
       "\n",
       "/* Specification for estimator info (e.g. \"i\" and \"?\") */\n",
       "\n",
       "/* Common style for \"i\" and \"?\" */\n",
       "\n",
       ".sk-estimator-doc-link,\n",
       "a:link.sk-estimator-doc-link,\n",
       "a:visited.sk-estimator-doc-link {\n",
       "  float: right;\n",
       "  font-size: smaller;\n",
       "  line-height: 1em;\n",
       "  font-family: monospace;\n",
       "  background-color: var(--sklearn-color-background);\n",
       "  border-radius: 1em;\n",
       "  height: 1em;\n",
       "  width: 1em;\n",
       "  text-decoration: none !important;\n",
       "  margin-left: 1ex;\n",
       "  /* unfitted */\n",
       "  border: var(--sklearn-color-unfitted-level-1) 1pt solid;\n",
       "  color: var(--sklearn-color-unfitted-level-1);\n",
       "}\n",
       "\n",
       ".sk-estimator-doc-link.fitted,\n",
       "a:link.sk-estimator-doc-link.fitted,\n",
       "a:visited.sk-estimator-doc-link.fitted {\n",
       "  /* fitted */\n",
       "  border: var(--sklearn-color-fitted-level-1) 1pt solid;\n",
       "  color: var(--sklearn-color-fitted-level-1);\n",
       "}\n",
       "\n",
       "/* On hover */\n",
       "div.sk-estimator:hover .sk-estimator-doc-link:hover,\n",
       ".sk-estimator-doc-link:hover,\n",
       "div.sk-label-container:hover .sk-estimator-doc-link:hover,\n",
       ".sk-estimator-doc-link:hover {\n",
       "  /* unfitted */\n",
       "  background-color: var(--sklearn-color-unfitted-level-3);\n",
       "  color: var(--sklearn-color-background);\n",
       "  text-decoration: none;\n",
       "}\n",
       "\n",
       "div.sk-estimator.fitted:hover .sk-estimator-doc-link.fitted:hover,\n",
       ".sk-estimator-doc-link.fitted:hover,\n",
       "div.sk-label-container:hover .sk-estimator-doc-link.fitted:hover,\n",
       ".sk-estimator-doc-link.fitted:hover {\n",
       "  /* fitted */\n",
       "  background-color: var(--sklearn-color-fitted-level-3);\n",
       "  color: var(--sklearn-color-background);\n",
       "  text-decoration: none;\n",
       "}\n",
       "\n",
       "/* Span, style for the box shown on hovering the info icon */\n",
       ".sk-estimator-doc-link span {\n",
       "  display: none;\n",
       "  z-index: 9999;\n",
       "  position: relative;\n",
       "  font-weight: normal;\n",
       "  right: .2ex;\n",
       "  padding: .5ex;\n",
       "  margin: .5ex;\n",
       "  width: min-content;\n",
       "  min-width: 20ex;\n",
       "  max-width: 50ex;\n",
       "  color: var(--sklearn-color-text);\n",
       "  box-shadow: 2pt 2pt 4pt #999;\n",
       "  /* unfitted */\n",
       "  background: var(--sklearn-color-unfitted-level-0);\n",
       "  border: .5pt solid var(--sklearn-color-unfitted-level-3);\n",
       "}\n",
       "\n",
       ".sk-estimator-doc-link.fitted span {\n",
       "  /* fitted */\n",
       "  background: var(--sklearn-color-fitted-level-0);\n",
       "  border: var(--sklearn-color-fitted-level-3);\n",
       "}\n",
       "\n",
       ".sk-estimator-doc-link:hover span {\n",
       "  display: block;\n",
       "}\n",
       "\n",
       "/* \"?\"-specific style due to the `<a>` HTML tag */\n",
       "\n",
       "#sk-container-id-9 a.estimator_doc_link {\n",
       "  float: right;\n",
       "  font-size: 1rem;\n",
       "  line-height: 1em;\n",
       "  font-family: monospace;\n",
       "  background-color: var(--sklearn-color-background);\n",
       "  border-radius: 1rem;\n",
       "  height: 1rem;\n",
       "  width: 1rem;\n",
       "  text-decoration: none;\n",
       "  /* unfitted */\n",
       "  color: var(--sklearn-color-unfitted-level-1);\n",
       "  border: var(--sklearn-color-unfitted-level-1) 1pt solid;\n",
       "}\n",
       "\n",
       "#sk-container-id-9 a.estimator_doc_link.fitted {\n",
       "  /* fitted */\n",
       "  border: var(--sklearn-color-fitted-level-1) 1pt solid;\n",
       "  color: var(--sklearn-color-fitted-level-1);\n",
       "}\n",
       "\n",
       "/* On hover */\n",
       "#sk-container-id-9 a.estimator_doc_link:hover {\n",
       "  /* unfitted */\n",
       "  background-color: var(--sklearn-color-unfitted-level-3);\n",
       "  color: var(--sklearn-color-background);\n",
       "  text-decoration: none;\n",
       "}\n",
       "\n",
       "#sk-container-id-9 a.estimator_doc_link.fitted:hover {\n",
       "  /* fitted */\n",
       "  background-color: var(--sklearn-color-fitted-level-3);\n",
       "}\n",
       "</style><div id=\"sk-container-id-9\" class=\"sk-top-container\"><div class=\"sk-text-repr-fallback\"><pre>MLPClassifier(max_iter=300, random_state=42)</pre><b>In a Jupyter environment, please rerun this cell to show the HTML representation or trust the notebook. <br />On GitHub, the HTML representation is unable to render, please try loading this page with nbviewer.org.</b></div><div class=\"sk-container\" hidden><div class=\"sk-item\"><div class=\"sk-estimator fitted sk-toggleable\"><input class=\"sk-toggleable__control sk-hidden--visually\" id=\"sk-estimator-id-9\" type=\"checkbox\" checked><label for=\"sk-estimator-id-9\" class=\"sk-toggleable__label fitted sk-toggleable__label-arrow fitted\">&nbsp;&nbsp;MLPClassifier<a class=\"sk-estimator-doc-link fitted\" rel=\"noreferrer\" target=\"_blank\" href=\"https://scikit-learn.org/1.5/modules/generated/sklearn.neural_network.MLPClassifier.html\">?<span>Documentation for MLPClassifier</span></a><span class=\"sk-estimator-doc-link fitted\">i<span>Fitted</span></span></label><div class=\"sk-toggleable__content fitted\"><pre>MLPClassifier(max_iter=300, random_state=42)</pre></div> </div></div></div></div>"
      ],
      "text/plain": [
       "MLPClassifier(max_iter=300, random_state=42)"
      ]
     },
     "execution_count": 319,
     "metadata": {},
     "output_type": "execute_result"
    }
   ],
   "source": [
    "mlp = MLPClassifier(hidden_layer_sizes=(100,), max_iter=300, random_state=42)\n",
    "mlp.fit(X_train, y_train)\n"
   ]
  },
  {
   "cell_type": "code",
   "execution_count": 320,
   "metadata": {},
   "outputs": [
    {
     "name": "stdout",
     "output_type": "stream",
     "text": [
      "F1-Score: 0.0\n"
     ]
    }
   ],
   "source": [
    "y_pred = mlp.predict(X_test)\n",
    "f1 = f1_score(y_test, y_pred)\n",
    "print(f\"F1-Score: {f1}\")"
   ]
  },
  {
   "cell_type": "code",
   "execution_count": 321,
   "metadata": {},
   "outputs": [
    {
     "name": "stdout",
     "output_type": "stream",
     "text": [
      "AUC-ROC Score: 0.51\n"
     ]
    }
   ],
   "source": [
    "# Predict probabilities for the positive class\n",
    "y_probs = mlp.predict_proba(X_test)[:, 1]  # Get probabilities for class 1\n",
    "\n",
    "# Calculate the AUC-ROC score\n",
    "auc_score = roc_auc_score(y_test, y_probs)\n",
    "\n",
    "print(f\"AUC-ROC Score: {auc_score:.2f}\")"
   ]
  },
  {
   "cell_type": "code",
   "execution_count": 322,
   "metadata": {},
   "outputs": [
    {
     "name": "stdout",
     "output_type": "stream",
     "text": [
      "Submission file created: 'submission_mlp.csv'\n"
     ]
    }
   ],
   "source": [
    "# Predict probabilities for the positive class (fraud)\n",
    "test_probs = mlp.predict_proba(kaggle_data)[:, 1]  # Probabilities for class 1 (fraud)\n",
    "\n",
    "submission = pd.DataFrame({\n",
    "    'index': index_mapping,  \n",
    "    'is_fraud': test_probs          # Predicted probabilities\n",
    "})\n",
    "\n",
    "# Save to CSV\n",
    "submission.to_csv('submission/submission_mlp.csv', index=False)\n",
    "\n",
    "print(\"Submission file created: 'submission_mlp.csv'\")\n"
   ]
  },
  {
   "cell_type": "markdown",
   "metadata": {},
   "source": [
    "## Support Vector Machine (SVM)"
   ]
  },
  {
   "cell_type": "code",
   "execution_count": null,
   "metadata": {},
   "outputs": [],
   "source": [
    "svm = SVC(kernel='rbf', probability=True, random_state=42)\n",
    "svm.fit(X_train, y_train)"
   ]
  },
  {
   "cell_type": "code",
   "execution_count": null,
   "metadata": {},
   "outputs": [
    {
     "name": "stdout",
     "output_type": "stream",
     "text": [
      "F1-Score: 0.0\n"
     ]
    }
   ],
   "source": [
    "y_pred = svm.predict(X_test)\n",
    "f1 = f1_score(y_test, y_pred)\n",
    "print(f\"F1-Score: {f1}\")"
   ]
  },
  {
   "cell_type": "code",
   "execution_count": null,
   "metadata": {},
   "outputs": [
    {
     "name": "stdout",
     "output_type": "stream",
     "text": [
      "AUC-ROC Score: 0.49\n"
     ]
    }
   ],
   "source": [
    "# Predict probabilities for the positive class\n",
    "y_probs = svm.predict_proba(X_test)[:, 1]  # Get probabilities for class 1\n",
    "\n",
    "# Calculate the AUC-ROC score\n",
    "auc_score = roc_auc_score(y_test, y_probs)\n",
    "\n",
    "print(f\"AUC-ROC Score: {auc_score:.2f}\")"
   ]
  },
  {
   "cell_type": "code",
   "execution_count": null,
   "metadata": {},
   "outputs": [
    {
     "name": "stdout",
     "output_type": "stream",
     "text": [
      "Submission file created: 'submission_svm.csv'\n"
     ]
    }
   ],
   "source": [
    "# Predict probabilities for the positive class (fraud)\n",
    "test_probs = svm.predict_proba(kaggle_data)[:, 1]  # Probabilities for class 1 (fraud)\n",
    "\n",
    "submission = pd.DataFrame({\n",
    "    'index': index_mapping,  \n",
    "    'is_fraud': test_probs          # Predicted probabilities\n",
    "})\n",
    "\n",
    "# Save to CSV\n",
    "submission.to_csv('submission/submission_svm.csv', index=False)\n",
    "\n",
    "print(\"Submission file created: 'submission_svm.csv'\")\n"
   ]
  }
 ],
 "metadata": {
  "kernelspec": {
   "display_name": "venv",
   "language": "python",
   "name": "python3"
  },
  "language_info": {
   "codemirror_mode": {
    "name": "ipython",
    "version": 3
   },
   "file_extension": ".py",
   "mimetype": "text/x-python",
   "name": "python",
   "nbconvert_exporter": "python",
   "pygments_lexer": "ipython3",
   "version": "3.12.3"
  }
 },
 "nbformat": 4,
 "nbformat_minor": 2
}
