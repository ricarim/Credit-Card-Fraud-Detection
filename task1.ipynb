{
 "cells": [
  {
   "cell_type": "markdown",
   "metadata": {},
   "source": [
    "# Task 1: Data Understanding, Preparation and Descriptive Analytics"
   ]
  },
  {
   "cell_type": "markdown",
   "metadata": {},
   "source": [
    "# Clean the Datasets"
   ]
  },
  {
   "cell_type": "markdown",
   "metadata": {},
   "source": [
    "## Merge the Datasets"
   ]
  },
  {
   "cell_type": "markdown",
   "metadata": {},
   "source": [
    "I used the function `merge` from pandas library that implements SQL style joining operations."
   ]
  },
  {
   "cell_type": "markdown",
   "metadata": {},
   "source": [
    "In this case, `transactions` is our primary dataset, with each row representing a transaction record. We want to ensure that every transaction is retained in the final merged dataset, even if certain demographic, merchant, or city information is missing."
   ]
  },
  {
   "cell_type": "markdown",
   "metadata": {},
   "source": [
    "Using `how='left'` for each merge step ensures **all transactions are retained** in the final dataset, even if:\n",
    "\n",
    "- **Customer data is missing** Transactions without a matching `cc_num` in `customers` will still appear, with `NaN` for customer details\n",
    "\n",
    "- **Merchant information is missing** Transactions lacking a matching `merchant` in `merchants` are included, with `NaN` for merchant fields\n",
    "\n",
    "- **City data is missing** If a customer’s `city` has no match in `cities`, the transaction is kept with `NaN` for city details\n"
   ]
  },
  {
   "cell_type": "code",
   "execution_count": 5,
   "metadata": {},
   "outputs": [
    {
     "name": "stdout",
     "output_type": "stream",
     "text": [
      "   index trans_date_trans_time            cc_num device_os     merchant  \\\n",
      "0   5381   2023-01-01 00:39:03  2801374844713453       NaN  Merchant_85   \n",
      "1   4008   2023-01-01 01:16:08  3460245159749480       NaN  Merchant_23   \n",
      "2   1221   2023-01-01 01:24:28  7308701990157768     macOS  Merchant_70   \n",
      "3   9609   2023-01-01 02:06:57  8454886440761098       X11  Merchant_33   \n",
      "4   5689   2023-01-01 02:10:54  6350332939133843       NaN  Merchant_90   \n",
      "\n",
      "      amt     trans_num   unix_time  is_fraud  first  ...      job  \\\n",
      "0  252.75  TRANS_662964  1672533543         0   Jane  ...      NaN   \n",
      "1  340.17  TRANS_134939  1672535768         0  Alice  ...    Nurse   \n",
      "2   76.38  TRANS_258923  1672536268         0    Bob  ...   Doctor   \n",
      "3  368.88  TRANS_226814  1672538817         0   Mike  ...  Teacher   \n",
      "4  323.32  TRANS_668449  1672539054         0   Mike  ...    Nurse   \n",
      "\n",
      "          dob       category  merch_lat  merch_long merchant_id      lat  \\\n",
      "0  2002-10-12            NaN        NaN   76.433212        85.0  41.8781   \n",
      "1  2001-12-23  Entertainment  27.177588  -64.857435        23.0  40.7128   \n",
      "2  1978-12-13    Electronics  31.730070  -67.777407        70.0  33.4484   \n",
      "3  1965-04-21    Electronics  -5.005953  146.873847        33.0  33.4484   \n",
      "4  1997-05-17      Groceries  79.065894   40.668693        90.0  40.7128   \n",
      "\n",
      "       long   city_pop  state  \n",
      "0  -87.6298  2716000.0     IL  \n",
      "1  -74.0060  8419600.0     NY  \n",
      "2 -112.0740  1680992.0     AZ  \n",
      "3 -112.0740  1680992.0     AZ  \n",
      "4  -74.0060  8419600.0     NY  \n",
      "\n",
      "[5 rows x 25 columns]\n"
     ]
    }
   ],
   "source": [
    "import pandas as pd\n",
    "\n",
    "# Load Datasets\n",
    "transactions = pd.read_csv('data/transactions.csv')\n",
    "merchants = pd.read_csv('data/merchants.csv')\n",
    "customers = pd.read_csv('data/customers.csv')\n",
    "cities = pd.read_csv('data/cities.csv')\n",
    "\n",
    "# Merge the .csv files into one\n",
    "merged_data = pd.merge(transactions, customers, on='cc_num', how='left')\n",
    "merged_data = pd.merge(merged_data, merchants, on='merchant', how='left')\n",
    "merged_data = pd.merge(merged_data, cities, on='city', how='left')\n",
    "\n",
    "# Print merged dataset\n",
    "print(merged_data.head())\n",
    "\n",
    "# Save merged datase\n",
    "merged_data.to_csv('data/merged_data.csv', index=False)"
   ]
  }
 ],
 "metadata": {
  "kernelspec": {
   "display_name": "venv",
   "language": "python",
   "name": "python3"
  },
  "language_info": {
   "codemirror_mode": {
    "name": "ipython",
    "version": 3
   },
   "file_extension": ".py",
   "mimetype": "text/x-python",
   "name": "python",
   "nbconvert_exporter": "python",
   "pygments_lexer": "ipython3",
   "version": "3.12.3"
  }
 },
 "nbformat": 4,
 "nbformat_minor": 2
}
