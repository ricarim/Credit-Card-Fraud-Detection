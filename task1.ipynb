{
 "cells": [
  {
   "cell_type": "markdown",
   "metadata": {},
   "source": [
    "# Task 1: Data Understanding, Preparation and Descriptive Analytics"
   ]
  },
  {
   "cell_type": "markdown",
   "metadata": {},
   "source": [
    "## Merge the Datasets"
   ]
  },
  {
   "cell_type": "markdown",
   "metadata": {},
   "source": [
    "I used the function `merge` from pandas library that implements SQL style joining operations."
   ]
  },
  {
   "cell_type": "markdown",
   "metadata": {},
   "source": [
    "In this case, `transactions` is our primary dataset, with each row representing a transaction record. We want to ensure that every transaction is retained in the final merged dataset, even if certain demographic, merchant, or city information is missing."
   ]
  },
  {
   "cell_type": "markdown",
   "metadata": {},
   "source": [
    "Using `how='left'` for each merge step ensures **all transactions are retained** in the final dataset, even if:\n",
    "\n",
    "- **Customer data is missing** Transactions without a matching `cc_num` in `customers` will still appear, with `NaN` for customer details\n",
    "\n",
    "- **Merchant information is missing** Transactions lacking a matching `merchant` in `merchants` are included, with `NaN` for merchant fields\n",
    "\n",
    "- **City data is missing** If a customer’s `city` has no match in `cities`, the transaction is kept with `NaN` for city details\n"
   ]
  },
  {
   "cell_type": "code",
   "execution_count": 9,
   "metadata": {},
   "outputs": [
    {
     "name": "stdout",
     "output_type": "stream",
     "text": [
      "   index trans_date_trans_time            cc_num device_os     merchant  \\\n",
      "0   5381   2023-01-01 00:39:03  2801374844713453       NaN  Merchant_85   \n",
      "1   5381   2023-01-01 00:39:03  2801374844713453       NaN  Merchant_85   \n",
      "2   5381   2023-01-01 00:39:03  2801374844713453       NaN  Merchant_85   \n",
      "3   5381   2023-01-01 00:39:03  2801374844713453       NaN  Merchant_85   \n",
      "4   5381   2023-01-01 00:39:03  2801374844713453       NaN  Merchant_85   \n",
      "\n",
      "      amt     trans_num   unix_time  is_fraud first  ...  job         dob  \\\n",
      "0  252.75  TRANS_662964  1672533543         0  Jane  ...  NaN  2002-10-12   \n",
      "1  252.75  TRANS_662964  1672533543         0  Jane  ...  NaN  2002-10-12   \n",
      "2  252.75  TRANS_662964  1672533543         0  Jane  ...  NaN  2002-10-12   \n",
      "3  252.75  TRANS_662964  1672533543         0  Jane  ...  NaN  2002-10-12   \n",
      "4  252.75  TRANS_662964  1672533543         0  Jane  ...  NaN  2002-10-12   \n",
      "\n",
      "  category merch_lat  merch_long merchant_id        lat        long  city_pop  \\\n",
      "0      NaN       NaN   76.433212        85.0 -17.574560  145.846228  160706.0   \n",
      "1      NaN       NaN   76.433212        85.0 -38.819349   58.026615  417152.0   \n",
      "2      NaN       NaN   76.433212        85.0 -86.545634 -131.903696  288078.0   \n",
      "3      NaN       NaN   76.433212        85.0  47.229593  140.309438  470198.0   \n",
      "4      NaN       NaN   76.433212        85.0  82.045908 -118.553638  231159.0   \n",
      "\n",
      "   state  \n",
      "0     CA  \n",
      "1     NY  \n",
      "2     CA  \n",
      "3     TX  \n",
      "4     AZ  \n",
      "\n",
      "[5 rows x 25 columns]\n"
     ]
    }
   ],
   "source": [
    "import pandas as pd\n",
    "\n",
    "# Load Datasets\n",
    "transactions = pd.read_csv('data/transactions.csv')\n",
    "merchants = pd.read_csv('data/merchants.csv')\n",
    "customers = pd.read_csv('data/customers.csv')\n",
    "cities = pd.read_csv('data/cities.csv')\n",
    "\n",
    "# Merge the .csv files into one\n",
    "merged_data = pd.merge(transactions, customers, on='cc_num', how='left')\n",
    "merged_data = pd.merge(merged_data, merchants, on='merchant', how='left')\n",
    "merged_data = pd.merge(merged_data, cities, on='city', how='left')\n",
    "\n",
    "# Print merged dataset\n",
    "print(merged_data.head())\n",
    "\n",
    "# Save merged dataset\n",
    "merged_data.to_csv('data/merged_data.csv', index=False)"
   ]
  }
 ],
 "metadata": {
  "kernelspec": {
   "display_name": "venv",
   "language": "python",
   "name": "python3"
  },
  "language_info": {
   "codemirror_mode": {
    "name": "ipython",
    "version": 3
   },
   "file_extension": ".py",
   "mimetype": "text/x-python",
   "name": "python",
   "nbconvert_exporter": "python",
   "pygments_lexer": "ipython3",
   "version": "3.12.3"
  }
 },
 "nbformat": 4,
 "nbformat_minor": 2
}
