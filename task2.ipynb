{
 "cells": [
  {
   "cell_type": "markdown",
   "metadata": {},
   "source": [
    "# Credit Card Fraud Detection"
   ]
  },
  {
   "cell_type": "markdown",
   "metadata": {},
   "source": [
    "# Task 2: Predictive Modelling"
   ]
  },
  {
   "cell_type": "markdown",
   "metadata": {},
   "source": [
    "## Required libraries "
   ]
  },
  {
   "cell_type": "code",
   "execution_count": 1,
   "metadata": {},
   "outputs": [],
   "source": [
    "import matplotlib.pyplot as plt\n",
    "import pandas as pd\n",
    "import seaborn as sns\n",
    "import numpy as np\n",
    "import cartopy.crs as ccrs\n",
    "import cartopy.feature as cfeature\n",
    "from adjustText import adjust_text\n",
    "from geopy.distance import geodesic\n",
    "from sklearn.preprocessing import StandardScaler\n",
    "from imblearn.under_sampling import RandomUnderSampler\n",
    "from imblearn.pipeline import Pipeline\n",
    "from collections import Counter\n",
    "from imblearn.over_sampling import SMOTE\n",
    "from sklearn.model_selection import train_test_split\n",
    "from sklearn.cluster import DBSCAN\n",
    "from sklearn.preprocessing import StandardScaler\n",
    "from sklearn.cluster import KMeans\n",
    "from sklearn.ensemble import RandomForestClassifier\n",
    "from sklearn.model_selection import GridSearchCV\n",
    "from sklearn.model_selection import RandomizedSearchCV\n",
    "from sklearn.metrics import roc_auc_score, roc_curve\n",
    "from sklearn.metrics import f1_score\n",
    "from sklearn.metrics import confusion_matrix, classification_report\n",
    "from xgboost import XGBClassifier\n",
    "import pickle\n",
    "import os\n",
    "from sklearn.impute import KNNImputer\n",
    "from sklearn.preprocessing import LabelEncoder\n",
    "from sklearn.neighbors import KNeighborsClassifier\n",
    "from sklearn.svm import SVC\n",
    "from sklearn.neural_network import MLPClassifier\n",
    "from sklearn.tree import DecisionTreeClassifier"
   ]
  },
  {
   "cell_type": "markdown",
   "metadata": {},
   "source": [
    "## Load training and test dataset "
   ]
  },
  {
   "cell_type": "code",
   "execution_count": 2,
   "metadata": {},
   "outputs": [],
   "source": [
    "with open(\"variables/X_train.pkl\", \"rb\") as f:\n",
    "    X_train = pickle.load(f)\n",
    "\n",
    "with open(\"variables/y_train.pkl\", \"rb\") as f:\n",
    "    y_train = pickle.load(f)\n",
    "\n",
    "with open(\"variables/X_test.pkl\", \"rb\") as f:\n",
    "    X_test = pickle.load(f)\n",
    "\n",
    "with open(\"variables/y_test.pkl\", \"rb\") as f:\n",
    "    y_test = pickle.load(f)\n",
    "\n",
    "with open(\"variables/kaggle_data.pkl\", \"rb\") as f:\n",
    "    kaggle_data = pickle.load(f)\n",
    "\n",
    "with open(\"variables/index_mapping.pkl\", \"rb\") as f:\n",
    "    index_mapping = pickle.load(f)"
   ]
  },
  {
   "cell_type": "markdown",
   "metadata": {},
   "source": [
    "## Class Imbalance - SMOTE and model pipeline"
   ]
  },
  {
   "cell_type": "markdown",
   "metadata": {},
   "source": [
    "To address the significant class imbalance in the dataset, several methods were considered, including **basic SMOTE**, **SMOTE-Tomek**, and **SMOTE combined with RandomUnderSampling**. After evaluating the characteristics of the data, the combination of **SMOTE + RandomUnderSampling** was chosen as the most appropriate technique."
   ]
  },
  {
   "cell_type": "markdown",
   "metadata": {},
   "source": [
    "The decision to use **SMOTE + RandomUnderSampling** instead of **SMOTE-Tomek** or **basic SMOTE** was based on the analysis of the dataset's characteristics and the goals of the project.\n"
   ]
  },
  {
   "cell_type": "markdown",
   "metadata": {},
   "source": [
    "#### Class Imbalance"
   ]
  },
  {
   "cell_type": "markdown",
   "metadata": {},
   "source": [
    "The dataset exhibits a significant class imbalance, with very few samples belonging to the minority class (`is_fraud = 1`). Addressing this imbalance is critical to ensure that the model does not become biased towards the majority class (`is_fraud = 0`). SMOTE is effective in resolving this issue by generating synthetic samples for the minority class, thereby improving class representation and model fairness."
   ]
  },
  {
   "cell_type": "markdown",
   "metadata": {},
   "source": [
    "#### Efficiency"
   ]
  },
  {
   "cell_type": "markdown",
   "metadata": {},
   "source": [
    "\n",
    "\n",
    "**SMOTE + RandomUnderSampling** is computationally simpler and faster compared to **SMOTE-Tomek**, as it does not involve the additional step of identifying and removing Tomek links. This makes it a practical choice for the dataset, given the observed lack of significant class overlap."
   ]
  },
  {
   "cell_type": "code",
   "execution_count": 3,
   "metadata": {},
   "outputs": [],
   "source": [
    "oversampling_rates = [0.5,0.7]  # Fraction of majority class\n",
    "undersampling_rates = [0.8,1.0] # Fraction of total dataset for the majority class\n",
    "\n",
    "\n",
    "\n",
    "def model_pipeline(model, submission_file, use_random_search=False, param_grid=None, n_iter=10):\n",
    "    results = []\n",
    "    best_model = None\n",
    "    best_auc = 0 \n",
    "    best_config = None \n",
    "\n",
    "    for oversampling_rate in oversampling_rates:\n",
    "        for undersampling_rate in undersampling_rates:\n",
    "            print(f\"\\nTesting Oversampling={oversampling_rate}, Undersampling={undersampling_rate}\")\n",
    "            \n",
    "            # Define SMOTE and undersampler\n",
    "            smote = SMOTE(sampling_strategy=oversampling_rate, random_state=42)\n",
    "            undersampler = RandomUnderSampler(sampling_strategy=undersampling_rate, random_state=42)\n",
    "            \n",
    "            # Create pipeline\n",
    "            pipeline = Pipeline(steps=[\n",
    "                ('smote', smote),\n",
    "                ('undersampler', undersampler),\n",
    "                ('model', model)\n",
    "            ])\n",
    "            \n",
    "            if use_random_search:\n",
    "                search = RandomizedSearchCV(\n",
    "                    estimator=pipeline,\n",
    "                    param_distributions=param_grid,  # Prefix for model params\n",
    "                    n_iter=n_iter,\n",
    "                    scoring='roc_auc',\n",
    "                    cv=5,\n",
    "                    n_jobs=-1,\n",
    "                    random_state=42 \n",
    "                )\n",
    "                # Train with hyperparameter tuning\n",
    "                search.fit(X_train, y_train)\n",
    "                best_pipeline = search.best_estimator_\n",
    "                best_params = search.best_params_\n",
    "                print(f\"Best Parameters for this iteration: {best_params}\")\n",
    "            else:\n",
    "                # Train pipeline without hyperparameter search\n",
    "                pipeline.fit(X_train, y_train)\n",
    "                best_pipeline = pipeline\n",
    "                best_params = \"Default parameters\"\n",
    "\n",
    "\n",
    "            \n",
    "            # Predict on the test set\n",
    "            y_pred = best_pipeline.predict(X_test)\n",
    "            y_pred_proba = best_pipeline.predict_proba(X_test)[:, 1]  # Get probabilities for AUC\n",
    "\n",
    "            \n",
    "            # Evaluate model\n",
    "            print(\"Classification Report:\")\n",
    "            report = classification_report(y_test, y_pred, output_dict=True, zero_division=0)\n",
    "            \n",
    "            \n",
    "            # Confusion matrix\n",
    "            print(\"Confusion Matrix:\")\n",
    "            print(confusion_matrix(y_test, y_pred))\n",
    "            \n",
    "            # Calculate AUC\n",
    "            auc_score = roc_auc_score(y_test, y_pred_proba)\n",
    "           \n",
    "\n",
    "            # Store results\n",
    "            results.append({\n",
    "                'oversampling_rate': oversampling_rate,\n",
    "                'undersampling_rate': undersampling_rate,\n",
    "                'precision': report['1']['precision'],\n",
    "                'recall': report['1']['recall'],\n",
    "                'f1_score': report['1']['f1-score'],\n",
    "                'auc': auc_score\n",
    "            })\n",
    "\n",
    "            # Check if current model is the best\n",
    "            if auc_score > best_auc:\n",
    "                best_auc = auc_score\n",
    "                best_model = best_pipeline\n",
    "                best_config = {\n",
    "                    'oversampling_rate': oversampling_rate,\n",
    "                    'undersampling_rate': undersampling_rate\n",
    "                }\n",
    "\n",
    "    # Print best configuration\n",
    "    print(\"\\nBest Configuration:\")\n",
    "    print(f\"Oversampling Rate: {best_config['oversampling_rate']}\")\n",
    "    print(f\"Undersampling Rate: {best_config['undersampling_rate']}\")\n",
    "    print(f\"Best AUC: {best_auc:.4f}\")\n",
    "\n",
    "    # Predict probabilities for Kaggle submission\n",
    "    test_probs = best_model.predict_proba(kaggle_data)[:, 1]  # Probabilities for class 1 (fraud)\n",
    "\n",
    "    # Create submission DataFrame\n",
    "    submission = pd.DataFrame({\n",
    "        'index': index_mapping,\n",
    "        'is_fraud': test_probs\n",
    "    })\n",
    "\n",
    "    # Save to CSV\n",
    "    submission_file_name = f\"{submission_file}.csv\"\n",
    "    submission.to_csv(f\"submission/{submission_file_name}\", index=False)\n",
    "    print(f\"Submission file created: '{submission_file_name}'\")\n",
    "    \n",
    "    return results"
   ]
  },
  {
   "cell_type": "markdown",
   "metadata": {},
   "source": [
    "## Random Forest Classifier"
   ]
  },
  {
   "cell_type": "code",
   "execution_count": 4,
   "metadata": {},
   "outputs": [
    {
     "name": "stdout",
     "output_type": "stream",
     "text": [
      "\n",
      "Testing Oversampling=0.5, Undersampling=0.8\n",
      "Classification Report:\n",
      "Confusion Matrix:\n",
      "[[5883    3]\n",
      " [ 114    0]]\n",
      "\n",
      "Testing Oversampling=0.5, Undersampling=1.0\n",
      "Classification Report:\n",
      "Confusion Matrix:\n",
      "[[5884    2]\n",
      " [ 114    0]]\n",
      "\n",
      "Testing Oversampling=0.7, Undersampling=0.8\n",
      "Classification Report:\n",
      "Confusion Matrix:\n",
      "[[5885    1]\n",
      " [ 114    0]]\n",
      "\n",
      "Testing Oversampling=0.7, Undersampling=1.0\n",
      "Classification Report:\n",
      "Confusion Matrix:\n",
      "[[5886    0]\n",
      " [ 114    0]]\n",
      "\n",
      "Best Configuration:\n",
      "Oversampling Rate: 0.5\n",
      "Undersampling Rate: 1.0\n",
      "Best AUC: 0.4390\n",
      "Submission file created: 'submission_random_forest.csv'\n"
     ]
    },
    {
     "data": {
      "text/plain": [
       "[{'oversampling_rate': 0.5,\n",
       "  'undersampling_rate': 0.8,\n",
       "  'precision': 0.0,\n",
       "  'recall': 0.0,\n",
       "  'f1_score': 0.0,\n",
       "  'auc': np.float64(0.4270488700514453)},\n",
       " {'oversampling_rate': 0.5,\n",
       "  'undersampling_rate': 1.0,\n",
       "  'precision': 0.0,\n",
       "  'recall': 0.0,\n",
       "  'f1_score': 0.0,\n",
       "  'auc': np.float64(0.4389839702892978)},\n",
       " {'oversampling_rate': 0.7,\n",
       "  'undersampling_rate': 0.8,\n",
       "  'precision': 0.0,\n",
       "  'recall': 0.0,\n",
       "  'f1_score': 0.0,\n",
       "  'auc': np.float64(0.4185668043707639)},\n",
       " {'oversampling_rate': 0.7,\n",
       "  'undersampling_rate': 1.0,\n",
       "  'precision': 0.0,\n",
       "  'recall': 0.0,\n",
       "  'f1_score': 0.0,\n",
       "  'auc': np.float64(0.41083212618702725)}]"
      ]
     },
     "execution_count": 4,
     "metadata": {},
     "output_type": "execute_result"
    }
   ],
   "source": [
    "# Train a Random Forest Classifier\n",
    "rf = RandomForestClassifier(random_state=42)\n",
    "\n",
    "model_pipeline(rf,\"submission_random_forest\")"
   ]
  },
  {
   "cell_type": "markdown",
   "metadata": {},
   "source": [
    "## Random Search - Random Forest Classifier"
   ]
  },
  {
   "cell_type": "code",
   "execution_count": 10,
   "metadata": {},
   "outputs": [
    {
     "name": "stdout",
     "output_type": "stream",
     "text": [
      "\n",
      "Testing Oversampling=0.5, Undersampling=0.8\n",
      "Best Parameters for this iteration: {'model__n_estimators': 100, 'model__min_samples_split': 5, 'model__min_samples_leaf': 4, 'model__max_depth': 10}\n",
      "Classification Report:\n",
      "Confusion Matrix:\n",
      "[[5886    0]\n",
      " [ 114    0]]\n",
      "\n",
      "Testing Oversampling=0.5, Undersampling=1.0\n",
      "Best Parameters for this iteration: {'model__n_estimators': 100, 'model__min_samples_split': 5, 'model__min_samples_leaf': 4, 'model__max_depth': 10}\n",
      "Classification Report:\n",
      "Confusion Matrix:\n",
      "[[5886    0]\n",
      " [ 114    0]]\n",
      "\n",
      "Testing Oversampling=0.7, Undersampling=0.8\n",
      "Best Parameters for this iteration: {'model__n_estimators': 100, 'model__min_samples_split': 5, 'model__min_samples_leaf': 4, 'model__max_depth': 10}\n",
      "Classification Report:\n",
      "Confusion Matrix:\n",
      "[[5885    1]\n",
      " [ 114    0]]\n",
      "\n",
      "Testing Oversampling=0.7, Undersampling=1.0\n",
      "Best Parameters for this iteration: {'model__n_estimators': 100, 'model__min_samples_split': 5, 'model__min_samples_leaf': 4, 'model__max_depth': 10}\n",
      "Classification Report:\n",
      "Confusion Matrix:\n",
      "[[5886    0]\n",
      " [ 113    1]]\n",
      "\n",
      "Best Configuration:\n",
      "Oversampling Rate: 0.5\n",
      "Undersampling Rate: 0.8\n",
      "Best AUC: 0.4489\n",
      "Submission file created: 'submission_random_search_random_forest.csv'\n"
     ]
    },
    {
     "data": {
      "text/plain": [
       "[{'oversampling_rate': 0.5,\n",
       "  'undersampling_rate': 0.8,\n",
       "  'precision': 0.0,\n",
       "  'recall': 0.0,\n",
       "  'f1_score': 0.0,\n",
       "  'auc': np.float64(0.44885947028631723)},\n",
       " {'oversampling_rate': 0.5,\n",
       "  'undersampling_rate': 1.0,\n",
       "  'precision': 0.0,\n",
       "  'recall': 0.0,\n",
       "  'f1_score': 0.0,\n",
       "  'auc': np.float64(0.4375748877801026)},\n",
       " {'oversampling_rate': 0.7,\n",
       "  'undersampling_rate': 0.8,\n",
       "  'precision': 0.0,\n",
       "  'recall': 0.0,\n",
       "  'f1_score': 0.0,\n",
       "  'auc': np.float64(0.43664419288111544)},\n",
       " {'oversampling_rate': 0.7,\n",
       "  'undersampling_rate': 1.0,\n",
       "  'precision': 1.0,\n",
       "  'recall': 0.008771929824561403,\n",
       "  'f1_score': 0.017391304347826087,\n",
       "  'auc': np.float64(0.43613674434131544)}]"
      ]
     },
     "execution_count": 10,
     "metadata": {},
     "output_type": "execute_result"
    }
   ],
   "source": [
    "\n",
    "rf = RandomForestClassifier(random_state=42)\n",
    "\n",
    "param_distributions = {\n",
    "        'model__n_estimators': [100, 200, 500,1000],      \n",
    "        'model__max_depth': [None, 10, 20, 30],     \n",
    "        'model__min_samples_split': [2, 5, 10],         \n",
    "        'model__min_samples_leaf': [1, 2, 4, 5],                           \n",
    "    }\n",
    "\n",
    "model_pipeline(rf,\"submission_random_search_random_forest\",True,param_distributions)\n",
    "\n"
   ]
  },
  {
   "cell_type": "markdown",
   "metadata": {},
   "source": [
    "## XGBOOST"
   ]
  },
  {
   "cell_type": "code",
   "execution_count": null,
   "metadata": {},
   "outputs": [
    {
     "name": "stdout",
     "output_type": "stream",
     "text": [
      "\n",
      "Testing Oversampling=0.5, Undersampling=0.8\n",
      "Classification Report:\n",
      "Confusion Matrix:\n",
      "[[4226 1660]\n",
      " [  93   21]]\n",
      "\n",
      "Testing Oversampling=0.5, Undersampling=1.0\n",
      "Classification Report:\n",
      "Confusion Matrix:\n",
      "[[4215 1671]\n",
      " [  91   23]]\n",
      "\n",
      "Testing Oversampling=0.7, Undersampling=0.8\n",
      "Classification Report:\n",
      "Confusion Matrix:\n",
      "[[4350 1536]\n",
      " [  91   23]]\n",
      "\n",
      "Testing Oversampling=0.7, Undersampling=1.0\n",
      "Classification Report:\n",
      "Confusion Matrix:\n",
      "[[4307 1579]\n",
      " [  92   22]]\n",
      "\n",
      "Best Configuration:\n",
      "Oversampling Rate: 0.7\n",
      "Undersampling Rate: 1.0\n",
      "Best AUC: 0.4238\n",
      "Submission file created: 'submission_xgboost.csv'\n"
     ]
    },
    {
     "data": {
      "text/plain": [
       "[{'oversampling_rate': 0.5,\n",
       "  'undersampling_rate': 0.8,\n",
       "  'precision': 0.012492563950029744,\n",
       "  'recall': 0.18421052631578946,\n",
       "  'f1_score': 0.0233983286908078,\n",
       "  'auc': np.float64(0.408907398465583)},\n",
       " {'oversampling_rate': 0.5,\n",
       "  'undersampling_rate': 1.0,\n",
       "  'precision': 0.01357733175914994,\n",
       "  'recall': 0.20175438596491227,\n",
       "  'f1_score': 0.025442477876106196,\n",
       "  'auc': np.float64(0.41800719518810625)},\n",
       " {'oversampling_rate': 0.7,\n",
       "  'undersampling_rate': 0.8,\n",
       "  'precision': 0.014753046824887749,\n",
       "  'recall': 0.20175438596491227,\n",
       "  'f1_score': 0.02749551703526599,\n",
       "  'auc': np.float64(0.4136182496676622)},\n",
       " {'oversampling_rate': 0.7,\n",
       "  'undersampling_rate': 1.0,\n",
       "  'precision': 0.013741411617738912,\n",
       "  'recall': 0.19298245614035087,\n",
       "  'f1_score': 0.02565597667638484,\n",
       "  'auc': np.float64(0.4237552980310102)}]"
      ]
     },
     "execution_count": 6,
     "metadata": {},
     "output_type": "execute_result"
    }
   ],
   "source": [
    "\n",
    "xgb = XGBClassifier(n_estimators=500, max_depth=5, learning_rate=0.1, random_state=42)\n",
    "\n",
    "\n",
    "model_pipeline(xgb,\"submission_xgboost\")"
   ]
  },
  {
   "cell_type": "markdown",
   "metadata": {},
   "source": [
    "## Random Search - XGBOOST"
   ]
  },
  {
   "cell_type": "code",
   "execution_count": null,
   "metadata": {},
   "outputs": [
    {
     "name": "stdout",
     "output_type": "stream",
     "text": [
      "\n",
      "Testing Oversampling=0.5, Undersampling=0.8\n"
     ]
    },
    {
     "name": "stderr",
     "output_type": "stream",
     "text": [
      "/home/ricardo/Desktop/uni/mestrado/fraude/project/venv/lib/python3.12/site-packages/joblib/externals/loky/process_executor.py:752: UserWarning: A worker stopped while some jobs were given to the executor. This can be caused by a too short worker timeout or by a memory leak.\n",
      "  warnings.warn(\n"
     ]
    },
    {
     "name": "stdout",
     "output_type": "stream",
     "text": [
      "Best Parameters for this iteration: {'model__subsample': 0.6, 'model__reg_lambda': 10, 'model__reg_alpha': 0, 'model__n_estimators': 100, 'model__min_child_weight': 3, 'model__max_depth': 7, 'model__learning_rate': 0.01, 'model__colsample_bytree': 0.8}\n",
      "Classification Report:\n",
      "Confusion Matrix:\n",
      "[[5150  736]\n",
      " [ 105    9]]\n",
      "\n",
      "Testing Oversampling=0.5, Undersampling=1.0\n",
      "Best Parameters for this iteration: {'model__subsample': 0.6, 'model__reg_lambda': 10, 'model__reg_alpha': 0, 'model__n_estimators': 100, 'model__min_child_weight': 3, 'model__max_depth': 7, 'model__learning_rate': 0.01, 'model__colsample_bytree': 0.8}\n",
      "Classification Report:\n",
      "Confusion Matrix:\n",
      "[[5133  753]\n",
      " [ 105    9]]\n",
      "\n",
      "Testing Oversampling=0.7, Undersampling=0.8\n",
      "Best Parameters for this iteration: {'model__subsample': 0.6, 'model__reg_lambda': 10, 'model__reg_alpha': 0, 'model__n_estimators': 100, 'model__min_child_weight': 3, 'model__max_depth': 7, 'model__learning_rate': 0.01, 'model__colsample_bytree': 0.8}\n",
      "Classification Report:\n",
      "Confusion Matrix:\n",
      "[[5201  685]\n",
      " [ 105    9]]\n",
      "\n",
      "Testing Oversampling=0.7, Undersampling=1.0\n",
      "Best Parameters for this iteration: {'model__subsample': 0.6, 'model__reg_lambda': 10, 'model__reg_alpha': 0, 'model__n_estimators': 100, 'model__min_child_weight': 3, 'model__max_depth': 7, 'model__learning_rate': 0.01, 'model__colsample_bytree': 0.8}\n",
      "Classification Report:\n",
      "Confusion Matrix:\n",
      "[[4990  896]\n",
      " [ 105    9]]\n",
      "\n",
      "Best Configuration:\n",
      "Oversampling Rate: 0.5\n",
      "Undersampling Rate: 1.0\n",
      "Best AUC: 0.4266\n",
      "Submission file created: 'submission_random_search_xgboost.csv'\n"
     ]
    },
    {
     "data": {
      "text/plain": [
       "[{'oversampling_rate': 0.5,\n",
       "  'undersampling_rate': 0.8,\n",
       "  'precision': 0.012080536912751677,\n",
       "  'recall': 0.07894736842105263,\n",
       "  'f1_score': 0.020954598370197905,\n",
       "  'auc': np.float64(0.4217083653748711)},\n",
       " {'oversampling_rate': 0.5,\n",
       "  'undersampling_rate': 1.0,\n",
       "  'precision': 0.011811023622047244,\n",
       "  'recall': 0.07894736842105263,\n",
       "  'f1_score': 0.02054794520547945,\n",
       "  'auc': np.float64(0.42658613063409456)},\n",
       " {'oversampling_rate': 0.7,\n",
       "  'undersampling_rate': 0.8,\n",
       "  'precision': 0.012968299711815562,\n",
       "  'recall': 0.07894736842105263,\n",
       "  'f1_score': 0.022277227722772276,\n",
       "  'auc': np.float64(0.4223812376677338)},\n",
       " {'oversampling_rate': 0.7,\n",
       "  'undersampling_rate': 1.0,\n",
       "  'precision': 0.009944751381215469,\n",
       "  'recall': 0.07894736842105263,\n",
       "  'f1_score': 0.017664376840039256,\n",
       "  'auc': np.float64(0.4227784037054921)}]"
      ]
     },
     "execution_count": 7,
     "metadata": {},
     "output_type": "execute_result"
    }
   ],
   "source": [
    "xgb = XGBClassifier(n_estimators=500, max_depth=5, learning_rate=0.1, random_state=42)\n",
    "\n",
    "param_distributions = {\n",
    "        'model__n_estimators': [100, 200, 300, 500, 1000],\n",
    "        'model__learning_rate': [0.01, 0.05, 0.1, 0.2, 0.3],\n",
    "        'model__max_depth': [3, 5, 7, 10],\n",
    "        'model__subsample': [0.6, 0.8, 1.0],\n",
    "        'model__colsample_bytree': [0.6, 0.8, 1.0],\n",
    "        'model__reg_alpha': [0, 0.1, 1, 10],\n",
    "        'model__reg_lambda': [1, 10, 50],\n",
    "        'model__min_child_weight': [1, 3, 5, 7]\n",
    "    }\n",
    "\n",
    "\n",
    "model_pipeline(xgb,\"submission_random_search_xgboost\",True, param_distributions)"
   ]
  },
  {
   "cell_type": "markdown",
   "metadata": {},
   "source": [
    "## Decision Tree\n"
   ]
  },
  {
   "cell_type": "code",
   "execution_count": null,
   "metadata": {},
   "outputs": [
    {
     "name": "stdout",
     "output_type": "stream",
     "text": [
      "\n",
      "Testing Oversampling=0.5, Undersampling=0.8\n",
      "Best Parameters for this iteration: {'model__min_samples_split': 10, 'model__min_samples_leaf': 4, 'model__max_leaf_nodes': None, 'model__max_features': 7, 'model__max_depth': 10}\n",
      "Classification Report:\n",
      "Confusion Matrix:\n",
      "[[5282  604]\n",
      " [  97   17]]\n",
      "\n",
      "Testing Oversampling=0.5, Undersampling=1.0\n",
      "Best Parameters for this iteration: {'model__min_samples_split': 20, 'model__min_samples_leaf': 2, 'model__max_leaf_nodes': 50, 'model__max_features': 6, 'model__max_depth': 10}\n",
      "Classification Report:\n",
      "Confusion Matrix:\n",
      "[[3691 2195]\n",
      " [  60   54]]\n",
      "\n",
      "Testing Oversampling=0.7, Undersampling=0.8\n",
      "Best Parameters for this iteration: {'model__min_samples_split': 20, 'model__min_samples_leaf': 2, 'model__max_leaf_nodes': 50, 'model__max_features': 6, 'model__max_depth': 10}\n",
      "Classification Report:\n",
      "Confusion Matrix:\n",
      "[[4537 1349]\n",
      " [  85   29]]\n",
      "\n",
      "Testing Oversampling=0.7, Undersampling=1.0\n",
      "Best Parameters for this iteration: {'model__min_samples_split': 10, 'model__min_samples_leaf': 5, 'model__max_leaf_nodes': None, 'model__max_features': 1, 'model__max_depth': 20}\n",
      "Classification Report:\n",
      "Confusion Matrix:\n",
      "[[ 803 5083]\n",
      " [  19   95]]\n",
      "\n",
      "Best Configuration:\n",
      "Oversampling Rate: 0.5\n",
      "Undersampling Rate: 1.0\n",
      "Best AUC: 0.5333\n",
      "Submission file created: 'submission_decision_tree.csv'\n"
     ]
    },
    {
     "data": {
      "text/plain": [
       "[{'oversampling_rate': 0.5,\n",
       "  'undersampling_rate': 0.8,\n",
       "  'precision': 0.027375201288244767,\n",
       "  'recall': 0.14912280701754385,\n",
       "  'f1_score': 0.04625850340136054,\n",
       "  'auc': np.float64(0.5215647000614005)},\n",
       " {'oversampling_rate': 0.5,\n",
       "  'undersampling_rate': 1.0,\n",
       "  'precision': 0.02401067140951534,\n",
       "  'recall': 0.47368421052631576,\n",
       "  'f1_score': 0.045704612780363946,\n",
       "  'auc': np.float64(0.5332613516461898)},\n",
       " {'oversampling_rate': 0.7,\n",
       "  'undersampling_rate': 0.8,\n",
       "  'precision': 0.02104499274310595,\n",
       "  'recall': 0.2543859649122807,\n",
       "  'f1_score': 0.0388739946380697,\n",
       "  'auc': np.float64(0.4858979976274359)},\n",
       " {'oversampling_rate': 0.7,\n",
       "  'undersampling_rate': 1.0,\n",
       "  'precision': 0.018346852066434917,\n",
       "  'recall': 0.8333333333333334,\n",
       "  'f1_score': 0.035903250188964474,\n",
       "  'auc': np.float64(0.4907176410274753)}]"
      ]
     },
     "execution_count": 8,
     "metadata": {},
     "output_type": "execute_result"
    }
   ],
   "source": [
    "dt = DecisionTreeClassifier(random_state = 42)\n",
    "\n",
    "parameter_grid = {\n",
    "    'model__max_depth': [5, 10, 20, 30, 40, 50],\n",
    "    'model__min_samples_split': [2, 5, 10, 20],  \n",
    "    'model__min_samples_leaf': [1, 2, 4, 5],   \n",
    "    'model__max_leaf_nodes': [None, 10, 20, 50, 100],\n",
    "    'model__max_features': [1, 2, 3, 4, 5, 6, 7, 8,]\n",
    "}\n",
    "\n",
    "model_pipeline(dt,\"submission_decision_tree\",True, parameter_grid)"
   ]
  },
  {
   "cell_type": "markdown",
   "metadata": {},
   "source": [
    "## Neural Networks - Multi-Layer Perceptron (MLP)"
   ]
  },
  {
   "cell_type": "code",
   "execution_count": 9,
   "metadata": {},
   "outputs": [
    {
     "name": "stdout",
     "output_type": "stream",
     "text": [
      "\n",
      "Testing Oversampling=0.5, Undersampling=0.8\n",
      "Classification Report:\n",
      "Confusion Matrix:\n",
      "[[5886    0]\n",
      " [ 114    0]]\n",
      "\n",
      "Testing Oversampling=0.5, Undersampling=1.0\n"
     ]
    },
    {
     "name": "stderr",
     "output_type": "stream",
     "text": [
      "/home/ricardo/Desktop/uni/mestrado/fraude/project/venv/lib/python3.12/site-packages/sklearn/neural_network/_multilayer_perceptron.py:690: ConvergenceWarning: Stochastic Optimizer: Maximum iterations (300) reached and the optimization hasn't converged yet.\n",
      "  warnings.warn(\n"
     ]
    },
    {
     "name": "stdout",
     "output_type": "stream",
     "text": [
      "Classification Report:\n",
      "Confusion Matrix:\n",
      "[[5886    0]\n",
      " [ 114    0]]\n",
      "\n",
      "Testing Oversampling=0.7, Undersampling=0.8\n"
     ]
    },
    {
     "name": "stderr",
     "output_type": "stream",
     "text": [
      "/home/ricardo/Desktop/uni/mestrado/fraude/project/venv/lib/python3.12/site-packages/sklearn/neural_network/_multilayer_perceptron.py:690: ConvergenceWarning: Stochastic Optimizer: Maximum iterations (300) reached and the optimization hasn't converged yet.\n",
      "  warnings.warn(\n"
     ]
    },
    {
     "name": "stdout",
     "output_type": "stream",
     "text": [
      "Classification Report:\n",
      "Confusion Matrix:\n",
      "[[5886    0]\n",
      " [ 114    0]]\n",
      "\n",
      "Testing Oversampling=0.7, Undersampling=1.0\n",
      "Classification Report:\n",
      "Confusion Matrix:\n",
      "[[5886    0]\n",
      " [ 114    0]]\n",
      "\n",
      "Best Configuration:\n",
      "Oversampling Rate: 0.5\n",
      "Undersampling Rate: 0.8\n",
      "Best AUC: 0.5000\n",
      "Submission file created: 'submission_mlp.csv'\n"
     ]
    },
    {
     "name": "stderr",
     "output_type": "stream",
     "text": [
      "/home/ricardo/Desktop/uni/mestrado/fraude/project/venv/lib/python3.12/site-packages/sklearn/neural_network/_multilayer_perceptron.py:690: ConvergenceWarning: Stochastic Optimizer: Maximum iterations (300) reached and the optimization hasn't converged yet.\n",
      "  warnings.warn(\n"
     ]
    },
    {
     "data": {
      "text/plain": [
       "[{'oversampling_rate': 0.5,\n",
       "  'undersampling_rate': 0.8,\n",
       "  'precision': 0.0,\n",
       "  'recall': 0.0,\n",
       "  'f1_score': 0.0,\n",
       "  'auc': np.float64(0.5)},\n",
       " {'oversampling_rate': 0.5,\n",
       "  'undersampling_rate': 1.0,\n",
       "  'precision': 0.0,\n",
       "  'recall': 0.0,\n",
       "  'f1_score': 0.0,\n",
       "  'auc': np.float64(0.5)},\n",
       " {'oversampling_rate': 0.7,\n",
       "  'undersampling_rate': 0.8,\n",
       "  'precision': 0.0,\n",
       "  'recall': 0.0,\n",
       "  'f1_score': 0.0,\n",
       "  'auc': np.float64(0.5)},\n",
       " {'oversampling_rate': 0.7,\n",
       "  'undersampling_rate': 1.0,\n",
       "  'precision': 0.0,\n",
       "  'recall': 0.0,\n",
       "  'f1_score': 0.0,\n",
       "  'auc': np.float64(0.5)}]"
      ]
     },
     "execution_count": 9,
     "metadata": {},
     "output_type": "execute_result"
    }
   ],
   "source": [
    "\n",
    "mlp = MLPClassifier(max_iter=300, random_state=42)\n",
    "\n",
    "\n",
    "\n",
    "model_pipeline(mlp,\"submission_mlp\")"
   ]
  },
  {
   "cell_type": "markdown",
   "metadata": {},
   "source": [
    "## Random Search - Neural Networks (MLP)"
   ]
  },
  {
   "cell_type": "code",
   "execution_count": 8,
   "metadata": {},
   "outputs": [
    {
     "name": "stdout",
     "output_type": "stream",
     "text": [
      "\n",
      "Testing Oversampling=0.5, Undersampling=0.8\n",
      "Best Parameters for this iteration: {'model__solver': 'sgd', 'model__max_iter': 300, 'model__learning_rate': 'constant', 'model__hidden_layer_sizes': (100, 50), 'model__alpha': 0.0001, 'model__activation': 'tanh'}\n",
      "Classification Report:\n",
      "Confusion Matrix:\n",
      "[[5886    0]\n",
      " [ 114    0]]\n",
      "\n",
      "Testing Oversampling=0.5, Undersampling=1.0\n",
      "Best Parameters for this iteration: {'model__solver': 'adam', 'model__max_iter': 1000, 'model__learning_rate': 'adaptive', 'model__hidden_layer_sizes': (50,), 'model__alpha': 0.0001, 'model__activation': 'tanh'}\n",
      "Classification Report:\n",
      "Confusion Matrix:\n",
      "[[5886    0]\n",
      " [ 114    0]]\n",
      "\n",
      "Testing Oversampling=0.7, Undersampling=0.8\n",
      "Best Parameters for this iteration: {'model__solver': 'sgd', 'model__max_iter': 300, 'model__learning_rate': 'constant', 'model__hidden_layer_sizes': (100, 50), 'model__alpha': 0.0001, 'model__activation': 'tanh'}\n",
      "Classification Report:\n",
      "Confusion Matrix:\n",
      "[[5886    0]\n",
      " [ 114    0]]\n",
      "\n",
      "Testing Oversampling=0.7, Undersampling=1.0\n",
      "Best Parameters for this iteration: {'model__solver': 'sgd', 'model__max_iter': 300, 'model__learning_rate': 'constant', 'model__hidden_layer_sizes': (100, 50), 'model__alpha': 0.0001, 'model__activation': 'tanh'}\n",
      "Classification Report:\n",
      "Confusion Matrix:\n",
      "[[5886    0]\n",
      " [ 114    0]]\n",
      "\n",
      "Best Configuration:\n",
      "Oversampling Rate: 0.5\n",
      "Undersampling Rate: 0.8\n",
      "Best AUC: 0.5000\n",
      "Submission file created: 'submission_random_search_mlp.csv'\n"
     ]
    },
    {
     "data": {
      "text/plain": [
       "[{'oversampling_rate': 0.5,\n",
       "  'undersampling_rate': 0.8,\n",
       "  'precision': 0.0,\n",
       "  'recall': 0.0,\n",
       "  'f1_score': 0.0,\n",
       "  'auc': np.float64(0.5)},\n",
       " {'oversampling_rate': 0.5,\n",
       "  'undersampling_rate': 1.0,\n",
       "  'precision': 0.0,\n",
       "  'recall': 0.0,\n",
       "  'f1_score': 0.0,\n",
       "  'auc': np.float64(0.5)},\n",
       " {'oversampling_rate': 0.7,\n",
       "  'undersampling_rate': 0.8,\n",
       "  'precision': 0.0,\n",
       "  'recall': 0.0,\n",
       "  'f1_score': 0.0,\n",
       "  'auc': np.float64(0.5)},\n",
       " {'oversampling_rate': 0.7,\n",
       "  'undersampling_rate': 1.0,\n",
       "  'precision': 0.0,\n",
       "  'recall': 0.0,\n",
       "  'f1_score': 0.0,\n",
       "  'auc': np.float64(0.5)}]"
      ]
     },
     "execution_count": 8,
     "metadata": {},
     "output_type": "execute_result"
    }
   ],
   "source": [
    "\n",
    "mlp = MLPClassifier( max_iter=300, random_state=42,early_stopping=True)\n",
    "\n",
    "\n",
    "parameter_grid = {\n",
    "    'model__hidden_layer_sizes': [(50,), (100,), (100, 50)],\n",
    "    'model__activation': ['relu', 'tanh'],\n",
    "    'model__solver': ['adam', 'sgd'],\n",
    "    'model__alpha': [0.0001, 0.001],\n",
    "    'model__learning_rate': ['constant', 'adaptive'],\n",
    "    'model__max_iter': [300, 500, 1000]\n",
    "}\n",
    "\n",
    "model_pipeline(mlp,\"submission_random_search_mlp\",True,parameter_grid)"
   ]
  },
  {
   "cell_type": "markdown",
   "metadata": {},
   "source": [
    "## Support Vector Machine (SVM)"
   ]
  },
  {
   "cell_type": "code",
   "execution_count": null,
   "metadata": {},
   "outputs": [
    {
     "name": "stdout",
     "output_type": "stream",
     "text": [
      "\n",
      "Testing Oversampling=0.5, Undersampling=0.8\n",
      "Classification Report:\n",
      "Confusion Matrix:\n",
      "[[   0 5886]\n",
      " [   0  114]]\n",
      "\n",
      "Testing Oversampling=0.5, Undersampling=1.0\n",
      "Classification Report:\n",
      "Confusion Matrix:\n",
      "[[   0 5886]\n",
      " [   0  114]]\n",
      "\n",
      "Testing Oversampling=0.7, Undersampling=0.8\n",
      "Classification Report:\n",
      "Confusion Matrix:\n",
      "[[   0 5886]\n",
      " [   0  114]]\n",
      "\n",
      "Testing Oversampling=0.7, Undersampling=1.0\n",
      "Classification Report:\n",
      "Confusion Matrix:\n",
      "[[   0 5886]\n",
      " [   0  114]]\n",
      "\n",
      "Best Configuration:\n",
      "Oversampling Rate: 0.5\n",
      "Undersampling Rate: 0.8\n",
      "Best AUC: 0.5000\n",
      "Submission file created: 'submission_svm.csv'\n"
     ]
    },
    {
     "data": {
      "text/plain": [
       "[{'oversampling_rate': 0.5,\n",
       "  'undersampling_rate': 0.8,\n",
       "  'precision': 0.019,\n",
       "  'recall': 1.0,\n",
       "  'f1_score': 0.03729146221786065,\n",
       "  'auc': np.float64(0.5)},\n",
       " {'oversampling_rate': 0.5,\n",
       "  'undersampling_rate': 1.0,\n",
       "  'precision': 0.019,\n",
       "  'recall': 1.0,\n",
       "  'f1_score': 0.03729146221786065,\n",
       "  'auc': np.float64(0.5)},\n",
       " {'oversampling_rate': 0.7,\n",
       "  'undersampling_rate': 0.8,\n",
       "  'precision': 0.019,\n",
       "  'recall': 1.0,\n",
       "  'f1_score': 0.03729146221786065,\n",
       "  'auc': np.float64(0.5)},\n",
       " {'oversampling_rate': 0.7,\n",
       "  'undersampling_rate': 1.0,\n",
       "  'precision': 0.019,\n",
       "  'recall': 1.0,\n",
       "  'f1_score': 0.03729146221786065,\n",
       "  'auc': np.float64(0.5)}]"
      ]
     },
     "execution_count": 7,
     "metadata": {},
     "output_type": "execute_result"
    }
   ],
   "source": [
    "svm = SVC(kernel='rbf', probability=True, random_state=42)\n",
    "\n",
    "\n",
    "model_pipeline(svm,\"submission_svm\")"
   ]
  },
  {
   "cell_type": "markdown",
   "metadata": {},
   "source": [
    "# Conclusion \n"
   ]
  },
  {
   "cell_type": "markdown",
   "metadata": {},
   "source": [
    "After analyzing and experimenting with various models, the `Decision Tree` appeared to perform the best in the current setup, even though the overall score was not particularly high. \n",
    "\n",
    "I made an effort to follow the appropriate steps required for success if the dataset were real, and the process provided valuable insights into model development. While the `Decision Tree` outperformed the other tested algorithms, its performance was still relatively modest. `Decision Trees` are known for capturing complex relationships within data, which made them a suitable choice for this experiment. I aimed to adhere to best practices, including data preprocessing, feature selection, and hyperparameter tuning, and applied methods that are scalable to real-world datasets. \n",
    "\n",
    "Although the final results were not exceptional, this exercise was a meaningful attempt to systematically develop and evaluate models. With a real-world dataset, this approach could potentially lead to more promising outcomes."
   ]
  }
 ],
 "metadata": {
  "kernelspec": {
   "display_name": "venv",
   "language": "python",
   "name": "python3"
  },
  "language_info": {
   "codemirror_mode": {
    "name": "ipython",
    "version": 3
   },
   "file_extension": ".py",
   "mimetype": "text/x-python",
   "name": "python",
   "nbconvert_exporter": "python",
   "pygments_lexer": "ipython3",
   "version": "3.12.3"
  }
 },
 "nbformat": 4,
 "nbformat_minor": 2
}
