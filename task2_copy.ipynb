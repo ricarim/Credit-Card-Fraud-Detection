{
 "cells": [
  {
   "cell_type": "markdown",
   "metadata": {},
   "source": [
    "# Credit Card Fraud Detection"
   ]
  },
  {
   "cell_type": "markdown",
   "metadata": {},
   "source": [
    "# Task 2: Predictive Modelling"
   ]
  },
  {
   "cell_type": "markdown",
   "metadata": {},
   "source": [
    "## Required libraries "
   ]
  },
  {
   "cell_type": "code",
   "execution_count": 2,
   "metadata": {},
   "outputs": [],
   "source": [
    "import matplotlib.pyplot as plt\n",
    "import pandas as pd\n",
    "import seaborn as sns\n",
    "import numpy as np\n",
    "import cartopy.crs as ccrs\n",
    "import cartopy.feature as cfeature\n",
    "from adjustText import adjust_text\n",
    "from geopy.distance import geodesic\n",
    "from sklearn.preprocessing import StandardScaler\n",
    "from imblearn.under_sampling import RandomUnderSampler\n",
    "from imblearn.pipeline import Pipeline\n",
    "from collections import Counter\n",
    "from imblearn.over_sampling import SMOTE\n",
    "from sklearn.model_selection import train_test_split\n",
    "from sklearn.cluster import DBSCAN\n",
    "from sklearn.preprocessing import StandardScaler\n",
    "from sklearn.cluster import KMeans\n",
    "from sklearn.ensemble import RandomForestClassifier\n",
    "from sklearn.model_selection import GridSearchCV\n",
    "from sklearn.model_selection import RandomizedSearchCV\n",
    "from sklearn.metrics import roc_auc_score, roc_curve\n",
    "from sklearn.metrics import f1_score\n",
    "from sklearn.metrics import confusion_matrix, classification_report\n",
    "from xgboost import XGBClassifier\n",
    "import pickle\n",
    "import os\n",
    "from sklearn.impute import KNNImputer\n",
    "from sklearn.preprocessing import LabelEncoder\n",
    "from sklearn.neighbors import KNeighborsClassifier\n",
    "from sklearn.svm import SVC\n",
    "from sklearn.neural_network import MLPClassifier\n",
    "from sklearn.tree import DecisionTreeClassifier"
   ]
  },
  {
   "cell_type": "markdown",
   "metadata": {},
   "source": [
    "##"
   ]
  },
  {
   "cell_type": "markdown",
   "metadata": {},
   "source": [
    "## Load training and test dataset "
   ]
  },
  {
   "cell_type": "code",
   "execution_count": 3,
   "metadata": {},
   "outputs": [],
   "source": [
    "with open(\"variables/X_train.pkl\", \"rb\") as f:\n",
    "    X_train = pickle.load(f)\n",
    "\n",
    "with open(\"variables/y_train.pkl\", \"rb\") as f:\n",
    "    y_train = pickle.load(f)\n",
    "\n",
    "with open(\"variables/X_test.pkl\", \"rb\") as f:\n",
    "    X_test = pickle.load(f)\n",
    "\n",
    "with open(\"variables/y_test.pkl\", \"rb\") as f:\n",
    "    y_test = pickle.load(f)\n",
    "\n",
    "with open(\"variables/kaggle_data.pkl\", \"rb\") as f:\n",
    "    kaggle_data = pickle.load(f)\n",
    "\n",
    "with open(\"variables/index_mapping.pkl\", \"rb\") as f:\n",
    "    index_mapping = pickle.load(f)"
   ]
  },
  {
   "cell_type": "markdown",
   "metadata": {},
   "source": [
    "## Class Imbalance - SMOTE and model pipeline"
   ]
  },
  {
   "cell_type": "code",
   "execution_count": 5,
   "metadata": {},
   "outputs": [],
   "source": [
    "oversampling_rates = [0.5,0.6,0.7]  # Fraction of majority class\n",
    "undersampling_rates = [0.8,0.9] # Fraction of total dataset for the majority class\n",
    "\n",
    "\n",
    "\n",
    "def model_pipeline(model, submission_file, use_random_search=False, param_grid=None, n_iter=10):\n",
    "    results = []\n",
    "    best_model = None\n",
    "    best_auc = 0 \n",
    "    best_config = None \n",
    "\n",
    "    for oversampling_rate in oversampling_rates:\n",
    "        for undersampling_rate in undersampling_rates:\n",
    "            print(f\"\\nTesting Oversampling={oversampling_rate}, Undersampling={undersampling_rate}\")\n",
    "            \n",
    "            # Define SMOTE and undersampler\n",
    "            smote = SMOTE(sampling_strategy=oversampling_rate, random_state=42)\n",
    "            undersampler = RandomUnderSampler(sampling_strategy=undersampling_rate, random_state=42)\n",
    "            \n",
    "            # Create pipeline\n",
    "            pipeline = Pipeline(steps=[\n",
    "                ('smote', smote),\n",
    "                ('undersampler', undersampler),\n",
    "                ('model', model)\n",
    "            ])\n",
    "            \n",
    "            if use_random_search:\n",
    "                search = RandomizedSearchCV(\n",
    "                    estimator=pipeline,\n",
    "                    param_distributions=param_grid,  # Prefix for model params\n",
    "                    n_iter=n_iter,\n",
    "                    scoring='roc_auc',\n",
    "                    cv=5,\n",
    "                    n_jobs=-1,\n",
    "                    random_state=42 \n",
    "                )\n",
    "                # Train with hyperparameter tuning\n",
    "                search.fit(X_train, y_train)\n",
    "                best_pipeline = search.best_estimator_\n",
    "                best_params = search.best_params_\n",
    "                print(f\"Best Parameters for this iteration: {best_params}\")\n",
    "            else:\n",
    "                # Train pipeline without hyperparameter search\n",
    "                pipeline.fit(X_train, y_train)\n",
    "                best_pipeline = pipeline\n",
    "                best_params = \"Default parameters\"\n",
    "\n",
    "\n",
    "            \n",
    "            # Predict on the test set\n",
    "            y_pred = best_pipeline.predict(X_test)\n",
    "            y_pred_proba = best_pipeline.predict_proba(X_test)[:, 1]  # Get probabilities for AUC\n",
    "\n",
    "            \n",
    "            # Evaluate model\n",
    "            print(\"Classification Report:\")\n",
    "            report = classification_report(y_test, y_pred, output_dict=True, zero_division=0)\n",
    "            \n",
    "            \n",
    "            # Confusion matrix\n",
    "            print(\"Confusion Matrix:\")\n",
    "            print(confusion_matrix(y_test, y_pred))\n",
    "            \n",
    "            # Calculate AUC\n",
    "            auc_score = roc_auc_score(y_test, y_pred_proba)\n",
    "           \n",
    "\n",
    "            # Store results\n",
    "            results.append({\n",
    "                'oversampling_rate': oversampling_rate,\n",
    "                'undersampling_rate': undersampling_rate,\n",
    "                'precision': report['1']['precision'],\n",
    "                'recall': report['1']['recall'],\n",
    "                'f1_score': report['1']['f1-score'],\n",
    "                'auc': auc_score\n",
    "            })\n",
    "\n",
    "            # Check if current model is the best\n",
    "            if auc_score > best_auc:\n",
    "                best_auc = auc_score\n",
    "                best_model = best_pipeline\n",
    "                best_config = {\n",
    "                    'oversampling_rate': oversampling_rate,\n",
    "                    'undersampling_rate': undersampling_rate\n",
    "                }\n",
    "\n",
    "    # Print best configuration\n",
    "    print(\"\\nBest Configuration:\")\n",
    "    print(f\"Oversampling Rate: {best_config['oversampling_rate']}\")\n",
    "    print(f\"Undersampling Rate: {best_config['undersampling_rate']}\")\n",
    "    print(f\"Best AUC: {best_auc:.4f}\")\n",
    "\n",
    "    # Predict probabilities for Kaggle submission\n",
    "    test_probs = best_model.predict_proba(kaggle_data)[:, 1]  # Probabilities for class 1 (fraud)\n",
    "\n",
    "    # Create submission DataFrame\n",
    "    submission = pd.DataFrame({\n",
    "        'index': index_mapping,\n",
    "        'is_fraud': test_probs\n",
    "    })\n",
    "\n",
    "    # Save to CSV\n",
    "    submission_file_name = f\"{submission_file}.csv\"\n",
    "    submission.to_csv(f\"submission/{submission_file_name}\", index=False)\n",
    "    print(f\"Submission file created: '{submission_file_name}'\")\n",
    "    \n",
    "    return results"
   ]
  },
  {
   "cell_type": "markdown",
   "metadata": {},
   "source": [
    "## Random Forest Classifier"
   ]
  },
  {
   "cell_type": "code",
   "execution_count": 40,
   "metadata": {},
   "outputs": [
    {
     "name": "stdout",
     "output_type": "stream",
     "text": [
      "\n",
      "Testing Oversampling=0.5, Undersampling=0.8\n",
      "Classification Report:\n",
      "Confusion Matrix:\n",
      "[[5854   32]\n",
      " [ 114    0]]\n",
      "\n",
      "Testing Oversampling=0.5, Undersampling=0.9\n",
      "Classification Report:\n",
      "Confusion Matrix:\n",
      "[[5874   12]\n",
      " [ 114    0]]\n",
      "\n",
      "Testing Oversampling=0.6, Undersampling=0.8\n",
      "Classification Report:\n",
      "Confusion Matrix:\n",
      "[[5875   11]\n",
      " [ 114    0]]\n",
      "\n",
      "Testing Oversampling=0.6, Undersampling=0.9\n",
      "Classification Report:\n",
      "Confusion Matrix:\n",
      "[[5870   16]\n",
      " [ 114    0]]\n",
      "\n",
      "Testing Oversampling=0.7, Undersampling=0.8\n",
      "Classification Report:\n",
      "Confusion Matrix:\n",
      "[[5877    9]\n",
      " [ 114    0]]\n",
      "\n",
      "Testing Oversampling=0.7, Undersampling=0.9\n",
      "Classification Report:\n",
      "Confusion Matrix:\n",
      "[[5873   13]\n",
      " [ 114    0]]\n",
      "\n",
      "Best Configuration:\n",
      "Oversampling Rate: 0.5\n",
      "Undersampling Rate: 0.9\n",
      "Best AUC: 0.4676\n",
      "Submission file created: 'submission_random_forest.csv'\n"
     ]
    },
    {
     "data": {
      "text/plain": [
       "[{'oversampling_rate': 0.5,\n",
       "  'undersampling_rate': 0.8,\n",
       "  'precision': 0.0,\n",
       "  'recall': 0.0,\n",
       "  'f1_score': 0.0,\n",
       "  'auc': np.float64(0.4527215933138997)},\n",
       " {'oversampling_rate': 0.5,\n",
       "  'undersampling_rate': 0.9,\n",
       "  'precision': 0.0,\n",
       "  'recall': 0.0,\n",
       "  'f1_score': 0.0,\n",
       "  'auc': np.float64(0.4675642768150413)},\n",
       " {'oversampling_rate': 0.6,\n",
       "  'undersampling_rate': 0.8,\n",
       "  'precision': 0.0,\n",
       "  'recall': 0.0,\n",
       "  'f1_score': 0.0,\n",
       "  'auc': np.float64(0.42593114199021165)},\n",
       " {'oversampling_rate': 0.6,\n",
       "  'undersampling_rate': 0.9,\n",
       "  'precision': 0.0,\n",
       "  'recall': 0.0,\n",
       "  'f1_score': 0.0,\n",
       "  'auc': np.float64(0.4334206651525177)},\n",
       " {'oversampling_rate': 0.7,\n",
       "  'undersampling_rate': 0.8,\n",
       "  'precision': 0.0,\n",
       "  'recall': 0.0,\n",
       "  'f1_score': 0.0,\n",
       "  'auc': np.float64(0.42143042366364436)},\n",
       " {'oversampling_rate': 0.7,\n",
       "  'undersampling_rate': 0.9,\n",
       "  'precision': 0.0,\n",
       "  'recall': 0.0,\n",
       "  'f1_score': 0.0,\n",
       "  'auc': np.float64(0.45924241882313666)}]"
      ]
     },
     "execution_count": 40,
     "metadata": {},
     "output_type": "execute_result"
    }
   ],
   "source": [
    "# Train a Random Forest Classifier\n",
    "rf = RandomForestClassifier(random_state=42)\n",
    "\n",
    "model_pipeline(rf,\"submission_random_forest\")"
   ]
  },
  {
   "cell_type": "markdown",
   "metadata": {},
   "source": [
    "## Random Search - Random Forest Classifier"
   ]
  },
  {
   "cell_type": "code",
   "execution_count": 41,
   "metadata": {},
   "outputs": [
    {
     "name": "stdout",
     "output_type": "stream",
     "text": [
      "\n",
      "Testing Oversampling=0.5, Undersampling=0.8\n"
     ]
    },
    {
     "name": "stdout",
     "output_type": "stream",
     "text": [
      "Best Parameters for this iteration: {'model__n_estimators': 100, 'model__min_samples_split': 5, 'model__min_samples_leaf': 4, 'model__max_depth': 10}\n",
      "Classification Report:\n",
      "Confusion Matrix:\n",
      "[[5806   80]\n",
      " [ 113    1]]\n",
      "\n",
      "Testing Oversampling=0.5, Undersampling=0.9\n",
      "Best Parameters for this iteration: {'model__n_estimators': 100, 'model__min_samples_split': 5, 'model__min_samples_leaf': 4, 'model__max_depth': 10}\n",
      "Classification Report:\n",
      "Confusion Matrix:\n",
      "[[5808   78]\n",
      " [ 114    0]]\n",
      "\n",
      "Testing Oversampling=0.6, Undersampling=0.8\n",
      "Best Parameters for this iteration: {'model__n_estimators': 100, 'model__min_samples_split': 5, 'model__min_samples_leaf': 4, 'model__max_depth': 10}\n",
      "Classification Report:\n",
      "Confusion Matrix:\n",
      "[[5868   18]\n",
      " [ 114    0]]\n",
      "\n",
      "Testing Oversampling=0.6, Undersampling=0.9\n",
      "Best Parameters for this iteration: {'model__n_estimators': 100, 'model__min_samples_split': 5, 'model__min_samples_leaf': 4, 'model__max_depth': 10}\n",
      "Classification Report:\n",
      "Confusion Matrix:\n",
      "[[5786  100]\n",
      " [ 114    0]]\n",
      "\n",
      "Testing Oversampling=0.7, Undersampling=0.8\n",
      "Best Parameters for this iteration: {'model__n_estimators': 100, 'model__min_samples_split': 5, 'model__min_samples_leaf': 4, 'model__max_depth': 10}\n",
      "Classification Report:\n",
      "Confusion Matrix:\n",
      "[[5814   72]\n",
      " [ 114    0]]\n",
      "\n",
      "Testing Oversampling=0.7, Undersampling=0.9\n",
      "Best Parameters for this iteration: {'model__n_estimators': 100, 'model__min_samples_split': 5, 'model__min_samples_leaf': 4, 'model__max_depth': 10}\n",
      "Classification Report:\n",
      "Confusion Matrix:\n",
      "[[5759  127]\n",
      " [ 112    2]]\n",
      "\n",
      "Best Configuration:\n",
      "Oversampling Rate: 0.7\n",
      "Undersampling Rate: 0.9\n",
      "Best AUC: 0.4548\n",
      "Submission file created: 'submission_random_search_random_forest.csv'\n"
     ]
    },
    {
     "data": {
      "text/plain": [
       "[{'oversampling_rate': 0.5,\n",
       "  'undersampling_rate': 0.8,\n",
       "  'precision': 0.012345679012345678,\n",
       "  'recall': 0.008771929824561403,\n",
       "  'f1_score': 0.010256410256410256,\n",
       "  'auc': np.float64(0.4405584765515556)},\n",
       " {'oversampling_rate': 0.5,\n",
       "  'undersampling_rate': 0.9,\n",
       "  'precision': 0.0,\n",
       "  'recall': 0.0,\n",
       "  'f1_score': 0.0,\n",
       "  'auc': np.float64(0.44447499567811816)},\n",
       " {'oversampling_rate': 0.6,\n",
       "  'undersampling_rate': 0.8,\n",
       "  'precision': 0.0,\n",
       "  'recall': 0.0,\n",
       "  'f1_score': 0.0,\n",
       "  'auc': np.float64(0.4421985561934057)},\n",
       " {'oversampling_rate': 0.6,\n",
       "  'undersampling_rate': 0.9,\n",
       "  'precision': 0.0,\n",
       "  'recall': 0.0,\n",
       "  'f1_score': 0.0,\n",
       "  'auc': np.float64(0.4528899976751256)},\n",
       " {'oversampling_rate': 0.7,\n",
       "  'undersampling_rate': 0.8,\n",
       "  'precision': 0.0,\n",
       "  'recall': 0.0,\n",
       "  'f1_score': 0.0,\n",
       "  'auc': np.float64(0.4532551221751286)},\n",
       " {'oversampling_rate': 0.7,\n",
       "  'undersampling_rate': 0.9,\n",
       "  'precision': 0.015503875968992248,\n",
       "  'recall': 0.017543859649122806,\n",
       "  'f1_score': 0.01646090534979424,\n",
       "  'auc': np.float64(0.45480801902820245)}]"
      ]
     },
     "execution_count": 41,
     "metadata": {},
     "output_type": "execute_result"
    }
   ],
   "source": [
    "\n",
    "rf = RandomForestClassifier(random_state=42)\n",
    "\n",
    "param_distributions = {\n",
    "        'model__n_estimators': [100, 200, 500,1000],      \n",
    "        'model__max_depth': [None, 10, 20, 30],     \n",
    "        'model__min_samples_split': [2, 5, 10],         \n",
    "        'model__min_samples_leaf': [1, 2, 4, 5],                           \n",
    "    }\n",
    "\n",
    "model_pipeline(rf,\"submission_random_search_random_forest\",True,param_distributions)\n",
    "\n"
   ]
  },
  {
   "cell_type": "markdown",
   "metadata": {},
   "source": [
    "**Score on Kaggle:** 0.52296"
   ]
  },
  {
   "cell_type": "markdown",
   "metadata": {},
   "source": [
    "## XGBOOST"
   ]
  },
  {
   "cell_type": "code",
   "execution_count": 42,
   "metadata": {},
   "outputs": [
    {
     "name": "stdout",
     "output_type": "stream",
     "text": [
      "\n",
      "Testing Oversampling=0.5, Undersampling=0.8\n",
      "Classification Report:\n",
      "Confusion Matrix:\n",
      "[[4479 1407]\n",
      " [  95   19]]\n",
      "\n",
      "Testing Oversampling=0.5, Undersampling=0.9\n",
      "Classification Report:\n",
      "Confusion Matrix:\n",
      "[[4418 1468]\n",
      " [  94   20]]\n",
      "\n",
      "Testing Oversampling=0.6, Undersampling=0.8\n",
      "Classification Report:\n",
      "Confusion Matrix:\n",
      "[[4739 1147]\n",
      " [  96   18]]\n",
      "\n",
      "Testing Oversampling=0.6, Undersampling=0.9\n",
      "Classification Report:\n",
      "Confusion Matrix:\n",
      "[[4543 1343]\n",
      " [  96   18]]\n",
      "\n",
      "Testing Oversampling=0.7, Undersampling=0.8\n",
      "Classification Report:\n",
      "Confusion Matrix:\n",
      "[[4480 1406]\n",
      " [  94   20]]\n",
      "\n",
      "Testing Oversampling=0.7, Undersampling=0.9\n",
      "Classification Report:\n",
      "Confusion Matrix:\n",
      "[[4469 1417]\n",
      " [  94   20]]\n",
      "\n",
      "Best Configuration:\n",
      "Oversampling Rate: 0.6\n",
      "Undersampling Rate: 0.9\n",
      "Best AUC: 0.4426\n",
      "Submission file created: 'submission_xgboost.csv'\n"
     ]
    },
    {
     "data": {
      "text/plain": [
       "[{'oversampling_rate': 0.5,\n",
       "  'undersampling_rate': 0.8,\n",
       "  'precision': 0.01332398316970547,\n",
       "  'recall': 0.16666666666666666,\n",
       "  'f1_score': 0.024675324675324677,\n",
       "  'auc': np.float64(0.4379914277709224)},\n",
       " {'oversampling_rate': 0.5,\n",
       "  'undersampling_rate': 0.9,\n",
       "  'precision': 0.013440860215053764,\n",
       "  'recall': 0.17543859649122806,\n",
       "  'f1_score': 0.024968789013732832,\n",
       "  'auc': np.float64(0.43144899285250166)},\n",
       " {'oversampling_rate': 0.6,\n",
       "  'undersampling_rate': 0.8,\n",
       "  'precision': 0.015450643776824034,\n",
       "  'recall': 0.15789473684210525,\n",
       "  'f1_score': 0.028146989835809225,\n",
       "  'auc': np.float64(0.4331725295229239)},\n",
       " {'oversampling_rate': 0.6,\n",
       "  'undersampling_rate': 0.9,\n",
       "  'precision': 0.01322556943423953,\n",
       "  'recall': 0.15789473684210525,\n",
       "  'f1_score': 0.02440677966101695,\n",
       "  'auc': np.float64(0.4426158413362663)},\n",
       " {'oversampling_rate': 0.7,\n",
       "  'undersampling_rate': 0.8,\n",
       "  'precision': 0.014025245441795231,\n",
       "  'recall': 0.17543859649122806,\n",
       "  'f1_score': 0.025974025974025976,\n",
       "  'auc': np.float64(0.42889684711268483)},\n",
       " {'oversampling_rate': 0.7,\n",
       "  'undersampling_rate': 0.9,\n",
       "  'precision': 0.013917884481558803,\n",
       "  'recall': 0.17543859649122806,\n",
       "  'f1_score': 0.025789813023855575,\n",
       "  'auc': np.float64(0.4332403383586386)}]"
      ]
     },
     "execution_count": 42,
     "metadata": {},
     "output_type": "execute_result"
    }
   ],
   "source": [
    "\n",
    "xgb = XGBClassifier(n_estimators=500, max_depth=5, learning_rate=0.1, random_state=42)\n",
    "\n",
    "\n",
    "model_pipeline(xgb,\"submission_xgboost\")"
   ]
  },
  {
   "cell_type": "markdown",
   "metadata": {},
   "source": [
    "**Score on Kaggle:** "
   ]
  },
  {
   "cell_type": "markdown",
   "metadata": {},
   "source": [
    "## Random Search - XGBOOST"
   ]
  },
  {
   "cell_type": "code",
   "execution_count": 43,
   "metadata": {},
   "outputs": [
    {
     "name": "stdout",
     "output_type": "stream",
     "text": [
      "\n",
      "Testing Oversampling=0.5, Undersampling=0.8\n"
     ]
    },
    {
     "name": "stderr",
     "output_type": "stream",
     "text": [
      "/home/ricardo/Desktop/uni/mestrado/fraude/project/venv/lib/python3.12/site-packages/joblib/externals/loky/process_executor.py:752: UserWarning: A worker stopped while some jobs were given to the executor. This can be caused by a too short worker timeout or by a memory leak.\n",
      "  warnings.warn(\n"
     ]
    },
    {
     "name": "stdout",
     "output_type": "stream",
     "text": [
      "Best Parameters for this iteration: {'model__subsample': 1.0, 'model__reg_lambda': 1, 'model__reg_alpha': 0, 'model__n_estimators': 500, 'model__min_child_weight': 3, 'model__max_depth': 10, 'model__learning_rate': 0.01, 'model__colsample_bytree': 0.8}\n",
      "Classification Report:\n",
      "Confusion Matrix:\n",
      "[[4178 1708]\n",
      " [  89   25]]\n",
      "\n",
      "Testing Oversampling=0.5, Undersampling=0.9\n",
      "Best Parameters for this iteration: {'model__subsample': 1.0, 'model__reg_lambda': 1, 'model__reg_alpha': 0, 'model__n_estimators': 500, 'model__min_child_weight': 3, 'model__max_depth': 10, 'model__learning_rate': 0.01, 'model__colsample_bytree': 0.8}\n",
      "Classification Report:\n",
      "Confusion Matrix:\n",
      "[[4539 1347]\n",
      " [  97   17]]\n",
      "\n",
      "Testing Oversampling=0.6, Undersampling=0.8\n",
      "Best Parameters for this iteration: {'model__subsample': 1.0, 'model__reg_lambda': 1, 'model__reg_alpha': 0, 'model__n_estimators': 500, 'model__min_child_weight': 3, 'model__max_depth': 10, 'model__learning_rate': 0.01, 'model__colsample_bytree': 0.8}\n",
      "Classification Report:\n",
      "Confusion Matrix:\n",
      "[[4229 1657]\n",
      " [  89   25]]\n",
      "\n",
      "Testing Oversampling=0.6, Undersampling=0.9\n",
      "Best Parameters for this iteration: {'model__subsample': 1.0, 'model__reg_lambda': 10, 'model__reg_alpha': 10, 'model__n_estimators': 500, 'model__min_child_weight': 1, 'model__max_depth': 5, 'model__learning_rate': 0.01, 'model__colsample_bytree': 0.6}\n",
      "Classification Report:\n",
      "Confusion Matrix:\n",
      "[[3770 2116]\n",
      " [  79   35]]\n",
      "\n",
      "Testing Oversampling=0.7, Undersampling=0.8\n",
      "Best Parameters for this iteration: {'model__subsample': 1.0, 'model__reg_lambda': 1, 'model__reg_alpha': 0, 'model__n_estimators': 100, 'model__min_child_weight': 5, 'model__max_depth': 7, 'model__learning_rate': 0.1, 'model__colsample_bytree': 0.8}\n",
      "Classification Report:\n",
      "Confusion Matrix:\n",
      "[[4497 1389]\n",
      " [  96   18]]\n",
      "\n",
      "Testing Oversampling=0.7, Undersampling=0.9\n",
      "Best Parameters for this iteration: {'model__subsample': 1.0, 'model__reg_lambda': 10, 'model__reg_alpha': 10, 'model__n_estimators': 500, 'model__min_child_weight': 1, 'model__max_depth': 5, 'model__learning_rate': 0.01, 'model__colsample_bytree': 0.6}\n",
      "Classification Report:\n",
      "Confusion Matrix:\n",
      "[[3720 2166]\n",
      " [  77   37]]\n",
      "\n",
      "Best Configuration:\n",
      "Oversampling Rate: 0.7\n",
      "Undersampling Rate: 0.8\n",
      "Best AUC: 0.4468\n",
      "Submission file created: 'submission_random_search_xgboost.csv'\n"
     ]
    },
    {
     "data": {
      "text/plain": [
       "[{'oversampling_rate': 0.5,\n",
       "  'undersampling_rate': 0.8,\n",
       "  'precision': 0.014425851125216388,\n",
       "  'recall': 0.21929824561403508,\n",
       "  'f1_score': 0.02707092582566324,\n",
       "  'auc': np.float64(0.4244505248850975)},\n",
       " {'oversampling_rate': 0.5,\n",
       "  'undersampling_rate': 0.9,\n",
       "  'precision': 0.012463343108504398,\n",
       "  'recall': 0.14912280701754385,\n",
       "  'f1_score': 0.023004059539918808,\n",
       "  'auc': np.float64(0.43313825252904603)},\n",
       " {'oversampling_rate': 0.6,\n",
       "  'undersampling_rate': 0.8,\n",
       "  'precision': 0.014863258026159334,\n",
       "  'recall': 0.21929824561403508,\n",
       "  'f1_score': 0.02783964365256125,\n",
       "  'auc': np.float64(0.4215936119605844)},\n",
       " {'oversampling_rate': 0.6,\n",
       "  'undersampling_rate': 0.9,\n",
       "  'precision': 0.016271501627150162,\n",
       "  'recall': 0.30701754385964913,\n",
       "  'f1_score': 0.03090507726269316,\n",
       "  'auc': np.float64(0.43722541147295696)},\n",
       " {'oversampling_rate': 0.7,\n",
       "  'undersampling_rate': 0.8,\n",
       "  'precision': 0.01279317697228145,\n",
       "  'recall': 0.15789473684210525,\n",
       "  'f1_score': 0.023668639053254437,\n",
       "  'auc': np.float64(0.44679837974140246)},\n",
       " {'oversampling_rate': 0.7,\n",
       "  'undersampling_rate': 0.9,\n",
       "  'precision': 0.016795279164775308,\n",
       "  'recall': 0.32456140350877194,\n",
       "  'f1_score': 0.031937850668968495,\n",
       "  'auc': np.float64(0.4462939118097657)}]"
      ]
     },
     "execution_count": 43,
     "metadata": {},
     "output_type": "execute_result"
    }
   ],
   "source": [
    "xgb = XGBClassifier(n_estimators=500, max_depth=5, learning_rate=0.1, random_state=42)\n",
    "\n",
    "param_distributions = {\n",
    "        'model__n_estimators': [100, 200, 300, 500, 1000],\n",
    "        'model__learning_rate': [0.01, 0.05, 0.1, 0.2, 0.3],\n",
    "        'model__max_depth': [3, 5, 7, 10],\n",
    "        'model__subsample': [0.6, 0.8, 1.0],\n",
    "        'model__colsample_bytree': [0.6, 0.8, 1.0],\n",
    "        'model__reg_alpha': [0, 0.1, 1, 10],\n",
    "        'model__reg_lambda': [1, 10, 50],\n",
    "        'model__min_child_weight': [1, 3, 5, 7]\n",
    "    }\n",
    "\n",
    "\n",
    "model_pipeline(xgb,\"submission_random_search_xgboost\",True, param_distributions)"
   ]
  },
  {
   "cell_type": "markdown",
   "metadata": {},
   "source": [
    "**Score on Kaggle:** 0.52380"
   ]
  },
  {
   "cell_type": "markdown",
   "metadata": {},
   "source": [
    "## Decision Tree\n"
   ]
  },
  {
   "cell_type": "code",
   "execution_count": 44,
   "metadata": {},
   "outputs": [
    {
     "name": "stdout",
     "output_type": "stream",
     "text": [
      "\n",
      "Testing Oversampling=0.5, Undersampling=0.8\n",
      "Best Parameters for this iteration: {'model__min_samples_split': 10, 'model__min_samples_leaf': 2, 'model__max_leaf_nodes': 50, 'model__max_features': 8, 'model__max_depth': 40}\n",
      "Classification Report:\n",
      "Confusion Matrix:\n",
      "[[4484 1402]\n",
      " [  92   22]]\n",
      "\n",
      "Testing Oversampling=0.5, Undersampling=0.9\n",
      "Best Parameters for this iteration: {'model__min_samples_split': 10, 'model__min_samples_leaf': 2, 'model__max_leaf_nodes': 50, 'model__max_features': 8, 'model__max_depth': 40}\n",
      "Classification Report:\n",
      "Confusion Matrix:\n",
      "[[4703 1183]\n",
      " [  98   16]]\n",
      "\n",
      "Testing Oversampling=0.6, Undersampling=0.8\n",
      "Best Parameters for this iteration: {'model__min_samples_split': 5, 'model__min_samples_leaf': 4, 'model__max_leaf_nodes': None, 'model__max_features': 4, 'model__max_depth': 30}\n",
      "Classification Report:\n",
      "Confusion Matrix:\n",
      "[[5219  667]\n",
      " [ 103   11]]\n",
      "\n",
      "Testing Oversampling=0.6, Undersampling=0.9\n",
      "Best Parameters for this iteration: {'model__min_samples_split': 10, 'model__min_samples_leaf': 2, 'model__max_leaf_nodes': 50, 'model__max_features': 8, 'model__max_depth': 40}\n",
      "Classification Report:\n",
      "Confusion Matrix:\n",
      "[[4478 1408]\n",
      " [  87   27]]\n",
      "\n",
      "Testing Oversampling=0.7, Undersampling=0.8\n",
      "Best Parameters for this iteration: {'model__min_samples_split': 10, 'model__min_samples_leaf': 2, 'model__max_leaf_nodes': 50, 'model__max_features': 8, 'model__max_depth': 40}\n",
      "Classification Report:\n",
      "Confusion Matrix:\n",
      "[[5194  692]\n",
      " [ 103   11]]\n",
      "\n",
      "Testing Oversampling=0.7, Undersampling=0.9\n",
      "Best Parameters for this iteration: {'model__min_samples_split': 10, 'model__min_samples_leaf': 2, 'model__max_leaf_nodes': 50, 'model__max_features': 8, 'model__max_depth': 40}\n",
      "Classification Report:\n",
      "Confusion Matrix:\n",
      "[[4400 1486]\n",
      " [  90   24]]\n",
      "\n",
      "Best Configuration:\n",
      "Oversampling Rate: 0.6\n",
      "Undersampling Rate: 0.9\n",
      "Best AUC: 0.4882\n",
      "Submission file created: 'submission_decision_tree.csv'\n"
     ]
    },
    {
     "data": {
      "text/plain": [
       "[{'oversampling_rate': 0.5,\n",
       "  'undersampling_rate': 0.8,\n",
       "  'precision': 0.01544943820224719,\n",
       "  'recall': 0.19298245614035087,\n",
       "  'f1_score': 0.02860858257477243,\n",
       "  'auc': np.float64(0.4675978086568783)},\n",
       " {'oversampling_rate': 0.5,\n",
       "  'undersampling_rate': 0.9,\n",
       "  'precision': 0.013344453711426188,\n",
       "  'recall': 0.14035087719298245,\n",
       "  'f1_score': 0.024371667936024372,\n",
       "  'auc': np.float64(0.4303990736269828)},\n",
       " {'oversampling_rate': 0.6,\n",
       "  'undersampling_rate': 0.8,\n",
       "  'precision': 0.016224188790560472,\n",
       "  'recall': 0.09649122807017543,\n",
       "  'f1_score': 0.027777777777777776,\n",
       "  'auc': np.float64(0.4723302692681415)},\n",
       " {'oversampling_rate': 0.6,\n",
       "  'undersampling_rate': 0.9,\n",
       "  'precision': 0.018815331010452963,\n",
       "  'recall': 0.23684210526315788,\n",
       "  'f1_score': 0.03486120077469335,\n",
       "  'auc': np.float64(0.4882191462345977)},\n",
       " {'oversampling_rate': 0.7,\n",
       "  'undersampling_rate': 0.8,\n",
       "  'precision': 0.015647226173541962,\n",
       "  'recall': 0.09649122807017543,\n",
       "  'f1_score': 0.02692778457772338,\n",
       "  'auc': np.float64(0.45631024554250044)},\n",
       " {'oversampling_rate': 0.7,\n",
       "  'undersampling_rate': 0.9,\n",
       "  'precision': 0.015894039735099338,\n",
       "  'recall': 0.21052631578947367,\n",
       "  'f1_score': 0.029556650246305417,\n",
       "  'auc': np.float64(0.48283467758761495)}]"
      ]
     },
     "execution_count": 44,
     "metadata": {},
     "output_type": "execute_result"
    }
   ],
   "source": [
    "dt = DecisionTreeClassifier(random_state = 42)\n",
    "\n",
    "parameter_grid = {\n",
    "    'model__max_depth': [5, 10, 20, 30, 40, 50],\n",
    "    'model__min_samples_split': [2, 5, 10, 20],  \n",
    "    'model__min_samples_leaf': [1, 2, 4, 5],   \n",
    "    'model__max_leaf_nodes': [None, 10, 20, 50, 100],\n",
    "    'model__max_features': [1, 2, 3, 4, 5, 6, 7, 8,]\n",
    "}\n",
    "\n",
    "model_pipeline(dt,\"submission_decision_tree\",True, parameter_grid)"
   ]
  },
  {
   "cell_type": "markdown",
   "metadata": {},
   "source": [
    "## Neural Networks - Multi-Layer Perceptron (MLP)"
   ]
  },
  {
   "cell_type": "code",
   "execution_count": 45,
   "metadata": {},
   "outputs": [
    {
     "name": "stdout",
     "output_type": "stream",
     "text": [
      "\n",
      "Testing Oversampling=0.5, Undersampling=0.8\n"
     ]
    },
    {
     "name": "stderr",
     "output_type": "stream",
     "text": [
      "/home/ricardo/Desktop/uni/mestrado/fraude/project/venv/lib/python3.12/site-packages/sklearn/neural_network/_multilayer_perceptron.py:690: ConvergenceWarning: Stochastic Optimizer: Maximum iterations (300) reached and the optimization hasn't converged yet.\n",
      "  warnings.warn(\n"
     ]
    },
    {
     "name": "stdout",
     "output_type": "stream",
     "text": [
      "Classification Report:\n",
      "Confusion Matrix:\n",
      "[[5886    0]\n",
      " [ 114    0]]\n",
      "\n",
      "Testing Oversampling=0.5, Undersampling=0.9\n"
     ]
    },
    {
     "name": "stderr",
     "output_type": "stream",
     "text": [
      "/home/ricardo/Desktop/uni/mestrado/fraude/project/venv/lib/python3.12/site-packages/sklearn/neural_network/_multilayer_perceptron.py:690: ConvergenceWarning: Stochastic Optimizer: Maximum iterations (300) reached and the optimization hasn't converged yet.\n",
      "  warnings.warn(\n"
     ]
    },
    {
     "name": "stdout",
     "output_type": "stream",
     "text": [
      "Classification Report:\n",
      "Confusion Matrix:\n",
      "[[5886    0]\n",
      " [ 114    0]]\n",
      "\n",
      "Testing Oversampling=0.6, Undersampling=0.8\n",
      "Classification Report:\n",
      "Confusion Matrix:\n",
      "[[5886    0]\n",
      " [ 114    0]]\n",
      "\n",
      "Testing Oversampling=0.6, Undersampling=0.9\n",
      "Classification Report:\n",
      "Confusion Matrix:\n",
      "[[5886    0]\n",
      " [ 114    0]]\n",
      "\n",
      "Testing Oversampling=0.7, Undersampling=0.8\n"
     ]
    },
    {
     "name": "stderr",
     "output_type": "stream",
     "text": [
      "/home/ricardo/Desktop/uni/mestrado/fraude/project/venv/lib/python3.12/site-packages/sklearn/neural_network/_multilayer_perceptron.py:690: ConvergenceWarning: Stochastic Optimizer: Maximum iterations (300) reached and the optimization hasn't converged yet.\n",
      "  warnings.warn(\n"
     ]
    },
    {
     "name": "stdout",
     "output_type": "stream",
     "text": [
      "Classification Report:\n",
      "Confusion Matrix:\n",
      "[[5886    0]\n",
      " [ 114    0]]\n",
      "\n",
      "Testing Oversampling=0.7, Undersampling=0.9\n",
      "Classification Report:\n",
      "Confusion Matrix:\n",
      "[[5886    0]\n",
      " [ 114    0]]\n",
      "\n",
      "Best Configuration:\n",
      "Oversampling Rate: 0.5\n",
      "Undersampling Rate: 0.8\n",
      "Best AUC: 0.5000\n",
      "Submission file created: 'submission_mlp.csv'\n"
     ]
    },
    {
     "name": "stderr",
     "output_type": "stream",
     "text": [
      "/home/ricardo/Desktop/uni/mestrado/fraude/project/venv/lib/python3.12/site-packages/sklearn/neural_network/_multilayer_perceptron.py:690: ConvergenceWarning: Stochastic Optimizer: Maximum iterations (300) reached and the optimization hasn't converged yet.\n",
      "  warnings.warn(\n"
     ]
    },
    {
     "data": {
      "text/plain": [
       "[{'oversampling_rate': 0.5,\n",
       "  'undersampling_rate': 0.8,\n",
       "  'precision': 0.0,\n",
       "  'recall': 0.0,\n",
       "  'f1_score': 0.0,\n",
       "  'auc': np.float64(0.5)},\n",
       " {'oversampling_rate': 0.5,\n",
       "  'undersampling_rate': 0.9,\n",
       "  'precision': 0.0,\n",
       "  'recall': 0.0,\n",
       "  'f1_score': 0.0,\n",
       "  'auc': np.float64(0.5)},\n",
       " {'oversampling_rate': 0.6,\n",
       "  'undersampling_rate': 0.8,\n",
       "  'precision': 0.0,\n",
       "  'recall': 0.0,\n",
       "  'f1_score': 0.0,\n",
       "  'auc': np.float64(0.5)},\n",
       " {'oversampling_rate': 0.6,\n",
       "  'undersampling_rate': 0.9,\n",
       "  'precision': 0.0,\n",
       "  'recall': 0.0,\n",
       "  'f1_score': 0.0,\n",
       "  'auc': np.float64(0.5)},\n",
       " {'oversampling_rate': 0.7,\n",
       "  'undersampling_rate': 0.8,\n",
       "  'precision': 0.0,\n",
       "  'recall': 0.0,\n",
       "  'f1_score': 0.0,\n",
       "  'auc': np.float64(0.5)},\n",
       " {'oversampling_rate': 0.7,\n",
       "  'undersampling_rate': 0.9,\n",
       "  'precision': 0.0,\n",
       "  'recall': 0.0,\n",
       "  'f1_score': 0.0,\n",
       "  'auc': np.float64(0.5)}]"
      ]
     },
     "execution_count": 45,
     "metadata": {},
     "output_type": "execute_result"
    }
   ],
   "source": [
    "\n",
    "mlp = MLPClassifier(hidden_layer_sizes=(100,), max_iter=300, random_state=42)\n",
    "\n",
    "\n",
    "\n",
    "model_pipeline(mlp,\"submission_mlp\")"
   ]
  },
  {
   "cell_type": "markdown",
   "metadata": {},
   "source": [
    "## Random Search - Neural Networks (MLP)"
   ]
  },
  {
   "cell_type": "code",
   "execution_count": 8,
   "metadata": {},
   "outputs": [
    {
     "name": "stdout",
     "output_type": "stream",
     "text": [
      "\n",
      "Testing Oversampling=0.5, Undersampling=0.8\n"
     ]
    },
    {
     "name": "stderr",
     "output_type": "stream",
     "text": [
      "/home/ricardo/Desktop/uni/mestrado/fraude/project/venv/lib/python3.12/site-packages/sklearn/neural_network/_multilayer_perceptron.py:690: ConvergenceWarning: Stochastic Optimizer: Maximum iterations (300) reached and the optimization hasn't converged yet.\n",
      "  warnings.warn(\n",
      "/home/ricardo/Desktop/uni/mestrado/fraude/project/venv/lib/python3.12/site-packages/sklearn/neural_network/_multilayer_perceptron.py:690: ConvergenceWarning: Stochastic Optimizer: Maximum iterations (300) reached and the optimization hasn't converged yet.\n",
      "  warnings.warn(\n",
      "/home/ricardo/Desktop/uni/mestrado/fraude/project/venv/lib/python3.12/site-packages/sklearn/neural_network/_multilayer_perceptron.py:690: ConvergenceWarning: Stochastic Optimizer: Maximum iterations (300) reached and the optimization hasn't converged yet.\n",
      "  warnings.warn(\n",
      "/home/ricardo/Desktop/uni/mestrado/fraude/project/venv/lib/python3.12/site-packages/sklearn/neural_network/_multilayer_perceptron.py:690: ConvergenceWarning: Stochastic Optimizer: Maximum iterations (300) reached and the optimization hasn't converged yet.\n",
      "  warnings.warn(\n",
      "/home/ricardo/Desktop/uni/mestrado/fraude/project/venv/lib/python3.12/site-packages/sklearn/neural_network/_multilayer_perceptron.py:690: ConvergenceWarning: Stochastic Optimizer: Maximum iterations (300) reached and the optimization hasn't converged yet.\n",
      "  warnings.warn(\n"
     ]
    },
    {
     "ename": "KeyboardInterrupt",
     "evalue": "",
     "output_type": "error",
     "traceback": [
      "\u001b[0;31m---------------------------------------------------------------------------\u001b[0m",
      "\u001b[0;31mKeyboardInterrupt\u001b[0m                         Traceback (most recent call last)",
      "Cell \u001b[0;32mIn[8], line 12\u001b[0m\n\u001b[1;32m      1\u001b[0m mlp \u001b[38;5;241m=\u001b[39m MLPClassifier( max_iter\u001b[38;5;241m=\u001b[39m\u001b[38;5;241m300\u001b[39m, random_state\u001b[38;5;241m=\u001b[39m\u001b[38;5;241m42\u001b[39m)\n\u001b[1;32m      4\u001b[0m parameter_grid \u001b[38;5;241m=\u001b[39m {\n\u001b[1;32m      5\u001b[0m     \u001b[38;5;124m'\u001b[39m\u001b[38;5;124mmodel__hidden_layer_sizes\u001b[39m\u001b[38;5;124m'\u001b[39m: [(\u001b[38;5;241m50\u001b[39m,), (\u001b[38;5;241m100\u001b[39m,), (\u001b[38;5;241m100\u001b[39m, \u001b[38;5;241m50\u001b[39m), (\u001b[38;5;241m150\u001b[39m, \u001b[38;5;241m100\u001b[39m)],\n\u001b[1;32m      6\u001b[0m     \u001b[38;5;124m'\u001b[39m\u001b[38;5;124mmodel__activation\u001b[39m\u001b[38;5;124m'\u001b[39m: [\u001b[38;5;124m'\u001b[39m\u001b[38;5;124mrelu\u001b[39m\u001b[38;5;124m'\u001b[39m, \u001b[38;5;124m'\u001b[39m\u001b[38;5;124mtanh\u001b[39m\u001b[38;5;124m'\u001b[39m],\n\u001b[0;32m   (...)\u001b[0m\n\u001b[1;32m      9\u001b[0m     \u001b[38;5;124m'\u001b[39m\u001b[38;5;124mmodel__learning_rate\u001b[39m\u001b[38;5;124m'\u001b[39m: [\u001b[38;5;124m'\u001b[39m\u001b[38;5;124mconstant\u001b[39m\u001b[38;5;124m'\u001b[39m, \u001b[38;5;124m'\u001b[39m\u001b[38;5;124madaptive\u001b[39m\u001b[38;5;124m'\u001b[39m]\n\u001b[1;32m     10\u001b[0m }\n\u001b[0;32m---> 12\u001b[0m \u001b[43mmodel_pipeline\u001b[49m\u001b[43m(\u001b[49m\u001b[43mmlp\u001b[49m\u001b[43m,\u001b[49m\u001b[38;5;124;43m\"\u001b[39;49m\u001b[38;5;124;43msubmission_random_search_mlp\u001b[39;49m\u001b[38;5;124;43m\"\u001b[39;49m\u001b[43m,\u001b[49m\u001b[38;5;28;43;01mTrue\u001b[39;49;00m\u001b[43m,\u001b[49m\u001b[43mparameter_grid\u001b[49m\u001b[43m)\u001b[49m\n",
      "Cell \u001b[0;32mIn[5], line 38\u001b[0m, in \u001b[0;36mmodel_pipeline\u001b[0;34m(model, submission_file, use_random_search, param_grid, n_iter)\u001b[0m\n\u001b[1;32m     28\u001b[0m search \u001b[38;5;241m=\u001b[39m RandomizedSearchCV(\n\u001b[1;32m     29\u001b[0m     estimator\u001b[38;5;241m=\u001b[39mpipeline,\n\u001b[1;32m     30\u001b[0m     param_distributions\u001b[38;5;241m=\u001b[39mparam_grid,  \u001b[38;5;66;03m# Prefix for model params\u001b[39;00m\n\u001b[0;32m   (...)\u001b[0m\n\u001b[1;32m     35\u001b[0m     random_state\u001b[38;5;241m=\u001b[39m\u001b[38;5;241m42\u001b[39m \n\u001b[1;32m     36\u001b[0m )\n\u001b[1;32m     37\u001b[0m \u001b[38;5;66;03m# Train with hyperparameter tuning\u001b[39;00m\n\u001b[0;32m---> 38\u001b[0m \u001b[43msearch\u001b[49m\u001b[38;5;241;43m.\u001b[39;49m\u001b[43mfit\u001b[49m\u001b[43m(\u001b[49m\u001b[43mX_train\u001b[49m\u001b[43m,\u001b[49m\u001b[43m \u001b[49m\u001b[43my_train\u001b[49m\u001b[43m)\u001b[49m\n\u001b[1;32m     39\u001b[0m best_pipeline \u001b[38;5;241m=\u001b[39m search\u001b[38;5;241m.\u001b[39mbest_estimator_\n\u001b[1;32m     40\u001b[0m best_params \u001b[38;5;241m=\u001b[39m search\u001b[38;5;241m.\u001b[39mbest_params_\n",
      "File \u001b[0;32m~/Desktop/uni/mestrado/fraude/project/venv/lib/python3.12/site-packages/sklearn/base.py:1473\u001b[0m, in \u001b[0;36m_fit_context.<locals>.decorator.<locals>.wrapper\u001b[0;34m(estimator, *args, **kwargs)\u001b[0m\n\u001b[1;32m   1466\u001b[0m     estimator\u001b[38;5;241m.\u001b[39m_validate_params()\n\u001b[1;32m   1468\u001b[0m \u001b[38;5;28;01mwith\u001b[39;00m config_context(\n\u001b[1;32m   1469\u001b[0m     skip_parameter_validation\u001b[38;5;241m=\u001b[39m(\n\u001b[1;32m   1470\u001b[0m         prefer_skip_nested_validation \u001b[38;5;129;01mor\u001b[39;00m global_skip_validation\n\u001b[1;32m   1471\u001b[0m     )\n\u001b[1;32m   1472\u001b[0m ):\n\u001b[0;32m-> 1473\u001b[0m     \u001b[38;5;28;01mreturn\u001b[39;00m \u001b[43mfit_method\u001b[49m\u001b[43m(\u001b[49m\u001b[43mestimator\u001b[49m\u001b[43m,\u001b[49m\u001b[43m \u001b[49m\u001b[38;5;241;43m*\u001b[39;49m\u001b[43margs\u001b[49m\u001b[43m,\u001b[49m\u001b[43m \u001b[49m\u001b[38;5;241;43m*\u001b[39;49m\u001b[38;5;241;43m*\u001b[39;49m\u001b[43mkwargs\u001b[49m\u001b[43m)\u001b[49m\n",
      "File \u001b[0;32m~/Desktop/uni/mestrado/fraude/project/venv/lib/python3.12/site-packages/sklearn/model_selection/_search.py:1019\u001b[0m, in \u001b[0;36mBaseSearchCV.fit\u001b[0;34m(self, X, y, **params)\u001b[0m\n\u001b[1;32m   1013\u001b[0m     results \u001b[38;5;241m=\u001b[39m \u001b[38;5;28mself\u001b[39m\u001b[38;5;241m.\u001b[39m_format_results(\n\u001b[1;32m   1014\u001b[0m         all_candidate_params, n_splits, all_out, all_more_results\n\u001b[1;32m   1015\u001b[0m     )\n\u001b[1;32m   1017\u001b[0m     \u001b[38;5;28;01mreturn\u001b[39;00m results\n\u001b[0;32m-> 1019\u001b[0m \u001b[38;5;28;43mself\u001b[39;49m\u001b[38;5;241;43m.\u001b[39;49m\u001b[43m_run_search\u001b[49m\u001b[43m(\u001b[49m\u001b[43mevaluate_candidates\u001b[49m\u001b[43m)\u001b[49m\n\u001b[1;32m   1021\u001b[0m \u001b[38;5;66;03m# multimetric is determined here because in the case of a callable\u001b[39;00m\n\u001b[1;32m   1022\u001b[0m \u001b[38;5;66;03m# self.scoring the return type is only known after calling\u001b[39;00m\n\u001b[1;32m   1023\u001b[0m first_test_score \u001b[38;5;241m=\u001b[39m all_out[\u001b[38;5;241m0\u001b[39m][\u001b[38;5;124m\"\u001b[39m\u001b[38;5;124mtest_scores\u001b[39m\u001b[38;5;124m\"\u001b[39m]\n",
      "File \u001b[0;32m~/Desktop/uni/mestrado/fraude/project/venv/lib/python3.12/site-packages/sklearn/model_selection/_search.py:1960\u001b[0m, in \u001b[0;36mRandomizedSearchCV._run_search\u001b[0;34m(self, evaluate_candidates)\u001b[0m\n\u001b[1;32m   1958\u001b[0m \u001b[38;5;28;01mdef\u001b[39;00m \u001b[38;5;21m_run_search\u001b[39m(\u001b[38;5;28mself\u001b[39m, evaluate_candidates):\n\u001b[1;32m   1959\u001b[0m \u001b[38;5;250m    \u001b[39m\u001b[38;5;124;03m\"\"\"Search n_iter candidates from param_distributions\"\"\"\u001b[39;00m\n\u001b[0;32m-> 1960\u001b[0m     \u001b[43mevaluate_candidates\u001b[49m\u001b[43m(\u001b[49m\n\u001b[1;32m   1961\u001b[0m \u001b[43m        \u001b[49m\u001b[43mParameterSampler\u001b[49m\u001b[43m(\u001b[49m\n\u001b[1;32m   1962\u001b[0m \u001b[43m            \u001b[49m\u001b[38;5;28;43mself\u001b[39;49m\u001b[38;5;241;43m.\u001b[39;49m\u001b[43mparam_distributions\u001b[49m\u001b[43m,\u001b[49m\u001b[43m \u001b[49m\u001b[38;5;28;43mself\u001b[39;49m\u001b[38;5;241;43m.\u001b[39;49m\u001b[43mn_iter\u001b[49m\u001b[43m,\u001b[49m\u001b[43m \u001b[49m\u001b[43mrandom_state\u001b[49m\u001b[38;5;241;43m=\u001b[39;49m\u001b[38;5;28;43mself\u001b[39;49m\u001b[38;5;241;43m.\u001b[39;49m\u001b[43mrandom_state\u001b[49m\n\u001b[1;32m   1963\u001b[0m \u001b[43m        \u001b[49m\u001b[43m)\u001b[49m\n\u001b[1;32m   1964\u001b[0m \u001b[43m    \u001b[49m\u001b[43m)\u001b[49m\n",
      "File \u001b[0;32m~/Desktop/uni/mestrado/fraude/project/venv/lib/python3.12/site-packages/sklearn/model_selection/_search.py:965\u001b[0m, in \u001b[0;36mBaseSearchCV.fit.<locals>.evaluate_candidates\u001b[0;34m(candidate_params, cv, more_results)\u001b[0m\n\u001b[1;32m    957\u001b[0m \u001b[38;5;28;01mif\u001b[39;00m \u001b[38;5;28mself\u001b[39m\u001b[38;5;241m.\u001b[39mverbose \u001b[38;5;241m>\u001b[39m \u001b[38;5;241m0\u001b[39m:\n\u001b[1;32m    958\u001b[0m     \u001b[38;5;28mprint\u001b[39m(\n\u001b[1;32m    959\u001b[0m         \u001b[38;5;124m\"\u001b[39m\u001b[38;5;124mFitting \u001b[39m\u001b[38;5;132;01m{0}\u001b[39;00m\u001b[38;5;124m folds for each of \u001b[39m\u001b[38;5;132;01m{1}\u001b[39;00m\u001b[38;5;124m candidates,\u001b[39m\u001b[38;5;124m\"\u001b[39m\n\u001b[1;32m    960\u001b[0m         \u001b[38;5;124m\"\u001b[39m\u001b[38;5;124m totalling \u001b[39m\u001b[38;5;132;01m{2}\u001b[39;00m\u001b[38;5;124m fits\u001b[39m\u001b[38;5;124m\"\u001b[39m\u001b[38;5;241m.\u001b[39mformat(\n\u001b[1;32m    961\u001b[0m             n_splits, n_candidates, n_candidates \u001b[38;5;241m*\u001b[39m n_splits\n\u001b[1;32m    962\u001b[0m         )\n\u001b[1;32m    963\u001b[0m     )\n\u001b[0;32m--> 965\u001b[0m out \u001b[38;5;241m=\u001b[39m \u001b[43mparallel\u001b[49m\u001b[43m(\u001b[49m\n\u001b[1;32m    966\u001b[0m \u001b[43m    \u001b[49m\u001b[43mdelayed\u001b[49m\u001b[43m(\u001b[49m\u001b[43m_fit_and_score\u001b[49m\u001b[43m)\u001b[49m\u001b[43m(\u001b[49m\n\u001b[1;32m    967\u001b[0m \u001b[43m        \u001b[49m\u001b[43mclone\u001b[49m\u001b[43m(\u001b[49m\u001b[43mbase_estimator\u001b[49m\u001b[43m)\u001b[49m\u001b[43m,\u001b[49m\n\u001b[1;32m    968\u001b[0m \u001b[43m        \u001b[49m\u001b[43mX\u001b[49m\u001b[43m,\u001b[49m\n\u001b[1;32m    969\u001b[0m \u001b[43m        \u001b[49m\u001b[43my\u001b[49m\u001b[43m,\u001b[49m\n\u001b[1;32m    970\u001b[0m \u001b[43m        \u001b[49m\u001b[43mtrain\u001b[49m\u001b[38;5;241;43m=\u001b[39;49m\u001b[43mtrain\u001b[49m\u001b[43m,\u001b[49m\n\u001b[1;32m    971\u001b[0m \u001b[43m        \u001b[49m\u001b[43mtest\u001b[49m\u001b[38;5;241;43m=\u001b[39;49m\u001b[43mtest\u001b[49m\u001b[43m,\u001b[49m\n\u001b[1;32m    972\u001b[0m \u001b[43m        \u001b[49m\u001b[43mparameters\u001b[49m\u001b[38;5;241;43m=\u001b[39;49m\u001b[43mparameters\u001b[49m\u001b[43m,\u001b[49m\n\u001b[1;32m    973\u001b[0m \u001b[43m        \u001b[49m\u001b[43msplit_progress\u001b[49m\u001b[38;5;241;43m=\u001b[39;49m\u001b[43m(\u001b[49m\u001b[43msplit_idx\u001b[49m\u001b[43m,\u001b[49m\u001b[43m \u001b[49m\u001b[43mn_splits\u001b[49m\u001b[43m)\u001b[49m\u001b[43m,\u001b[49m\n\u001b[1;32m    974\u001b[0m \u001b[43m        \u001b[49m\u001b[43mcandidate_progress\u001b[49m\u001b[38;5;241;43m=\u001b[39;49m\u001b[43m(\u001b[49m\u001b[43mcand_idx\u001b[49m\u001b[43m,\u001b[49m\u001b[43m \u001b[49m\u001b[43mn_candidates\u001b[49m\u001b[43m)\u001b[49m\u001b[43m,\u001b[49m\n\u001b[1;32m    975\u001b[0m \u001b[43m        \u001b[49m\u001b[38;5;241;43m*\u001b[39;49m\u001b[38;5;241;43m*\u001b[39;49m\u001b[43mfit_and_score_kwargs\u001b[49m\u001b[43m,\u001b[49m\n\u001b[1;32m    976\u001b[0m \u001b[43m    \u001b[49m\u001b[43m)\u001b[49m\n\u001b[1;32m    977\u001b[0m \u001b[43m    \u001b[49m\u001b[38;5;28;43;01mfor\u001b[39;49;00m\u001b[43m \u001b[49m\u001b[43m(\u001b[49m\u001b[43mcand_idx\u001b[49m\u001b[43m,\u001b[49m\u001b[43m \u001b[49m\u001b[43mparameters\u001b[49m\u001b[43m)\u001b[49m\u001b[43m,\u001b[49m\u001b[43m \u001b[49m\u001b[43m(\u001b[49m\u001b[43msplit_idx\u001b[49m\u001b[43m,\u001b[49m\u001b[43m \u001b[49m\u001b[43m(\u001b[49m\u001b[43mtrain\u001b[49m\u001b[43m,\u001b[49m\u001b[43m \u001b[49m\u001b[43mtest\u001b[49m\u001b[43m)\u001b[49m\u001b[43m)\u001b[49m\u001b[43m \u001b[49m\u001b[38;5;129;43;01min\u001b[39;49;00m\u001b[43m \u001b[49m\u001b[43mproduct\u001b[49m\u001b[43m(\u001b[49m\n\u001b[1;32m    978\u001b[0m \u001b[43m        \u001b[49m\u001b[38;5;28;43menumerate\u001b[39;49m\u001b[43m(\u001b[49m\u001b[43mcandidate_params\u001b[49m\u001b[43m)\u001b[49m\u001b[43m,\u001b[49m\n\u001b[1;32m    979\u001b[0m \u001b[43m        \u001b[49m\u001b[38;5;28;43menumerate\u001b[39;49m\u001b[43m(\u001b[49m\u001b[43mcv\u001b[49m\u001b[38;5;241;43m.\u001b[39;49m\u001b[43msplit\u001b[49m\u001b[43m(\u001b[49m\u001b[43mX\u001b[49m\u001b[43m,\u001b[49m\u001b[43m \u001b[49m\u001b[43my\u001b[49m\u001b[43m,\u001b[49m\u001b[43m \u001b[49m\u001b[38;5;241;43m*\u001b[39;49m\u001b[38;5;241;43m*\u001b[39;49m\u001b[43mrouted_params\u001b[49m\u001b[38;5;241;43m.\u001b[39;49m\u001b[43msplitter\u001b[49m\u001b[38;5;241;43m.\u001b[39;49m\u001b[43msplit\u001b[49m\u001b[43m)\u001b[49m\u001b[43m)\u001b[49m\u001b[43m,\u001b[49m\n\u001b[1;32m    980\u001b[0m \u001b[43m    \u001b[49m\u001b[43m)\u001b[49m\n\u001b[1;32m    981\u001b[0m \u001b[43m\u001b[49m\u001b[43m)\u001b[49m\n\u001b[1;32m    983\u001b[0m \u001b[38;5;28;01mif\u001b[39;00m \u001b[38;5;28mlen\u001b[39m(out) \u001b[38;5;241m<\u001b[39m \u001b[38;5;241m1\u001b[39m:\n\u001b[1;32m    984\u001b[0m     \u001b[38;5;28;01mraise\u001b[39;00m \u001b[38;5;167;01mValueError\u001b[39;00m(\n\u001b[1;32m    985\u001b[0m         \u001b[38;5;124m\"\u001b[39m\u001b[38;5;124mNo fits were performed. \u001b[39m\u001b[38;5;124m\"\u001b[39m\n\u001b[1;32m    986\u001b[0m         \u001b[38;5;124m\"\u001b[39m\u001b[38;5;124mWas the CV iterator empty? \u001b[39m\u001b[38;5;124m\"\u001b[39m\n\u001b[1;32m    987\u001b[0m         \u001b[38;5;124m\"\u001b[39m\u001b[38;5;124mWere there no candidates?\u001b[39m\u001b[38;5;124m\"\u001b[39m\n\u001b[1;32m    988\u001b[0m     )\n",
      "File \u001b[0;32m~/Desktop/uni/mestrado/fraude/project/venv/lib/python3.12/site-packages/sklearn/utils/parallel.py:74\u001b[0m, in \u001b[0;36mParallel.__call__\u001b[0;34m(self, iterable)\u001b[0m\n\u001b[1;32m     69\u001b[0m config \u001b[38;5;241m=\u001b[39m get_config()\n\u001b[1;32m     70\u001b[0m iterable_with_config \u001b[38;5;241m=\u001b[39m (\n\u001b[1;32m     71\u001b[0m     (_with_config(delayed_func, config), args, kwargs)\n\u001b[1;32m     72\u001b[0m     \u001b[38;5;28;01mfor\u001b[39;00m delayed_func, args, kwargs \u001b[38;5;129;01min\u001b[39;00m iterable\n\u001b[1;32m     73\u001b[0m )\n\u001b[0;32m---> 74\u001b[0m \u001b[38;5;28;01mreturn\u001b[39;00m \u001b[38;5;28;43msuper\u001b[39;49m\u001b[43m(\u001b[49m\u001b[43m)\u001b[49m\u001b[38;5;241;43m.\u001b[39;49m\u001b[38;5;21;43m__call__\u001b[39;49m\u001b[43m(\u001b[49m\u001b[43miterable_with_config\u001b[49m\u001b[43m)\u001b[49m\n",
      "File \u001b[0;32m~/Desktop/uni/mestrado/fraude/project/venv/lib/python3.12/site-packages/joblib/parallel.py:2007\u001b[0m, in \u001b[0;36mParallel.__call__\u001b[0;34m(self, iterable)\u001b[0m\n\u001b[1;32m   2001\u001b[0m \u001b[38;5;66;03m# The first item from the output is blank, but it makes the interpreter\u001b[39;00m\n\u001b[1;32m   2002\u001b[0m \u001b[38;5;66;03m# progress until it enters the Try/Except block of the generator and\u001b[39;00m\n\u001b[1;32m   2003\u001b[0m \u001b[38;5;66;03m# reaches the first `yield` statement. This starts the asynchronous\u001b[39;00m\n\u001b[1;32m   2004\u001b[0m \u001b[38;5;66;03m# dispatch of the tasks to the workers.\u001b[39;00m\n\u001b[1;32m   2005\u001b[0m \u001b[38;5;28mnext\u001b[39m(output)\n\u001b[0;32m-> 2007\u001b[0m \u001b[38;5;28;01mreturn\u001b[39;00m output \u001b[38;5;28;01mif\u001b[39;00m \u001b[38;5;28mself\u001b[39m\u001b[38;5;241m.\u001b[39mreturn_generator \u001b[38;5;28;01melse\u001b[39;00m \u001b[38;5;28;43mlist\u001b[39;49m\u001b[43m(\u001b[49m\u001b[43moutput\u001b[49m\u001b[43m)\u001b[49m\n",
      "File \u001b[0;32m~/Desktop/uni/mestrado/fraude/project/venv/lib/python3.12/site-packages/joblib/parallel.py:1650\u001b[0m, in \u001b[0;36mParallel._get_outputs\u001b[0;34m(self, iterator, pre_dispatch)\u001b[0m\n\u001b[1;32m   1647\u001b[0m     \u001b[38;5;28;01myield\u001b[39;00m\n\u001b[1;32m   1649\u001b[0m     \u001b[38;5;28;01mwith\u001b[39;00m \u001b[38;5;28mself\u001b[39m\u001b[38;5;241m.\u001b[39m_backend\u001b[38;5;241m.\u001b[39mretrieval_context():\n\u001b[0;32m-> 1650\u001b[0m         \u001b[38;5;28;01myield from\u001b[39;00m \u001b[38;5;28mself\u001b[39m\u001b[38;5;241m.\u001b[39m_retrieve()\n\u001b[1;32m   1652\u001b[0m \u001b[38;5;28;01mexcept\u001b[39;00m \u001b[38;5;167;01mGeneratorExit\u001b[39;00m:\n\u001b[1;32m   1653\u001b[0m     \u001b[38;5;66;03m# The generator has been garbage collected before being fully\u001b[39;00m\n\u001b[1;32m   1654\u001b[0m     \u001b[38;5;66;03m# consumed. This aborts the remaining tasks if possible and warn\u001b[39;00m\n\u001b[1;32m   1655\u001b[0m     \u001b[38;5;66;03m# the user if necessary.\u001b[39;00m\n\u001b[1;32m   1656\u001b[0m     \u001b[38;5;28mself\u001b[39m\u001b[38;5;241m.\u001b[39m_exception \u001b[38;5;241m=\u001b[39m \u001b[38;5;28;01mTrue\u001b[39;00m\n",
      "File \u001b[0;32m~/Desktop/uni/mestrado/fraude/project/venv/lib/python3.12/site-packages/joblib/parallel.py:1762\u001b[0m, in \u001b[0;36mParallel._retrieve\u001b[0;34m(self)\u001b[0m\n\u001b[1;32m   1757\u001b[0m \u001b[38;5;66;03m# If the next job is not ready for retrieval yet, we just wait for\u001b[39;00m\n\u001b[1;32m   1758\u001b[0m \u001b[38;5;66;03m# async callbacks to progress.\u001b[39;00m\n\u001b[1;32m   1759\u001b[0m \u001b[38;5;28;01mif\u001b[39;00m ((\u001b[38;5;28mlen\u001b[39m(\u001b[38;5;28mself\u001b[39m\u001b[38;5;241m.\u001b[39m_jobs) \u001b[38;5;241m==\u001b[39m \u001b[38;5;241m0\u001b[39m) \u001b[38;5;129;01mor\u001b[39;00m\n\u001b[1;32m   1760\u001b[0m     (\u001b[38;5;28mself\u001b[39m\u001b[38;5;241m.\u001b[39m_jobs[\u001b[38;5;241m0\u001b[39m]\u001b[38;5;241m.\u001b[39mget_status(\n\u001b[1;32m   1761\u001b[0m         timeout\u001b[38;5;241m=\u001b[39m\u001b[38;5;28mself\u001b[39m\u001b[38;5;241m.\u001b[39mtimeout) \u001b[38;5;241m==\u001b[39m TASK_PENDING)):\n\u001b[0;32m-> 1762\u001b[0m     \u001b[43mtime\u001b[49m\u001b[38;5;241;43m.\u001b[39;49m\u001b[43msleep\u001b[49m\u001b[43m(\u001b[49m\u001b[38;5;241;43m0.01\u001b[39;49m\u001b[43m)\u001b[49m\n\u001b[1;32m   1763\u001b[0m     \u001b[38;5;28;01mcontinue\u001b[39;00m\n\u001b[1;32m   1765\u001b[0m \u001b[38;5;66;03m# We need to be careful: the job list can be filling up as\u001b[39;00m\n\u001b[1;32m   1766\u001b[0m \u001b[38;5;66;03m# we empty it and Python list are not thread-safe by\u001b[39;00m\n\u001b[1;32m   1767\u001b[0m \u001b[38;5;66;03m# default hence the use of the lock\u001b[39;00m\n",
      "\u001b[0;31mKeyboardInterrupt\u001b[0m: "
     ]
    }
   ],
   "source": [
    "\n",
    "mlp = MLPClassifier( max_iter=300, random_state=42)\n",
    "\n",
    "\n",
    "parameter_grid = {\n",
    "    'model__hidden_layer_sizes': [(50,), (100,), (100, 50), (150, 100)],\n",
    "    'model__activation': ['relu', 'tanh'],\n",
    "    'model__solver': ['adam', 'sgd'],\n",
    "    'model__alpha': [0.0001, 0.001, 0.01],\n",
    "    'model__learning_rate': ['constant', 'adaptive']\n",
    "}\n",
    "\n",
    "model_pipeline(mlp,\"submission_random_search_mlp\",True,parameter_grid)"
   ]
  },
  {
   "cell_type": "markdown",
   "metadata": {},
   "source": [
    "## Support Vector Machine (SVM)"
   ]
  },
  {
   "cell_type": "code",
   "execution_count": null,
   "metadata": {},
   "outputs": [
    {
     "name": "stdout",
     "output_type": "stream",
     "text": [
      "\n",
      "Testing Oversampling=0.5, Undersampling=0.8\n",
      "Classification Report:\n",
      "Confusion Matrix:\n",
      "[[5886    0]\n",
      " [ 114    0]]\n",
      "\n",
      "Testing Oversampling=0.5, Undersampling=1.0\n",
      "Classification Report:\n",
      "Confusion Matrix:\n",
      "[[2070 3816]\n",
      " [  48   66]]\n",
      "\n",
      "Testing Oversampling=0.7, Undersampling=0.8\n",
      "Classification Report:\n",
      "Confusion Matrix:\n",
      "[[5886    0]\n",
      " [ 114    0]]\n",
      "\n",
      "Testing Oversampling=0.7, Undersampling=1.0\n",
      "Classification Report:\n",
      "Confusion Matrix:\n",
      "[[2070 3816]\n",
      " [  48   66]]\n",
      "\n",
      "Best Configuration:\n",
      "Oversampling Rate: 0.7\n",
      "Undersampling Rate: 0.8\n",
      "Best AUC: 0.5413\n",
      "Submission file created: 'submission_svm.csv'\n"
     ]
    },
    {
     "data": {
      "text/plain": [
       "[{'oversampling_rate': 0.5,\n",
       "  'undersampling_rate': 0.8,\n",
       "  'precision': 0.0,\n",
       "  'recall': 0.0,\n",
       "  'f1_score': 0.0,\n",
       "  'auc': np.float64(0.4657274770344141)},\n",
       " {'oversampling_rate': 0.5,\n",
       "  'undersampling_rate': 1.0,\n",
       "  'precision': 0.017001545595054096,\n",
       "  'recall': 0.5789473684210527,\n",
       "  'f1_score': 0.03303303303303303,\n",
       "  'auc': np.float64(0.5)},\n",
       " {'oversampling_rate': 0.7,\n",
       "  'undersampling_rate': 0.8,\n",
       "  'precision': 0.0,\n",
       "  'recall': 0.0,\n",
       "  'f1_score': 0.0,\n",
       "  'auc': np.float64(0.541287384277888)},\n",
       " {'oversampling_rate': 0.7,\n",
       "  'undersampling_rate': 1.0,\n",
       "  'precision': 0.017001545595054096,\n",
       "  'recall': 0.5789473684210527,\n",
       "  'f1_score': 0.03303303303303303,\n",
       "  'auc': np.float64(0.5)}]"
      ]
     },
     "execution_count": 11,
     "metadata": {},
     "output_type": "execute_result"
    }
   ],
   "source": [
    "\n",
    "svm = SVC(kernel='rbf', probability=True, random_state=42)\n",
    "\n",
    "\n",
    "model_pipeline(svm,\"submission_svm\")"
   ]
  }
 ],
 "metadata": {
  "kernelspec": {
   "display_name": "venv",
   "language": "python",
   "name": "python3"
  },
  "language_info": {
   "codemirror_mode": {
    "name": "ipython",
    "version": 3
   },
   "file_extension": ".py",
   "mimetype": "text/x-python",
   "name": "python",
   "nbconvert_exporter": "python",
   "pygments_lexer": "ipython3",
   "version": "3.12.3"
  }
 },
 "nbformat": 4,
 "nbformat_minor": 2
}
